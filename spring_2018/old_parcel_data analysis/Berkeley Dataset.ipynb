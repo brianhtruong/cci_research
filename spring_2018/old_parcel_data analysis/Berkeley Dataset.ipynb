{
 "cells": [
  {
   "cell_type": "code",
   "execution_count": 1,
   "metadata": {},
   "outputs": [],
   "source": [
    "import numpy as np\n",
    "import pandas as pd"
   ]
  },
  {
   "cell_type": "markdown",
   "metadata": {},
   "source": [
    "## Investigating the Berkeley Dataset"
   ]
  },
  {
   "cell_type": "markdown",
   "metadata": {},
   "source": [
    "**What do the data contain?**\n",
    "\n",
    "Subset of the Alameda Dataset, specifically where SA_SITE_CITY is Berkeley.\n",
    "\n",
    "2 Subsets: Quantifications for Berkeley's JCE and Berkeley's RC"
   ]
  },
  {
   "cell_type": "code",
   "execution_count": 3,
   "metadata": {},
   "outputs": [],
   "source": [
    "# import alameda\n",
    "import pickle\n",
    "with open(\"ALAMEDA_V2_SUB.csv\", \"rb\") as f:\n",
    "    alameda = pickle.load(f)"
   ]
  },
  {
   "cell_type": "code",
   "execution_count": 17,
   "metadata": {},
   "outputs": [
    {
     "data": {
      "text/html": [
       "<div>\n",
       "<style scoped>\n",
       "    .dataframe tbody tr th:only-of-type {\n",
       "        vertical-align: middle;\n",
       "    }\n",
       "\n",
       "    .dataframe tbody tr th {\n",
       "        vertical-align: top;\n",
       "    }\n",
       "\n",
       "    .dataframe thead th {\n",
       "        text-align: right;\n",
       "    }\n",
       "</style>\n",
       "<table border=\"1\" class=\"dataframe\">\n",
       "  <thead>\n",
       "    <tr style=\"text-align: right;\">\n",
       "      <th></th>\n",
       "      <th>SA_PROPERTY_ID</th>\n",
       "      <th>SA_SCM_ID</th>\n",
       "      <th>MM_STATE_CODE</th>\n",
       "      <th>MM_MUNI_NAME</th>\n",
       "      <th>MM_FIPS_STATE_CODE</th>\n",
       "      <th>MM_FIPS_MUNI_CODE</th>\n",
       "      <th>MM_FIPS_COUNTY_NAME</th>\n",
       "      <th>SA_PARCEL_NBR_PRIMARY</th>\n",
       "      <th>SA_PARCEL_NBR_REFERENCE</th>\n",
       "      <th>SA_PARCEL_ACCOUNT_NBR</th>\n",
       "      <th>...</th>\n",
       "      <th>SA_GEO_QLTY_CODE</th>\n",
       "      <th>SA_CENSUS_TRACT</th>\n",
       "      <th>SA_CENSUS_BLOCK_GROUP</th>\n",
       "      <th>CORE_BASED_STATISTICAL_AREA_CODE</th>\n",
       "      <th>MINOR_CIVIL_DIVISION_CODE</th>\n",
       "      <th>FIPS_PLACE_CODE</th>\n",
       "      <th>SA_INACTIVE_PARCEL_FLAG</th>\n",
       "      <th>SA_SHELL_PARCEL_FLAG</th>\n",
       "      <th>FILLER</th>\n",
       "      <th>Subsidized</th>\n",
       "    </tr>\n",
       "  </thead>\n",
       "  <tbody>\n",
       "    <tr>\n",
       "      <th>0</th>\n",
       "      <td>38146934</td>\n",
       "      <td>33</td>\n",
       "      <td>CA</td>\n",
       "      <td>ALAMEDA</td>\n",
       "      <td>6</td>\n",
       "      <td>1</td>\n",
       "      <td>ALAMEDA</td>\n",
       "      <td>018 035500900</td>\n",
       "      <td>NaN</td>\n",
       "      <td>NaN</td>\n",
       "      <td>...</td>\n",
       "      <td>0</td>\n",
       "      <td>982000.0</td>\n",
       "      <td>1.0</td>\n",
       "      <td>41860.0</td>\n",
       "      <td>92230.0</td>\n",
       "      <td>53000.0</td>\n",
       "      <td>NaN</td>\n",
       "      <td>NaN</td>\n",
       "      <td>NaN</td>\n",
       "      <td>N</td>\n",
       "    </tr>\n",
       "    <tr>\n",
       "      <th>1</th>\n",
       "      <td>38146935</td>\n",
       "      <td>33</td>\n",
       "      <td>CA</td>\n",
       "      <td>ALAMEDA</td>\n",
       "      <td>6</td>\n",
       "      <td>1</td>\n",
       "      <td>ALAMEDA</td>\n",
       "      <td>018 035501000</td>\n",
       "      <td>NaN</td>\n",
       "      <td>NaN</td>\n",
       "      <td>...</td>\n",
       "      <td>0</td>\n",
       "      <td>981900.0</td>\n",
       "      <td>1.0</td>\n",
       "      <td>41860.0</td>\n",
       "      <td>92230.0</td>\n",
       "      <td>53000.0</td>\n",
       "      <td>NaN</td>\n",
       "      <td>NaN</td>\n",
       "      <td>NaN</td>\n",
       "      <td>N</td>\n",
       "    </tr>\n",
       "    <tr>\n",
       "      <th>2</th>\n",
       "      <td>38146936</td>\n",
       "      <td>33</td>\n",
       "      <td>CA</td>\n",
       "      <td>ALAMEDA</td>\n",
       "      <td>6</td>\n",
       "      <td>1</td>\n",
       "      <td>ALAMEDA</td>\n",
       "      <td>018 037500100</td>\n",
       "      <td>NaN</td>\n",
       "      <td>NaN</td>\n",
       "      <td>...</td>\n",
       "      <td>0</td>\n",
       "      <td>981900.0</td>\n",
       "      <td>1.0</td>\n",
       "      <td>41860.0</td>\n",
       "      <td>92230.0</td>\n",
       "      <td>53000.0</td>\n",
       "      <td>NaN</td>\n",
       "      <td>NaN</td>\n",
       "      <td>NaN</td>\n",
       "      <td>N</td>\n",
       "    </tr>\n",
       "    <tr>\n",
       "      <th>3</th>\n",
       "      <td>38146937</td>\n",
       "      <td>33</td>\n",
       "      <td>CA</td>\n",
       "      <td>ALAMEDA</td>\n",
       "      <td>6</td>\n",
       "      <td>1</td>\n",
       "      <td>ALAMEDA</td>\n",
       "      <td>018 037500302</td>\n",
       "      <td>NaN</td>\n",
       "      <td>NaN</td>\n",
       "      <td>...</td>\n",
       "      <td>0</td>\n",
       "      <td>981900.0</td>\n",
       "      <td>1.0</td>\n",
       "      <td>41860.0</td>\n",
       "      <td>92230.0</td>\n",
       "      <td>53000.0</td>\n",
       "      <td>NaN</td>\n",
       "      <td>NaN</td>\n",
       "      <td>NaN</td>\n",
       "      <td>N</td>\n",
       "    </tr>\n",
       "    <tr>\n",
       "      <th>4</th>\n",
       "      <td>38146949</td>\n",
       "      <td>33</td>\n",
       "      <td>CA</td>\n",
       "      <td>ALAMEDA</td>\n",
       "      <td>6</td>\n",
       "      <td>1</td>\n",
       "      <td>ALAMEDA</td>\n",
       "      <td>018 038500100</td>\n",
       "      <td>NaN</td>\n",
       "      <td>NaN</td>\n",
       "      <td>...</td>\n",
       "      <td>0</td>\n",
       "      <td>982000.0</td>\n",
       "      <td>1.0</td>\n",
       "      <td>41860.0</td>\n",
       "      <td>92230.0</td>\n",
       "      <td>53000.0</td>\n",
       "      <td>NaN</td>\n",
       "      <td>NaN</td>\n",
       "      <td>NaN</td>\n",
       "      <td>N</td>\n",
       "    </tr>\n",
       "  </tbody>\n",
       "</table>\n",
       "<p>5 rows × 191 columns</p>\n",
       "</div>"
      ],
      "text/plain": [
       "   SA_PROPERTY_ID  SA_SCM_ID MM_STATE_CODE MM_MUNI_NAME  MM_FIPS_STATE_CODE  \\\n",
       "0        38146934         33            CA      ALAMEDA                   6   \n",
       "1        38146935         33            CA      ALAMEDA                   6   \n",
       "2        38146936         33            CA      ALAMEDA                   6   \n",
       "3        38146937         33            CA      ALAMEDA                   6   \n",
       "4        38146949         33            CA      ALAMEDA                   6   \n",
       "\n",
       "   MM_FIPS_MUNI_CODE MM_FIPS_COUNTY_NAME SA_PARCEL_NBR_PRIMARY  \\\n",
       "0                  1             ALAMEDA         018 035500900   \n",
       "1                  1             ALAMEDA         018 035501000   \n",
       "2                  1             ALAMEDA         018 037500100   \n",
       "3                  1             ALAMEDA         018 037500302   \n",
       "4                  1             ALAMEDA         018 038500100   \n",
       "\n",
       "   SA_PARCEL_NBR_REFERENCE SA_PARCEL_ACCOUNT_NBR    ...      SA_GEO_QLTY_CODE  \\\n",
       "0                      NaN                   NaN    ...                     0   \n",
       "1                      NaN                   NaN    ...                     0   \n",
       "2                      NaN                   NaN    ...                     0   \n",
       "3                      NaN                   NaN    ...                     0   \n",
       "4                      NaN                   NaN    ...                     0   \n",
       "\n",
       "  SA_CENSUS_TRACT  SA_CENSUS_BLOCK_GROUP  CORE_BASED_STATISTICAL_AREA_CODE  \\\n",
       "0        982000.0                    1.0                           41860.0   \n",
       "1        981900.0                    1.0                           41860.0   \n",
       "2        981900.0                    1.0                           41860.0   \n",
       "3        981900.0                    1.0                           41860.0   \n",
       "4        982000.0                    1.0                           41860.0   \n",
       "\n",
       "  MINOR_CIVIL_DIVISION_CODE FIPS_PLACE_CODE SA_INACTIVE_PARCEL_FLAG  \\\n",
       "0                   92230.0         53000.0                     NaN   \n",
       "1                   92230.0         53000.0                     NaN   \n",
       "2                   92230.0         53000.0                     NaN   \n",
       "3                   92230.0         53000.0                     NaN   \n",
       "4                   92230.0         53000.0                     NaN   \n",
       "\n",
       "  SA_SHELL_PARCEL_FLAG FILLER Subsidized  \n",
       "0                  NaN    NaN          N  \n",
       "1                  NaN    NaN          N  \n",
       "2                  NaN    NaN          N  \n",
       "3                  NaN    NaN          N  \n",
       "4                  NaN    NaN          N  \n",
       "\n",
       "[5 rows x 191 columns]"
      ]
     },
     "execution_count": 17,
     "metadata": {},
     "output_type": "execute_result"
    }
   ],
   "source": [
    "alameda[]"
   ]
  },
  {
   "cell_type": "code",
   "execution_count": 9,
   "metadata": {},
   "outputs": [],
   "source": [
    "# Filter for Berkeley JCE only\n",
    "alameda = alameda[alameda['Subsidized'] == 'N']\n",
    "berkeley = alameda[alameda['SA_SITE_CITY'] == 'BERKELEY']\n",
    "# Save Berkeley Dataset and save again later\n",
    "#import pickle\n",
    "#with open(\"data/BERKELEY.csv\", \"wb\") as f:\n",
    "#    pickle.dump(berkeley, f)"
   ]
  },
  {
   "cell_type": "code",
   "execution_count": 10,
   "metadata": {},
   "outputs": [
    {
     "data": {
      "text/plain": [
       "(29957, 191)"
      ]
     },
     "execution_count": 10,
     "metadata": {},
     "output_type": "execute_result"
    }
   ],
   "source": [
    "# Check structure \n",
    "# (number of records, number of columns)\n",
    "berkeley.shape\n"
   ]
  },
  {
   "cell_type": "code",
   "execution_count": 11,
   "metadata": {},
   "outputs": [],
   "source": [
    "# Quoted comments refer to the lines in the JC and RC inventory. Specifically each coverage/exemption.\n",
    "\n",
    "# \"Units owned by a government agency\"\n",
    "# \"Nursing or hospital units or home for the aged and the like\"\n",
    "# Filter rows to only include residential buildings\n",
    "berkeley = berkeley[(berkeley['USE_CODE_STD'] == 'RAPT') | (berkeley['USE_CODE_STD'] == 'RCON') | (berkeley['USE_CODE_STD'] == 'RCOO') |\n",
    "                 (berkeley['USE_CODE_STD'] == 'RDUP') | (berkeley['USE_CODE_STD'] == 'RMFD') | (berkeley['USE_CODE_STD'] == 'RMOB') |\n",
    "                 (berkeley['USE_CODE_STD'] == 'RQUA') | (berkeley['USE_CODE_STD'] == 'RSFR') | (berkeley['USE_CODE_STD'] == 'RTIM') |\n",
    "                 (berkeley['USE_CODE_STD'] == 'RTRI')]\n",
    "\n",
    "# \"Two unit properties where one unit is owner-occupied\"\n",
    "# Filter out properties with 2 or more units and owner occupied\n",
    "berkeley = berkeley[~((berkeley['SA_SITE_MAIL_SAME'] == 'Y') & (berkeley['SA_NBR_UNITS'] >= 2))]\n",
    "\n",
    "# Could not figure out some things:\n",
    "# 1. \"Unit where tenant shares a bathroom or kitchen with the owner who maintains his principle residence there\"\n",
    "# 2. \"Units rented to transcient guests\"\n",
    "# 3. the \"for the aged and the like\" part in \"Nursing or hospital units or home for the aged and the like\"\n",
    "# 4. \"Units rented by certain instituations of higher learning to staff, students, or faculty\"\n",
    "# 5. \"Nonprofit housing owned and controlled by residents\"\n",
    "\n",
    "# I believe these 5 things might not be possible to find with our assessor data?"
   ]
  },
  {
   "cell_type": "code",
   "execution_count": 12,
   "metadata": {},
   "outputs": [
    {
     "data": {
      "text/plain": [
       "23088"
      ]
     },
     "execution_count": 12,
     "metadata": {},
     "output_type": "execute_result"
    }
   ],
   "source": [
    "# Berkeley's JCE number of records after filtering\n",
    "len(berkeley)"
   ]
  },
  {
   "cell_type": "code",
   "execution_count": 13,
   "metadata": {},
   "outputs": [],
   "source": [
    "# Filter for Berkeley RC only\n",
    "berk_rc = alameda[alameda['SA_SITE_CITY'] == 'BERKELEY']"
   ]
  },
  {
   "cell_type": "code",
   "execution_count": 14,
   "metadata": {},
   "outputs": [],
   "source": [
    "# Quoted comments refer to the lines in the JC and RC inventory. Specifically each coverage/exemption.\n",
    "\n",
    "# Filter rows to only include residential buildings\n",
    "berk_rc = berk_rc[(berk_rc['USE_CODE_STD'] == 'RAPT') | (berk_rc['USE_CODE_STD'] == 'RCON') | (berk_rc['USE_CODE_STD'] == 'RCOO') |\n",
    "                 (berk_rc['USE_CODE_STD'] == 'RDUP') | (berk_rc['USE_CODE_STD'] == 'RMFD') | (berk_rc['USE_CODE_STD'] == 'RMOB') |\n",
    "                 (berk_rc['USE_CODE_STD'] == 'RQUA') | (berk_rc['USE_CODE_STD'] == 'RSFR') | (berk_rc['USE_CODE_STD'] == 'RTIM') |\n",
    "                 (berk_rc['USE_CODE_STD'] == 'RTRI')]\n"
   ]
  },
  {
   "cell_type": "code",
   "execution_count": 15,
   "metadata": {},
   "outputs": [
    {
     "name": "stderr",
     "output_type": "stream",
     "text": [
      "/Users/briantruong/miniconda3/envs/data100/lib/python3.6/site-packages/ipykernel_launcher.py:21: UserWarning: Boolean Series key will be reindexed to match DataFrame index.\n"
     ]
    }
   ],
   "source": [
    "# \"Units eligible for RC:\"\n",
    "# \"Most multi-unit properties that were built before June 1980\"\n",
    "# \"Units eligible for RC: Single family homes with tenants who moved in prior to 1996\"\n",
    "\n",
    "# \"Units NOT eligible for RC: \"\n",
    "# \"Single-family homes first re-rented on or after 1/1/1996\"\n",
    "# APPROXIMATING THOSE ABOVE^^^^^^^^\n",
    "# Select buildings before 1996, this automatically include all buildings built before 1980. \n",
    "# It will also approximate buildings where people rented or moved in before 1996\n",
    "berk_rc = berk_rc[berk_rc['SA_YR_BLT'] < 1996]\n",
    "\n",
    "# \"Units eligible for RC:\"\n",
    "# \"Single family homes with 5 or more rooms rented out individually with seperate leases\"\n",
    "# Approximating above ^^^\n",
    "# Approximating by automatically removing single family with less than 5 rooms\n",
    "berk_rc = berk_rc[~((berk_rc['SA_NBR_BEDRMS'] < 5) & (berk_rc['USE_CODE_STD'] == 'RSFR'))]\n",
    "\n",
    "# \"Units NOT eligible for RC:\"\n",
    "# \"Any Duplex that was owner occupied on December 31, 1979 and currently has a owner living in one of the units\"\n",
    "# Approximates above ^^^\n",
    "berk_rc = berk_rc[~((berkeley['SA_SITE_MAIL_SAME'] == 'Y') & (berk_rc['USE_CODE_STD'] == 'RDUP'))]\n",
    "\n",
    "# Could not figure out some things:\n",
    "# 1. \"\"New Construction\": Units that were built and received a Certificate of Occupancy after June of 1970\"\n",
    "# 2. \"Section 8 Tenancies\"\n",
    "# 3. \"Units where tentants shares kitchen or bath with landlord\"\n",
    "# 4. How to figure out if tenant rented or moved in prior to 1996\n",
    "\n",
    "# I believe these 4 things might not be possible to find with our assessor data?\n"
   ]
  },
  {
   "cell_type": "code",
   "execution_count": 16,
   "metadata": {},
   "outputs": [
    {
     "data": {
      "text/plain": [
       "8522"
      ]
     },
     "execution_count": 16,
     "metadata": {},
     "output_type": "execute_result"
    }
   ],
   "source": [
    "# Berkeley's RC number of records after filtering\n",
    "len(berk_rc)"
   ]
  },
  {
   "cell_type": "code",
   "execution_count": null,
   "metadata": {},
   "outputs": [],
   "source": []
  }
 ],
 "metadata": {
  "kernelspec": {
   "display_name": "Python 3",
   "language": "python",
   "name": "python3"
  },
  "language_info": {
   "codemirror_mode": {
    "name": "ipython",
    "version": 3
   },
   "file_extension": ".py",
   "mimetype": "text/x-python",
   "name": "python",
   "nbconvert_exporter": "python",
   "pygments_lexer": "ipython3",
   "version": "3.6.4"
  }
 },
 "nbformat": 4,
 "nbformat_minor": 2
}
