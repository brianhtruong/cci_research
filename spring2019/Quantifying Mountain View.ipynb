{
 "cells": [
  {
   "cell_type": "code",
   "execution_count": 172,
   "metadata": {},
   "outputs": [],
   "source": [
    "import pandas as pd\n",
    "import numpy as np\n",
    "import seaborn as sns\n",
    "\n",
    "pd.set_option('display.width', 10000)\n",
    "pd.set_option('display.max_columns', 10000)\n",
    "import warnings\n",
    "warnings.filterwarnings('ignore')"
   ]
  },
  {
   "cell_type": "code",
   "execution_count": 173,
   "metadata": {},
   "outputs": [
    {
     "name": "stdout",
     "output_type": "stream",
     "text": [
      "(19444, 30)\n"
     ]
    }
   ],
   "source": [
    "# Import Mountain Valley mv.csv\n",
    "mv = pd.read_csv('mv.csv')\n",
    "\n",
    "# ImportParcelID more accurate than APN\n",
    "mv = mv.groupby('ImportParcelID', as_index = False).first()\n",
    "print(mv.shape)"
   ]
  },
  {
   "cell_type": "code",
   "execution_count": 174,
   "metadata": {},
   "outputs": [
    {
     "data": {
      "text/html": [
       "<div>\n",
       "<style scoped>\n",
       "    .dataframe tbody tr th:only-of-type {\n",
       "        vertical-align: middle;\n",
       "    }\n",
       "\n",
       "    .dataframe tbody tr th {\n",
       "        vertical-align: top;\n",
       "    }\n",
       "\n",
       "    .dataframe thead th {\n",
       "        text-align: right;\n",
       "    }\n",
       "</style>\n",
       "<table border=\"1\" class=\"dataframe\">\n",
       "  <thead>\n",
       "    <tr style=\"text-align: right;\">\n",
       "      <th></th>\n",
       "      <th>ImportParcelID</th>\n",
       "      <th>RowID</th>\n",
       "      <th>AssessorParcelNumber</th>\n",
       "      <th>PropertyFullStreetAddress</th>\n",
       "      <th>PropertyCity</th>\n",
       "      <th>PropertyState</th>\n",
       "      <th>PropertyZip</th>\n",
       "      <th>PropertyAddressLatitude</th>\n",
       "      <th>PropertyAddressLongitude</th>\n",
       "      <th>FIPS</th>\n",
       "      <th>PropertyZoningSourceCode</th>\n",
       "      <th>LotSizeSquareFeet</th>\n",
       "      <th>LotSizeAcres</th>\n",
       "      <th>RowID:1</th>\n",
       "      <th>PropertyCountyLandUseCode</th>\n",
       "      <th>PropertyLandUseStndCode</th>\n",
       "      <th>OccupancyStatusStndCode</th>\n",
       "      <th>YearBuilt</th>\n",
       "      <th>NoOfStories</th>\n",
       "      <th>NoOfUnits</th>\n",
       "      <th>TotalRooms</th>\n",
       "      <th>TotalBedrooms</th>\n",
       "      <th>TotalKitchens</th>\n",
       "      <th>TotalCalculatedBathCount</th>\n",
       "      <th>TotalActualBathCount</th>\n",
       "      <th>EffectiveYearBuilt</th>\n",
       "      <th>YearRemodeled</th>\n",
       "      <th>BuildingConditionStndCode</th>\n",
       "      <th>BuildingQualityStndCode</th>\n",
       "      <th>SewerStndCode</th>\n",
       "    </tr>\n",
       "  </thead>\n",
       "  <tbody>\n",
       "    <tr>\n",
       "      <th>0</th>\n",
       "      <td>9520031</td>\n",
       "      <td>AF799F2F-67D5-E511-80C1-3863BB43AC67</td>\n",
       "      <td>058-044-005</td>\n",
       "      <td>501 MOORPARK WAY</td>\n",
       "      <td>MOUNTAIN VIEW</td>\n",
       "      <td>CA</td>\n",
       "      <td>94041.0</td>\n",
       "      <td>37.3839</td>\n",
       "      <td>-122.065</td>\n",
       "      <td>6009</td>\n",
       "      <td>NaN</td>\n",
       "      <td>9148.0</td>\n",
       "      <td>NaN</td>\n",
       "      <td>AF799F2F-67D5-E511-80C1-3863BB43AC67</td>\n",
       "      <td>1100</td>\n",
       "      <td>RR101</td>\n",
       "      <td>O</td>\n",
       "      <td>2007.0</td>\n",
       "      <td>NaN</td>\n",
       "      <td>NaN</td>\n",
       "      <td>5.0</td>\n",
       "      <td>2.0</td>\n",
       "      <td>NaN</td>\n",
       "      <td>NaN</td>\n",
       "      <td>2.0</td>\n",
       "      <td>NaN</td>\n",
       "      <td>NaN</td>\n",
       "      <td>NaN</td>\n",
       "      <td>NaN</td>\n",
       "      <td>NaN</td>\n",
       "    </tr>\n",
       "    <tr>\n",
       "      <th>1</th>\n",
       "      <td>10568900</td>\n",
       "      <td>282BB02A-28D5-E511-80C1-3863BB43AC67</td>\n",
       "      <td>14-270-09</td>\n",
       "      <td>SOUTH LAKE RD</td>\n",
       "      <td>MOUNTAIN VIEW</td>\n",
       "      <td>CA</td>\n",
       "      <td>93514.0</td>\n",
       "      <td>NaN</td>\n",
       "      <td>NaN</td>\n",
       "      <td>6027</td>\n",
       "      <td>NaN</td>\n",
       "      <td>818057.0</td>\n",
       "      <td>18.78</td>\n",
       "      <td>282BB02A-28D5-E511-80C1-3863BB43AC67</td>\n",
       "      <td>111</td>\n",
       "      <td>RR101</td>\n",
       "      <td>NaN</td>\n",
       "      <td>1971.0</td>\n",
       "      <td>NaN</td>\n",
       "      <td>1.0</td>\n",
       "      <td>NaN</td>\n",
       "      <td>2.0</td>\n",
       "      <td>NaN</td>\n",
       "      <td>NaN</td>\n",
       "      <td>1.0</td>\n",
       "      <td>NaN</td>\n",
       "      <td>NaN</td>\n",
       "      <td>NaN</td>\n",
       "      <td>B</td>\n",
       "      <td>NaN</td>\n",
       "    </tr>\n",
       "  </tbody>\n",
       "</table>\n",
       "</div>"
      ],
      "text/plain": [
       "   ImportParcelID                                 RowID AssessorParcelNumber PropertyFullStreetAddress   PropertyCity PropertyState  PropertyZip  PropertyAddressLatitude  PropertyAddressLongitude  FIPS  PropertyZoningSourceCode  LotSizeSquareFeet  LotSizeAcres                               RowID:1 PropertyCountyLandUseCode PropertyLandUseStndCode OccupancyStatusStndCode  YearBuilt  NoOfStories  NoOfUnits  TotalRooms  TotalBedrooms  TotalKitchens  TotalCalculatedBathCount  TotalActualBathCount  EffectiveYearBuilt  YearRemodeled BuildingConditionStndCode BuildingQualityStndCode  SewerStndCode\n",
       "0         9520031  AF799F2F-67D5-E511-80C1-3863BB43AC67          058-044-005          501 MOORPARK WAY  MOUNTAIN VIEW            CA      94041.0                  37.3839                  -122.065  6009                       NaN             9148.0           NaN  AF799F2F-67D5-E511-80C1-3863BB43AC67                  1100                       RR101                       O     2007.0          NaN        NaN         5.0            2.0            NaN                       NaN                   2.0                 NaN            NaN                       NaN                     NaN            NaN\n",
       "1        10568900  282BB02A-28D5-E511-80C1-3863BB43AC67            14-270-09             SOUTH LAKE RD  MOUNTAIN VIEW            CA      93514.0                      NaN                       NaN  6027                       NaN           818057.0         18.78  282BB02A-28D5-E511-80C1-3863BB43AC67                       111                   RR101                     NaN     1971.0          NaN        1.0         NaN            2.0            NaN                       NaN                   1.0                 NaN            NaN                       NaN                      B             NaN"
      ]
     },
     "execution_count": 174,
     "metadata": {},
     "output_type": "execute_result"
    }
   ],
   "source": [
    "mv.head(2)"
   ]
  },
  {
   "cell_type": "code",
   "execution_count": 175,
   "metadata": {},
   "outputs": [],
   "source": [
    "# Load CHPC which will help determine if property is subsidized\n",
    "chpc = pd.read_excel('chpc.xls', sheet_name='Cleaned')\n",
    "\n",
    "chpc.head(1)\n",
    "\n",
    "# Cleaning so that we can properly join Ztrax and CHPC data\n",
    "chpc['Address_Num'] = chpc['Address_Cleaned'].str.extract(r'(\\d+)')\n",
    "chpc['Address_Name'] = chpc['Address_Cleaned'].str.extract(r'([^\\d,-]\\w+)')\n",
    "chpc['Address_Name'] = chpc['Address_Name'].str.upper()\n",
    "#chpc.head(3)\n",
    "\n",
    "# Cleaning again\n",
    "mv['Address_Num'] = mv['PropertyFullStreetAddress'].str.extract(r'(\\d+)')\n",
    "mv['Address_Name'] = mv['PropertyFullStreetAddress'].str.extract(r'([^\\d,-]\\w+)')\n",
    "mv['Address_Name'] = mv['Address_Name'].str.upper()\n",
    "#epa.head(3)\n",
    "\n",
    "# Merge based on euclidean distance\n",
    "chpc = chpc.dropna(subset=['Longitude', 'Latitude'])\n",
    "def merge_euclidean(table, chpc, eps=0.001):\n",
    "    chpc_list = []\n",
    "    table['merge_row'] = table.index.values\n",
    "    for i, row in table.iterrows():\n",
    "        chpc_subset = chpc.loc[((chpc.Longitude - row.PropertyAddressLongitude)**2 + (chpc.Latitude - row.PropertyAddressLatitude)**2 < eps) & (chpc.Address_Num == row.Address_Num) & (chpc.Address_Name == row.Address_Name)]\n",
    "        chpc_subset['merge_row'] = i\n",
    "        chpc_list.append(chpc_subset)\n",
    "    chpc_found = pd.concat(chpc_list)\n",
    "\n",
    "    result = pd.merge(table, chpc_found, on='merge_row', how='inner')\n",
    "    return result\n",
    "\n",
    "t = merge_euclidean(mv, chpc)\n",
    "\n",
    "# These were the matches so attach 'Y' for subsidized\n",
    "t['Subsidized'] = 'Y'\n",
    "t.head(2)\n",
    "\n",
    "# Rejoin with original epa table to identify subsidized units\n",
    "t = t[['ImportParcelID', 'Subsidized']]\n",
    "mv = pd.merge(mv, t, on='ImportParcelID', how='left')\n",
    "mv.fillna(value={'Subsidized': 'N'}, inplace=True)\n",
    "#mv.head()\n"
   ]
  },
  {
   "cell_type": "code",
   "execution_count": 177,
   "metadata": {},
   "outputs": [
    {
     "data": {
      "text/plain": [
       "(19435, 34)"
      ]
     },
     "execution_count": 177,
     "metadata": {},
     "output_type": "execute_result"
    }
   ],
   "source": [
    "# Drop subsidized units\n",
    "mv = mv[mv['Subsidized'] == 'N']\n",
    "mv.shape"
   ]
  },
  {
   "cell_type": "code",
   "execution_count": 178,
   "metadata": {
    "scrolled": true
   },
   "outputs": [
    {
     "data": {
      "text/plain": [
       "count     1000.000000\n",
       "mean     18326.119000\n",
       "std       1312.485295\n",
       "min      14363.000000\n",
       "25%      17473.750000\n",
       "50%      18307.500000\n",
       "75%      19150.750000\n",
       "max      22806.000000\n",
       "dtype: object"
      ]
     },
     "metadata": {},
     "output_type": "display_data"
    },
    {
     "data": {
      "text/plain": [
       "Text(0.5,1,'Raw')"
      ]
     },
     "metadata": {},
     "output_type": "display_data"
    },
    {
     "name": "stdout",
     "output_type": "stream",
     "text": [
      "16.67% current number: 18385.0\n",
      "33.33% current number: 18385.0\n",
      "66.67% current number: 18385.0\n",
      "83.33% current number: 18413.0\n",
      "100.0% current number: 36016.0\n"
     ]
    },
    {
     "data": {
      "text/plain": [
       "count     1000.000000\n",
       "mean     36051.687000\n",
       "std       1305.396938\n",
       "min      31968.000000\n",
       "25%      35152.000000\n",
       "50%      35977.000000\n",
       "75%      36918.250000\n",
       "max      40234.000000\n",
       "dtype: object"
      ]
     },
     "metadata": {},
     "output_type": "display_data"
    },
    {
     "data": {
      "text/plain": [
       "Text(0.5,1,'Cleaned')"
      ]
     },
     "metadata": {},
     "output_type": "display_data"
    },
    {
     "data": {
      "image/png": "[encoded data removed]",
      "text/plain": [
       "<Figure size 432x288 with 1 Axes>"
      ]
     },
     "metadata": {},
     "output_type": "display_data"
    }
   ],
   "source": [
    "def mend_units(df, fix):\n",
    "    # Visualizations\n",
    "    np.random.seed(707)\n",
    "    res = pd.Series([\n",
    "        df['NoOfUnits'].sample(len(df), replace = True).sum() \n",
    "        for _ in range(1000)\n",
    "    ])\n",
    "    display(res.describe().apply(lambda x: format(x, 'f')))\n",
    "    display(sns.distplot(res, vertical = True).set_title('Raw'))\n",
    "    def clean_units(df):\n",
    "        import numpy as np\n",
    "        import pandas as pd\n",
    "        data_dict = pd.read_excel('ZAsmt_DataDictionary_2016-01.xlsx', sheet_name='LandUse', header=5, usecols=np.arange(4))\n",
    "        residential = data_dict[data_dict['Prefix Code Classification'].isin(['RI', 'RR'])]\n",
    "        R = residential['StndCode']\n",
    "        progress = np.linspace(0, 100, 7)[1:]\n",
    "        print(str(round(progress[0], 2))+'%', 'current number:', df.NoOfUnits.sum())\n",
    "        # Include only Residentials\n",
    "        df = df[df['PropertyLandUseStndCode'].isin(R)]\n",
    "        print(str(round(progress[1], 2))+'%', 'current number:', df.NoOfUnits.sum())\n",
    "        medians = df.groupby('PropertyLandUseStndCode')['NoOfUnits'].median()\n",
    "        import math\n",
    "        if fix:\n",
    "            def fix_units(r):\n",
    "                code = r['PropertyLandUseStndCode']\n",
    "                units = r['NoOfUnits']\n",
    "                # return median if 0 or NaN\n",
    "                #if units == 0.0 or math.isnan(units):\n",
    "                    #return medians[code]\n",
    "\n",
    "                #if code == 'RI104' and units < 5.0:\n",
    "                    #return medians[code]\n",
    "                #elif code == 'RI105' and units < 100.0:\n",
    "                    #return medians[code]\n",
    "                #elif code == 'RI106' and units < 5.0:\n",
    "                    #return medians[code]\n",
    "                if code == 'RI101': # duplex\n",
    "                    return 2.0\n",
    "                elif code == 'RI102': # triplex\n",
    "                    return 3.0\n",
    "                elif code == 'RI103': # quad\n",
    "                    return 4.0\n",
    "\n",
    "                return r['NoOfUnits']\n",
    "            # Fix duplex, tri, quad, etc\n",
    "            df['NoOfUnits'] = df.apply(fix_units, axis=1)\n",
    "            # Records without this field seem to have inaccurate NoOfUnits\n",
    "            df = df[pd.notnull(df['EffectiveYearBuilt'])]\n",
    "        print(str(round(progress[3], 2))+'%', 'current number:', df.NoOfUnits.sum())\n",
    "        # Fill nans with 1 for now\n",
    "        value = {'NoOfUnits': 1}\n",
    "        df.fillna(value=value, inplace=True)\n",
    "        print(str(round(progress[4], 2))+'%', 'current number:', df.NoOfUnits.sum())\n",
    "        # Fill 0's with 1 for now\n",
    "        df = df.replace({'NoOfUnits': {0: 1}}) \n",
    "        print(str(round(progress[5], 2))+'%', 'current number:', df.NoOfUnits.sum())\n",
    "        return df\n",
    "    df = clean_units(df)\n",
    "\n",
    "    # Visualizations\n",
    "    np.random.seed(707)\n",
    "    res2 = pd.Series([\n",
    "        df['NoOfUnits'].sample(len(df), replace = True).sum() \n",
    "        for _ in range(1000)\n",
    "    ])\n",
    "    display(res2.describe().apply(lambda x: format(x, 'f')))\n",
    "    display(sns.distplot(res2, vertical = True).set_title('Cleaned'))\n",
    "    return df\n",
    "\n",
    "# Only includes residential units\n",
    "mv = mend_units(mv, fix = False)"
   ]
  },
  {
   "cell_type": "markdown",
   "metadata": {},
   "source": [
    "# Round 1 (without NoOfUnits cleaning)"
   ]
  },
  {
   "cell_type": "code",
   "execution_count": 179,
   "metadata": {},
   "outputs": [
    {
     "name": "stdout",
     "output_type": "stream",
     "text": [
      "Current number: 36016.0\n"
     ]
    }
   ],
   "source": [
    "# Clean and filter for Mountain View JCE only\n",
    "mv_jc = mv[mv['PropertyCity'] == 'MOUNTAIN VIEW']\n",
    "print('Current number:', mv_jc.NoOfUnits.sum())"
   ]
  },
  {
   "cell_type": "code",
   "execution_count": 180,
   "metadata": {},
   "outputs": [
    {
     "name": "stdout",
     "output_type": "stream",
     "text": [
      "Final number: 17920.0\n"
     ]
    }
   ],
   "source": [
    "# Exempt- Single-family homes and condos, companion units, duplexes\n",
    "mv_jc = mv_jc[~mv_jc['PropertyLandUseStndCode'].isin(['RR101', 'RR999', 'RR106', 'RI101'])]\n",
    "print('Final number:', mv_jc.NoOfUnits.sum())"
   ]
  },
  {
   "cell_type": "code",
   "execution_count": 181,
   "metadata": {},
   "outputs": [
    {
     "name": "stdout",
     "output_type": "stream",
     "text": [
      "Current number: 36016.0\n"
     ]
    }
   ],
   "source": [
    "# Clean and filter for East Palo Alto Rent Control only\n",
    "mv_rc = mv[mv['PropertyCity'] == 'MOUNTAIN VIEW']\n",
    "print('Current number:', mv_rc.NoOfUnits.sum())"
   ]
  },
  {
   "cell_type": "code",
   "execution_count": 182,
   "metadata": {},
   "outputs": [
    {
     "name": "stdout",
     "output_type": "stream",
     "text": [
      "Current number: 16696.0\n"
     ]
    }
   ],
   "source": [
    "\"\"\"\n",
    "# Units exempted from RC: units in hotels, motels, inns, tourist homes, \n",
    "# rooming, boarding houses, rental units in hospitals, convent, monastery, \n",
    "# extended medical care facility, asylum, non-profit home for the aged, government unit\n",
    "\"\"\"\n",
    "# ^ Already included in unit cleaning code when I only included residential units\n",
    "\n",
    "# Must be 3 or more units\n",
    "mv_rc = mv_rc[mv_rc['NoOfUnits'] >= 3]\n",
    "print('Current number:', mv_rc.NoOfUnits.sum())"
   ]
  },
  {
   "cell_type": "code",
   "execution_count": 183,
   "metadata": {},
   "outputs": [
    {
     "name": "stdout",
     "output_type": "stream",
     "text": [
      "Current number: 15578.0\n"
     ]
    }
   ],
   "source": [
    "# Built before 1995\n",
    "mv_rc = mv_rc[mv_rc['YearBuilt'] < 1995]\n",
    "print('Current number:', mv_rc.NoOfUnits.sum())"
   ]
  },
  {
   "cell_type": "code",
   "execution_count": 184,
   "metadata": {},
   "outputs": [
    {
     "name": "stdout",
     "output_type": "stream",
     "text": [
      "Current number: 14647.0\n"
     ]
    }
   ],
   "source": [
    "mv_rc = mv_rc[~((mv_rc['OccupancyStatusStndCode'].isin(['O', 'I'])))]\n",
    "print('Current number:', mv_rc.NoOfUnits.sum())"
   ]
  },
  {
   "cell_type": "code",
   "execution_count": 185,
   "metadata": {},
   "outputs": [
    {
     "name": "stdout",
     "output_type": "stream",
     "text": [
      "Final number: 14018.0\n"
     ]
    }
   ],
   "source": [
    "# Appropriate LandUseStndCodes and subtracting # of subsidized units\n",
    "# Excludes Frats, dorms, duplexes, boarding houses, and mobile homes\n",
    "r = ['RI000','RI102', 'RI103', 'RI104', 'RI105', 'RI106', 'RI107', 'RI112', 'RI114']\n",
    "mv_rc = mv_rc[mv_rc['PropertyLandUseStndCode'].isin(r)]\n",
    "\n",
    "round_1 = mv_rc.NoOfUnits.sum()\n",
    "print('Final number:', round_1)"
   ]
  },
  {
   "cell_type": "code",
   "execution_count": 186,
   "metadata": {},
   "outputs": [
    {
     "data": {
      "text/html": [
       "<div>\n",
       "<style scoped>\n",
       "    .dataframe tbody tr th:only-of-type {\n",
       "        vertical-align: middle;\n",
       "    }\n",
       "\n",
       "    .dataframe tbody tr th {\n",
       "        vertical-align: top;\n",
       "    }\n",
       "\n",
       "    .dataframe thead th {\n",
       "        text-align: right;\n",
       "    }\n",
       "</style>\n",
       "<table border=\"1\" class=\"dataframe\">\n",
       "  <thead>\n",
       "    <tr style=\"text-align: right;\">\n",
       "      <th></th>\n",
       "      <th>ImportParcelID</th>\n",
       "      <th>RowID</th>\n",
       "      <th>AssessorParcelNumber</th>\n",
       "      <th>PropertyFullStreetAddress</th>\n",
       "      <th>PropertyCity</th>\n",
       "      <th>PropertyState</th>\n",
       "      <th>PropertyZip</th>\n",
       "      <th>PropertyAddressLatitude</th>\n",
       "      <th>PropertyAddressLongitude</th>\n",
       "      <th>FIPS</th>\n",
       "      <th>PropertyZoningSourceCode</th>\n",
       "      <th>LotSizeSquareFeet</th>\n",
       "      <th>LotSizeAcres</th>\n",
       "      <th>RowID:1</th>\n",
       "      <th>PropertyCountyLandUseCode</th>\n",
       "      <th>PropertyLandUseStndCode</th>\n",
       "      <th>OccupancyStatusStndCode</th>\n",
       "      <th>YearBuilt</th>\n",
       "      <th>NoOfStories</th>\n",
       "      <th>NoOfUnits</th>\n",
       "      <th>TotalRooms</th>\n",
       "      <th>TotalBedrooms</th>\n",
       "      <th>TotalKitchens</th>\n",
       "      <th>TotalCalculatedBathCount</th>\n",
       "      <th>TotalActualBathCount</th>\n",
       "      <th>EffectiveYearBuilt</th>\n",
       "      <th>YearRemodeled</th>\n",
       "      <th>BuildingConditionStndCode</th>\n",
       "      <th>BuildingQualityStndCode</th>\n",
       "      <th>SewerStndCode</th>\n",
       "      <th>Address_Num</th>\n",
       "      <th>Address_Name</th>\n",
       "      <th>merge_row</th>\n",
       "      <th>Subsidized</th>\n",
       "    </tr>\n",
       "  </thead>\n",
       "  <tbody>\n",
       "    <tr>\n",
       "      <th>9383</th>\n",
       "      <td>19700025</td>\n",
       "      <td>040F2C9C-2BD5-E511-80C1-3863BB43AC67</td>\n",
       "      <td>158-49-001</td>\n",
       "      <td>555 E MIDDLEFIELD RD</td>\n",
       "      <td>MOUNTAIN VIEW</td>\n",
       "      <td>CA</td>\n",
       "      <td>94043.0</td>\n",
       "      <td>37.395</td>\n",
       "      <td>-122.053</td>\n",
       "      <td>6085</td>\n",
       "      <td>NaN</td>\n",
       "      <td>632491.0</td>\n",
       "      <td>14.52</td>\n",
       "      <td>040F2C9C-2BD5-E511-80C1-3863BB43AC67</td>\n",
       "      <td>04</td>\n",
       "      <td>RI104</td>\n",
       "      <td>NaN</td>\n",
       "      <td>1969.0</td>\n",
       "      <td>3.0</td>\n",
       "      <td>402.0</td>\n",
       "      <td>0.0</td>\n",
       "      <td>0.0</td>\n",
       "      <td>NaN</td>\n",
       "      <td>0.0</td>\n",
       "      <td>NaN</td>\n",
       "      <td>1969.0</td>\n",
       "      <td>NaN</td>\n",
       "      <td>AV</td>\n",
       "      <td>NaN</td>\n",
       "      <td>NaN</td>\n",
       "      <td>555</td>\n",
       "      <td>E</td>\n",
       "      <td>9383</td>\n",
       "      <td>N</td>\n",
       "    </tr>\n",
       "  </tbody>\n",
       "</table>\n",
       "</div>"
      ],
      "text/plain": [
       "      ImportParcelID                                 RowID AssessorParcelNumber PropertyFullStreetAddress   PropertyCity PropertyState  PropertyZip  PropertyAddressLatitude  PropertyAddressLongitude  FIPS  PropertyZoningSourceCode  LotSizeSquareFeet  LotSizeAcres                               RowID:1 PropertyCountyLandUseCode PropertyLandUseStndCode OccupancyStatusStndCode  YearBuilt  NoOfStories  NoOfUnits  TotalRooms  TotalBedrooms  TotalKitchens  TotalCalculatedBathCount  TotalActualBathCount  EffectiveYearBuilt  YearRemodeled BuildingConditionStndCode BuildingQualityStndCode  SewerStndCode Address_Num Address_Name  merge_row Subsidized\n",
       "9383        19700025  040F2C9C-2BD5-E511-80C1-3863BB43AC67           158-49-001      555 E MIDDLEFIELD RD  MOUNTAIN VIEW            CA      94043.0                   37.395                  -122.053  6085                       NaN           632491.0         14.52  040F2C9C-2BD5-E511-80C1-3863BB43AC67                  04                         RI104                     NaN     1969.0          3.0      402.0         0.0            0.0            NaN                       0.0                   NaN              1969.0            NaN                        AV                     NaN            NaN         555            E       9383          N"
      ]
     },
     "execution_count": 186,
     "metadata": {},
     "output_type": "execute_result"
    }
   ],
   "source": [
    "# check for oddities?\n",
    "mv_rc[mv_rc['NoOfUnits'] == mv_rc['NoOfUnits'].max()]"
   ]
  },
  {
   "cell_type": "markdown",
   "metadata": {},
   "source": [
    "# Round 2 (with NoOfUnits cleaning)"
   ]
  },
  {
   "cell_type": "code",
   "execution_count": 187,
   "metadata": {},
   "outputs": [
    {
     "name": "stdout",
     "output_type": "stream",
     "text": [
      "(19444, 30)\n"
     ]
    },
    {
     "data": {
      "text/plain": [
       "count     1000.000000\n",
       "mean     18326.119000\n",
       "std       1312.485295\n",
       "min      14363.000000\n",
       "25%      17473.750000\n",
       "50%      18307.500000\n",
       "75%      19150.750000\n",
       "max      22806.000000\n",
       "dtype: object"
      ]
     },
     "metadata": {},
     "output_type": "display_data"
    },
    {
     "data": {
      "text/plain": [
       "Text(0.5,1,'Raw')"
      ]
     },
     "metadata": {},
     "output_type": "display_data"
    },
    {
     "name": "stdout",
     "output_type": "stream",
     "text": [
      "16.67% current number: 18385.0\n",
      "33.33% current number: 18385.0\n",
      "66.67% current number: 17782.0\n",
      "83.33% current number: 17784.0\n",
      "100.0% current number: 33274.0\n"
     ]
    },
    {
     "data": {
      "text/plain": [
       "count     1000.000000\n",
       "mean     33275.618000\n",
       "std       1263.762417\n",
       "min      28825.000000\n",
       "25%      32381.500000\n",
       "50%      33257.500000\n",
       "75%      34136.500000\n",
       "max      37534.000000\n",
       "dtype: object"
      ]
     },
     "metadata": {},
     "output_type": "display_data"
    },
    {
     "data": {
      "text/plain": [
       "Text(0.5,1,'Cleaned')"
      ]
     },
     "metadata": {},
     "output_type": "display_data"
    },
    {
     "data": {
      "image/png": "[encoded data removed]",
      "text/plain": [
       "<Figure size 432x288 with 1 Axes>"
      ]
     },
     "metadata": {},
     "output_type": "display_data"
    }
   ],
   "source": [
    "# Import Mountain Valley mv.csv\n",
    "mv = pd.read_csv('mv.csv')\n",
    "\n",
    "# ImportParcelID more accurate than APN\n",
    "mv = mv.groupby('ImportParcelID', as_index = False).first()\n",
    "print(mv.shape)\n",
    "\n",
    "mv.head(2)\n",
    "\n",
    "# Load CHPC which will help determine if property is subsidized\n",
    "chpc = pd.read_excel('chpc.xls', sheet_name='Cleaned')\n",
    "\n",
    "chpc.head(1)\n",
    "\n",
    "# Cleaning so that we can properly join Ztrax and CHPC data\n",
    "chpc['Address_Num'] = chpc['Address_Cleaned'].str.extract(r'(\\d+)')\n",
    "chpc['Address_Name'] = chpc['Address_Cleaned'].str.extract(r'([^\\d,-]\\w+)')\n",
    "chpc['Address_Name'] = chpc['Address_Name'].str.upper()\n",
    "#chpc.head(3)\n",
    "\n",
    "# Cleaning again\n",
    "mv['Address_Num'] = mv['PropertyFullStreetAddress'].str.extract(r'(\\d+)')\n",
    "mv['Address_Name'] = mv['PropertyFullStreetAddress'].str.extract(r'([^\\d,-]\\w+)')\n",
    "mv['Address_Name'] = mv['Address_Name'].str.upper()\n",
    "#epa.head(3)\n",
    "\n",
    "# Merge based on euclidean distance\n",
    "chpc = chpc.dropna(subset=['Longitude', 'Latitude'])\n",
    "def merge_euclidean(table, chpc, eps=0.001):\n",
    "    chpc_list = []\n",
    "    table['merge_row'] = table.index.values\n",
    "    for i, row in table.iterrows():\n",
    "        chpc_subset = chpc.loc[((chpc.Longitude - row.PropertyAddressLongitude)**2 + (chpc.Latitude - row.PropertyAddressLatitude)**2 < eps) & (chpc.Address_Num == row.Address_Num) & (chpc.Address_Name == row.Address_Name)]\n",
    "        chpc_subset['merge_row'] = i\n",
    "        chpc_list.append(chpc_subset)\n",
    "    chpc_found = pd.concat(chpc_list)\n",
    "\n",
    "    result = pd.merge(table, chpc_found, on='merge_row', how='inner')\n",
    "    return result\n",
    "\n",
    "t = merge_euclidean(mv, chpc)\n",
    "\n",
    "# These were the matches so attach 'Y' for subsidized\n",
    "t['Subsidized'] = 'Y'\n",
    "t.head(2)\n",
    "\n",
    "# Rejoin with original epa table to identify subsidized units\n",
    "t = t[['ImportParcelID', 'Subsidized']]\n",
    "mv = pd.merge(mv, t, on='ImportParcelID', how='left')\n",
    "mv.fillna(value={'Subsidized': 'N'}, inplace=True)\n",
    "#mv.head()\n",
    "\n",
    "\n",
    "mv[mv['Subsidized'] == 'Y']['NoOfUnits'].sum()\n",
    "\n",
    "# Drop subsidized units\n",
    "mv = mv[mv['Subsidized'] == 'N']\n",
    "mv.shape\n",
    "\n",
    "# Only includes residential units\n",
    "mv = mend_units(mv, fix = True)"
   ]
  },
  {
   "cell_type": "code",
   "execution_count": 188,
   "metadata": {},
   "outputs": [
    {
     "name": "stdout",
     "output_type": "stream",
     "text": [
      "Current number: 33274.0\n",
      "Final number: 16155.0\n",
      "Current number: 33274.0\n",
      "Current number: 16043.0\n",
      "Current number: 14925.0\n",
      "Current number: 14066.0\n",
      "Final number: 13503.0\n"
     ]
    }
   ],
   "source": [
    "# Clean and filter for Mountain View JCE only\n",
    "mv_jc = mv[mv['PropertyCity'] == 'MOUNTAIN VIEW']\n",
    "print('Current number:', mv_jc.NoOfUnits.sum())\n",
    "\n",
    "# Exempt- Single-family homes and condos, companion units, duplexes\n",
    "mv_jc = mv_jc[~mv_jc['PropertyLandUseStndCode'].isin(['RR101', 'RR999', 'RR106', 'RI101'])]\n",
    "print('Final number:', mv_jc.NoOfUnits.sum())\n",
    "\n",
    "# Clean and filter for East Palo Alto Rent Control only\n",
    "mv_rc = mv[mv['PropertyCity'] == 'MOUNTAIN VIEW']\n",
    "print('Current number:', mv_rc.NoOfUnits.sum())\n",
    "\n",
    "\"\"\"\n",
    "# Units exempted from RC: units in hotels, motels, inns, tourist homes, \n",
    "# rooming, boarding houses, rental units in hospitals, convent, monastery, \n",
    "# extended medical care facility, asylum, non-profit home for the aged, government unit\n",
    "\"\"\"\n",
    "# ^ Already included in unit cleaning code when I only included residential units\n",
    "\n",
    "# Must be 3 or more units\n",
    "mv_rc = mv_rc[mv_rc['NoOfUnits'] >= 3]\n",
    "print('Current number:', mv_rc.NoOfUnits.sum())\n",
    "\n",
    "# Built before 1995\n",
    "mv_rc = mv_rc[mv_rc['YearBuilt'] < 1995]\n",
    "print('Current number:', mv_rc.NoOfUnits.sum())\n",
    "\n",
    "mv_rc = mv_rc[~((mv_rc['OccupancyStatusStndCode'].isin(['O', 'I'])))]\n",
    "print('Current number:', mv_rc.NoOfUnits.sum())\n",
    "\n",
    "# Appropriate LandUseStndCodes and subtracting # of subsidized units\n",
    "# Excludes Frats, dorms, duplexes, boarding houses, and mobile homes\n",
    "r = ['RI000','RI102', 'RI103', 'RI104', 'RI105', 'RI106', 'RI107', 'RI112', 'RI114']\n",
    "mv_rc = mv_rc[mv_rc['PropertyLandUseStndCode'].isin(r)]\n",
    "\n",
    "round_2 = mv_rc.NoOfUnits.sum()\n",
    "print('Final number:', round_2)\n"
   ]
  },
  {
   "cell_type": "code",
   "execution_count": 189,
   "metadata": {},
   "outputs": [
    {
     "name": "stdout",
     "output_type": "stream",
     "text": [
      "Round 1 error: 518.0 \n",
      "Round 2 error: 3.0\n"
     ]
    }
   ],
   "source": [
    "# Difference between the rounds\n",
    "# Round 2 is much more accurate\n",
    "err_round_1 = abs(13500 - round_1)\n",
    "err_round_2 = abs(13500 - round_2)\n",
    "print(\"Round 1 error:\", err_round_1, \"\\nRound 2 error:\", err_round_2)"
   ]
  },
  {
   "cell_type": "code",
   "execution_count": null,
   "metadata": {},
   "outputs": [],
   "source": []
  }
 ],
 "metadata": {
  "anaconda-cloud": {},
  "kernelspec": {
   "display_name": "Python 3",
   "language": "python",
   "name": "python3"
  }
 },
 "nbformat": 4,
 "nbformat_minor": 2
}
