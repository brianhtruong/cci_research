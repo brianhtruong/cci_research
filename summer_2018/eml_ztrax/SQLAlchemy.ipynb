{
 "cells": [
  {
   "cell_type": "code",
   "execution_count": 199,
   "metadata": {},
   "outputs": [],
   "source": [
    "import sqlalchemy"
   ]
  },
  {
   "cell_type": "code",
   "execution_count": 200,
   "metadata": {},
   "outputs": [],
   "source": [
    "# Connect to a local SQLite database. SQLite is a simple file oriented database management \"library.\" \n",
    "# in the following we launch a SQLite database stored in the .db file in the local folder.\n",
    "from pathlib import Path\n",
    "dbfile = Path(\"ZMB.db\")\n",
    "#if dbfile.exists():\n",
    "    #dbfile.unlink()\n",
    "\n",
    "sqlite_uri = \"sqlite:///ZMB.db\"\n",
    "sqlite_engine = sqlalchemy.create_engine(sqlite_uri)"
   ]
  },
  {
   "cell_type": "code",
   "execution_count": 201,
   "metadata": {},
   "outputs": [
    {
     "data": {
      "text/plain": [
       "['main', 'tips']"
      ]
     },
     "execution_count": 201,
     "metadata": {},
     "output_type": "execute_result"
    }
   ],
   "source": [
    "# Check tables\n",
    "sqlite_engine.table_names()"
   ]
  },
  {
   "cell_type": "code",
   "execution_count": 202,
   "metadata": {},
   "outputs": [
    {
     "data": {
      "text/plain": [
       "'CREATE TABLE main( RowID uniqueidentifier(16), ImportParcelID bigint(8), FIPS char(5), State char(2), County varchar(50), ValueCertDate date(3), ExtractDate varchar(6), Edition smallint(2), ZVendorStndCode char(3), AssessorParcelNumber varchar(50), DupAPN char(2), UnformattedAssessorParcelNumber varchar(50), ParcelSequenceNumber int(4), AlternateParcelNumber varchar(50), OldParcelNumber varchar(50), ParcelNumberTypeStndCode char(1), RecordSourceStndCode char(1), RecordTypeStndCode char(2), ConfidentialRecordFlag char(1), PropertyAddressSourceStndCode char(1), PropertyHouseNumber varchar(13), PropertyHouseNumberExt varchar(10), PropertyStreetPreDirectional char(2), PropertyStreetName varchar(50), PropertyStreetSuffix varchar(6), PropertyStreetPostDirectional char(2), PropertyFullStreetAddress varchar(80), PropertyCity varchar(45), PropertyState char(2), PropertyZip varchar(5), PropertyZip4 char(4), OriginalPropertyFullStreetAddress varchar(100), OriginalPropertyAddressLastline varchar(100), PropertyBuildingNumber varchar(45), PropertyZoningDescription varchar(75), PropertyZoningSourceCode varchar(75), CensusTract varchar(10), TaxIDNumber varchar(50), TaxAmount money(8), TaxYear int(4), TaxDelinquencyFlag char(1), TaxDelinquencyAmount money(8), TaxDelinquencyYear int(4), TaxRateCodeArea varchar(45), LegalLot varchar(30), LegalLotStndCode char(2), LegalOtherLot varchar(30), LegalBlock varchar(15), LegalSubdivisionCode varchar(10), LegalSubdivisionName varchar(100), LegalCondoProjectPUDDevName varchar(50), LegalBuildingNumber varchar(45), LegalUnit varchar(15), LegalSection varchar(15), LegalPhase varchar(15), LegalTract varchar(15), LegalDistrict varchar(45), LegalMunicipality varchar(50), LegalCity varchar(50), LegalTownship varchar(50), LegalSTRSection varchar(35), LegalSTRTownship varchar(15), LegalSTRRange varchar(15), LegalSTRMeridian varchar(35), LegalSecTwnRngMer varchar(45), LegalRecordersMapReference varchar(45), LegalDescription varchar(-1), LegalNeighborhoodSourceCode varchar(25), NoOfBuildings int(4), LotSizeAcres decimal(11,3), LotSizeSquareFeet decimal(11,2), LotSizeFrontageFeet decimal(11,2), LotSizeDepthFeet decimal(11,2), LotSizeIRR varchar(25), LotSiteTopographyStndCode char(2), LoadID bigint(8), PropertyAddressMatchcode char(1), PropertyAddressUnitDesignator varchar(10), PropertyAddressUnitNumber varchar(11), PropertyAddressCarrierRoute char(4), PropertyAddressGeoCodeMatchCode char(1), PropertyAddressLatitude decimal(9,6), PropertyAddressLongitude decimal(9,6), PropertyAddressCensusTractAndBlock varchar(16), PropertyAddressConfidenceScore tinyint(1), PropertyAddressCBSACode int(4), PropertyAddressCBSADivisionCode int(4), PropertyAddressMatchType tinyint(1), PropertyAddressDPV char(1), PropertyGeocodeQualityCode varchar(10), PropertyAddressQualityCode varchar(10), SubEdition smallint(2), BatchID int(4), BKFSPID int(4), SourceChkSum int(4));'"
      ]
     },
     "execution_count": 202,
     "metadata": {},
     "output_type": "execute_result"
    }
   ],
   "source": [
    "# Get Ztrax dir\n",
    "path = Path(\"/scratch/public/ztrax/Zillow_Assessor/06/ZAsmt\")\n",
    "def get_fields(path, table_name):\n",
    "    layouts = pd.read_excel(path, sheet=1)\n",
    "    layout = layouts[layouts['TableName'] == ('ut'+table_name)]\n",
    "    field_names = layout.FieldName\n",
    "    return field_names.values, layouts\n",
    "\n",
    "# Get Main.txt fields\n",
    "main_fields, layouts = get_fields(Path('/accounts/projects/mzuk/brian-truong/Desktop/ca/Layout.xlsx'), 'Main')\n",
    "bldg_fields, layouts = get_fields(Path('/accounts/projects/mzuk/brian-truong/Desktop/ca/Layout.xlsx'), 'Building')\n",
    "\n",
    "# Get CREATE SQL queries for dataset\n",
    "def get_sql_fields(table_name, sql_name, layouts):\n",
    "    layout = layouts[layouts['TableName'] == table_name]\n",
    "    fields = layout['FieldName'] + ' ' + layout['DateType'] + '(' + (layout['MaxLength']).astype(str) + ')'\n",
    "    if table_name == 'utBuilding':\n",
    "        fields = fields.str.replace(r'RowID', 'RowID2')\n",
    "        fields = fields.str.replace(r'BatchID', 'BatchID2')\n",
    "        fields = fields.str.replace(r'FIPS', 'FIPS2')\n",
    "        fields = fields.str.replace(r'LoadID', 'LoadID2')\n",
    "    return ('CREATE TABLE ' + sql_name + '( ' + fields.str.cat(sep=', ') + ');')\n",
    "\n",
    "\n",
    "# Get UPDATE SQL queries for dataset. This is to solve the unescaped character.\n",
    "def get_esc(table_name, sql_name, layouts):\n",
    "    layout = layouts[layouts['TableName'] == table_name]\n",
    "    fields = layout['FieldName'] + ' ' \n",
    "    fields = 'update ' + sql_name + ' set ' + fields + '= REPLACE' + '('\n",
    "    fields = fields + layout['FieldName'] + ','\n",
    "    fields = fields + '\\'\"\\', \\'%-&-%\\')'\n",
    "    if table_name == 'utBuilding':\n",
    "        fields = fields.str.replace(r'RowID', 'RowID2')\n",
    "        fields = fields.str.replace(r'BatchID', 'BatchID2')\n",
    "        fields = fields.str.replace(r'FIPS', 'FIPS2')\n",
    "        fields = fields.str.replace(r'LoadID', 'LoadID2')\n",
    "    print(fields.str.cat(sep='; '))\n",
    "        \n",
    "main_sql = get_sql_fields('utMain', 'main', layouts)\n",
    "#get_esc('utMain', 'main', layouts)\n",
    "main_sql"
   ]
  },
  {
   "cell_type": "code",
   "execution_count": 203,
   "metadata": {},
   "outputs": [
    {
     "name": "stdout",
     "output_type": "stream",
     "text": [
      "update main set RowID = REPLACE(RowID,'\"', '%-&-%'); update main set ImportParcelID = REPLACE(ImportParcelID,'\"', '%-&-%'); update main set FIPS = REPLACE(FIPS,'\"', '%-&-%'); update main set State = REPLACE(State,'\"', '%-&-%'); update main set County = REPLACE(County,'\"', '%-&-%'); update main set ValueCertDate = REPLACE(ValueCertDate,'\"', '%-&-%'); update main set ExtractDate = REPLACE(ExtractDate,'\"', '%-&-%'); update main set Edition = REPLACE(Edition,'\"', '%-&-%'); update main set ZVendorStndCode = REPLACE(ZVendorStndCode,'\"', '%-&-%'); update main set AssessorParcelNumber = REPLACE(AssessorParcelNumber,'\"', '%-&-%'); update main set DupAPN = REPLACE(DupAPN,'\"', '%-&-%'); update main set UnformattedAssessorParcelNumber = REPLACE(UnformattedAssessorParcelNumber,'\"', '%-&-%'); update main set ParcelSequenceNumber = REPLACE(ParcelSequenceNumber,'\"', '%-&-%'); update main set AlternateParcelNumber = REPLACE(AlternateParcelNumber,'\"', '%-&-%'); update main set OldParcelNumber = REPLACE(OldParcelNumber,'\"', '%-&-%'); update main set ParcelNumberTypeStndCode = REPLACE(ParcelNumberTypeStndCode,'\"', '%-&-%'); update main set RecordSourceStndCode = REPLACE(RecordSourceStndCode,'\"', '%-&-%'); update main set RecordTypeStndCode = REPLACE(RecordTypeStndCode,'\"', '%-&-%'); update main set ConfidentialRecordFlag = REPLACE(ConfidentialRecordFlag,'\"', '%-&-%'); update main set PropertyAddressSourceStndCode = REPLACE(PropertyAddressSourceStndCode,'\"', '%-&-%'); update main set PropertyHouseNumber = REPLACE(PropertyHouseNumber,'\"', '%-&-%'); update main set PropertyHouseNumberExt = REPLACE(PropertyHouseNumberExt,'\"', '%-&-%'); update main set PropertyStreetPreDirectional = REPLACE(PropertyStreetPreDirectional,'\"', '%-&-%'); update main set PropertyStreetName = REPLACE(PropertyStreetName,'\"', '%-&-%'); update main set PropertyStreetSuffix = REPLACE(PropertyStreetSuffix,'\"', '%-&-%'); update main set PropertyStreetPostDirectional = REPLACE(PropertyStreetPostDirectional,'\"', '%-&-%'); update main set PropertyFullStreetAddress = REPLACE(PropertyFullStreetAddress,'\"', '%-&-%'); update main set PropertyCity = REPLACE(PropertyCity,'\"', '%-&-%'); update main set PropertyState = REPLACE(PropertyState,'\"', '%-&-%'); update main set PropertyZip = REPLACE(PropertyZip,'\"', '%-&-%'); update main set PropertyZip4 = REPLACE(PropertyZip4,'\"', '%-&-%'); update main set OriginalPropertyFullStreetAddress = REPLACE(OriginalPropertyFullStreetAddress,'\"', '%-&-%'); update main set OriginalPropertyAddressLastline = REPLACE(OriginalPropertyAddressLastline,'\"', '%-&-%'); update main set PropertyBuildingNumber = REPLACE(PropertyBuildingNumber,'\"', '%-&-%'); update main set PropertyZoningDescription = REPLACE(PropertyZoningDescription,'\"', '%-&-%'); update main set PropertyZoningSourceCode = REPLACE(PropertyZoningSourceCode,'\"', '%-&-%'); update main set CensusTract = REPLACE(CensusTract,'\"', '%-&-%'); update main set TaxIDNumber = REPLACE(TaxIDNumber,'\"', '%-&-%'); update main set TaxAmount = REPLACE(TaxAmount,'\"', '%-&-%'); update main set TaxYear = REPLACE(TaxYear,'\"', '%-&-%'); update main set TaxDelinquencyFlag = REPLACE(TaxDelinquencyFlag,'\"', '%-&-%'); update main set TaxDelinquencyAmount = REPLACE(TaxDelinquencyAmount,'\"', '%-&-%'); update main set TaxDelinquencyYear = REPLACE(TaxDelinquencyYear,'\"', '%-&-%'); update main set TaxRateCodeArea = REPLACE(TaxRateCodeArea,'\"', '%-&-%'); update main set LegalLot = REPLACE(LegalLot,'\"', '%-&-%'); update main set LegalLotStndCode = REPLACE(LegalLotStndCode,'\"', '%-&-%'); update main set LegalOtherLot = REPLACE(LegalOtherLot,'\"', '%-&-%'); update main set LegalBlock = REPLACE(LegalBlock,'\"', '%-&-%'); update main set LegalSubdivisionCode = REPLACE(LegalSubdivisionCode,'\"', '%-&-%'); update main set LegalSubdivisionName = REPLACE(LegalSubdivisionName,'\"', '%-&-%'); update main set LegalCondoProjectPUDDevName = REPLACE(LegalCondoProjectPUDDevName,'\"', '%-&-%'); update main set LegalBuildingNumber = REPLACE(LegalBuildingNumber,'\"', '%-&-%'); update main set LegalUnit = REPLACE(LegalUnit,'\"', '%-&-%'); update main set LegalSection = REPLACE(LegalSection,'\"', '%-&-%'); update main set LegalPhase = REPLACE(LegalPhase,'\"', '%-&-%'); update main set LegalTract = REPLACE(LegalTract,'\"', '%-&-%'); update main set LegalDistrict = REPLACE(LegalDistrict,'\"', '%-&-%'); update main set LegalMunicipality = REPLACE(LegalMunicipality,'\"', '%-&-%'); update main set LegalCity = REPLACE(LegalCity,'\"', '%-&-%'); update main set LegalTownship = REPLACE(LegalTownship,'\"', '%-&-%'); update main set LegalSTRSection = REPLACE(LegalSTRSection,'\"', '%-&-%'); update main set LegalSTRTownship = REPLACE(LegalSTRTownship,'\"', '%-&-%'); update main set LegalSTRRange = REPLACE(LegalSTRRange,'\"', '%-&-%'); update main set LegalSTRMeridian = REPLACE(LegalSTRMeridian,'\"', '%-&-%'); update main set LegalSecTwnRngMer = REPLACE(LegalSecTwnRngMer,'\"', '%-&-%'); update main set LegalRecordersMapReference = REPLACE(LegalRecordersMapReference,'\"', '%-&-%'); update main set LegalDescription = REPLACE(LegalDescription,'\"', '%-&-%'); update main set LegalNeighborhoodSourceCode = REPLACE(LegalNeighborhoodSourceCode,'\"', '%-&-%'); update main set NoOfBuildings = REPLACE(NoOfBuildings,'\"', '%-&-%'); update main set LotSizeAcres = REPLACE(LotSizeAcres,'\"', '%-&-%'); update main set LotSizeSquareFeet = REPLACE(LotSizeSquareFeet,'\"', '%-&-%'); update main set LotSizeFrontageFeet = REPLACE(LotSizeFrontageFeet,'\"', '%-&-%'); update main set LotSizeDepthFeet = REPLACE(LotSizeDepthFeet,'\"', '%-&-%'); update main set LotSizeIRR = REPLACE(LotSizeIRR,'\"', '%-&-%'); update main set LotSiteTopographyStndCode = REPLACE(LotSiteTopographyStndCode,'\"', '%-&-%'); update main set LoadID = REPLACE(LoadID,'\"', '%-&-%'); update main set PropertyAddressMatchcode = REPLACE(PropertyAddressMatchcode,'\"', '%-&-%'); update main set PropertyAddressUnitDesignator = REPLACE(PropertyAddressUnitDesignator,'\"', '%-&-%'); update main set PropertyAddressUnitNumber = REPLACE(PropertyAddressUnitNumber,'\"', '%-&-%'); update main set PropertyAddressCarrierRoute = REPLACE(PropertyAddressCarrierRoute,'\"', '%-&-%'); update main set PropertyAddressGeoCodeMatchCode = REPLACE(PropertyAddressGeoCodeMatchCode,'\"', '%-&-%'); update main set PropertyAddressLatitude = REPLACE(PropertyAddressLatitude,'\"', '%-&-%'); update main set PropertyAddressLongitude = REPLACE(PropertyAddressLongitude,'\"', '%-&-%'); update main set PropertyAddressCensusTractAndBlock = REPLACE(PropertyAddressCensusTractAndBlock,'\"', '%-&-%'); update main set PropertyAddressConfidenceScore = REPLACE(PropertyAddressConfidenceScore,'\"', '%-&-%'); update main set PropertyAddressCBSACode = REPLACE(PropertyAddressCBSACode,'\"', '%-&-%'); update main set PropertyAddressCBSADivisionCode = REPLACE(PropertyAddressCBSADivisionCode,'\"', '%-&-%'); update main set PropertyAddressMatchType = REPLACE(PropertyAddressMatchType,'\"', '%-&-%'); update main set PropertyAddressDPV = REPLACE(PropertyAddressDPV,'\"', '%-&-%'); update main set PropertyGeocodeQualityCode = REPLACE(PropertyGeocodeQualityCode,'\"', '%-&-%'); update main set PropertyAddressQualityCode = REPLACE(PropertyAddressQualityCode,'\"', '%-&-%'); update main set SubEdition = REPLACE(SubEdition,'\"', '%-&-%'); update main set BatchID = REPLACE(BatchID,'\"', '%-&-%'); update main set BKFSPID = REPLACE(BKFSPID,'\"', '%-&-%'); update main set SourceChkSum = REPLACE(SourceChkSum,'\"', '%-&-%')\n"
     ]
    }
   ],
   "source": [
    "get_esc('utMain', 'main', layouts)"
   ]
  },
  {
   "cell_type": "code",
   "execution_count": 211,
   "metadata": {},
   "outputs": [
    {
     "name": "stdout",
     "output_type": "stream",
     "text": [
      "133\n",
      "133\n",
      "'RowID' ,'ImportParcelID' ,'FIPS' ,'State' ,'County' ,'ValueCertDate' ,'ExtractDate' ,'Edition' ,'ZVendorStndCode' ,'AssessorParcelNumber' ,'DupAPN' ,'ParcelSequenceNumber' ,'ParcelNumberTypeStndCode' ,'RecordSourceStndCode' ,'RecordTypeStndCode' ,'ConfidentialRecordFlag' ,'PropertyAddressSourceStndCode' ,'PropertyHouseNumber' ,'PropertyHouseNumberExt' ,'PropertyStreetPreDirectional' ,'PropertyStreetName' ,'PropertyStreetSuffix' ,'PropertyStreetPostDirectional' ,'PropertyFullStreetAddress' ,'PropertyCity' ,'PropertyState' ,'PropertyZip' ,'OriginalPropertyFullStreetAddress' ,'OriginalPropertyAddressLastline' ,'PropertyBuildingNumber' ,'PropertyZoningDescription' ,'PropertyZoningSourceCode' ,'CensusTract' ,'TaxIDNumber' ,'TaxAmount' ,'TaxYear' ,'TaxDelinquencyFlag' ,'TaxDelinquencyAmount' ,'TaxDelinquencyYear' ,'TaxRateCodeArea' ,'LegalLot' ,'LegalLotStndCode' ,'LegalOtherLot' ,'LegalBlock' ,'LegalSubdivisionCode' ,'LegalSubdivisionName' ,'LegalCondoProjectPUDDevName' ,'LegalBuildingNumber' ,'LegalUnit' ,'LegalSection' ,'LegalPhase' ,'LegalTract' ,'LegalDistrict' ,'LegalMunicipality' ,'LegalCity' ,'LegalTownship' ,'LegalSTRSection' ,'LegalSTRTownship' ,'LegalSTRRange' ,'LegalSTRMeridian' ,'LegalSecTwnRngMer' ,'LegalRecordersMapReference' ,'LegalDescription' ,'LegalNeighborhoodSourceCode' ,'NoOfBuildings' ,'LotSizeAcres' ,'LotSizeSquareFeet' ,'LotSizeFrontageFeet' ,'LotSizeDepthFeet' ,'LotSizeIRR' ,'LotSiteTopographyStndCode' ,'LoadID' ,'PropertyAddressMatchcode' ,'PropertyAddressUnitDesignator' ,'PropertyAddressUnitNumber' ,'PropertyAddressCarrierRoute' ,'PropertyAddressGeoCodeMatchCode' ,'PropertyAddressLatitude' ,'PropertyAddressLongitude' ,'PropertyAddressCensusTractAndBlock' ,'PropertyAddressConfidenceScore' ,'PropertyAddressCBSACode' ,'PropertyAddressCBSADivisionCode' ,'PropertyAddressMatchType' ,'PropertyAddressDPV' ,'PropertyGeocodeQualityCode' ,'PropertyAddressQualityCode' ,'SubEdition' ,'BatchID' ,'BKFSPID,'RowID' ,'NoOfUnits' ,'OccupancyStatusStndCode' ,'PropertyCountyLandUseDescription' ,'PropertyCountyLandUseCode' ,'PropertyLandUseStndCode' ,'PropertyStateLandUseDescription' ,'PropertyStateLandUseCode' ,'BuildingOrImprovementNumber' ,'BuildingClassStndCode' ,'BuildingQualityStndCode' ,'BuildingQualityStndCodeOriginal' ,'BuildingConditionStndCode' ,'ArchitecturalStyleStndCode' ,'YearBuilt' ,'EffectiveYearBuilt' ,'YearRemodeled' ,'NoOfStories' ,'TotalRooms' ,'TotalBedrooms' ,'TotalKitchens' ,'FullBath' ,'ThreeQuarterBath' ,'HalfBath' ,'QuarterBath' ,'TotalActualBathCount' ,'BathSourceStndCode' ,'TotalBathPlumbingFixtures' ,'RoofCoverStndCode' ,'RoofStructureTypeStndCode' ,'HeatingTypeorSystemStndCode' ,'AirConditioningTypeorSystemStndCode' ,'FoundationTypeStndCode' ,'ElevatorStndCode' ,'FireplaceFlag' ,'FirePlaceTypeStndCode' ,'FireplaceNumber' ,'WaterStndCode' ,'SewerStndCode' ,'MortgageLenderName' ,'TimeshareStndCode' ,'Comments' ,'StoryTypeStndCode'\n",
      "\n",
      "---\n",
      "INSERT INTO main_bldg SELECT main.RowID, main.ImportParcelID, main.FIPS, main.State, main.County, main.ValueCertDate, main.ExtractDate, main.Edition, main.ZVendorStndCode, main.AssessorParcelNumber, main.DupAPN, main.ParcelSequenceNumber, main.ParcelNumberTypeStndCode, main.RecordSourceStndCode, main.RecordTypeStndCode, main.ConfidentialRecordFlag, main.PropertyAddressSourceStndCode, main.PropertyHouseNumber, main.PropertyHouseNumberExt, main.PropertyStreetPreDirectional, main.PropertyStreetName, main.PropertyStreetSuffix, main.PropertyStreetPostDirectional, main.PropertyFullStreetAddress, main.PropertyCity, main.PropertyState, main.PropertyZip, main.OriginalPropertyFullStreetAddress, main.OriginalPropertyAddressLastline, main.PropertyBuildingNumber, main.PropertyZoningDescription, main.PropertyZoningSourceCode, main.CensusTract, main.TaxIDNumber, main.TaxAmount, main.TaxYear, main.TaxDelinquencyFlag, main.TaxDelinquencyAmount, main.TaxDelinquencyYear, main.TaxRateCodeArea, main.LegalLot, main.LegalLotStndCode, main.LegalOtherLot, main.LegalBlock, main.LegalSubdivisionCode, main.LegalSubdivisionName, main.LegalCondoProjectPUDDevName, main.LegalBuildingNumber, main.LegalUnit, main.LegalSection, main.LegalPhase, main.LegalTract, main.LegalDistrict, main.LegalMunicipality, main.LegalCity, main.LegalTownship, main.LegalSTRSection, main.LegalSTRTownship, main.LegalSTRRange, main.LegalSTRMeridian, main.LegalSecTwnRngMer, main.LegalRecordersMapReference, main.LegalDescription, main.LegalNeighborhoodSourceCode, main.NoOfBuildings, main.LotSizeAcres, main.LotSizeSquareFeet, main.LotSizeFrontageFeet, main.LotSizeDepthFeet, main.LotSizeIRR, main.LotSiteTopographyStndCode, main.LoadID, main.PropertyAddressMatchcode, main.PropertyAddressUnitDesignator, main.PropertyAddressUnitNumber, main.PropertyAddressCarrierRoute, main.PropertyAddressGeoCodeMatchCode, main.PropertyAddressLatitude, main.PropertyAddressLongitude, main.PropertyAddressCensusTractAndBlock, main.PropertyAddressConfidenceScore, main.PropertyAddressCBSACode, main.PropertyAddressCBSADivisionCode, main.PropertyAddressMatchType, main.PropertyAddressDPV, main.PropertyGeocodeQualityCode, main.PropertyAddressQualityCode, main.SubEdition, main.BatchID, main.BKFSPID, bldg.RowID2, bldg.NoOfUnits, bldg.OccupancyStatusStndCode, bldg.PropertyCountyLandUseDescription, bldg.PropertyCountyLandUseCode, bldg.PropertyLandUseStndCode, bldg.PropertyStateLandUseDescription, bldg.PropertyStateLandUseCode, bldg.BuildingOrImprovementNumber, bldg.BuildingClassStndCode, bldg.BuildingQualityStndCode, bldg.BuildingQualityStndCodeOriginal, bldg.BuildingConditionStndCode, bldg.ArchitecturalStyleStndCode, bldg.YearBuilt, bldg.EffectiveYearBuilt, bldg.YearRemodeled, bldg.NoOfStories, bldg.TotalRooms, bldg.TotalBedrooms, bldg.TotalKitchens, bldg.FullBath, bldg.ThreeQuarterBath, bldg.HalfBath, bldg.QuarterBath, bldg.TotalActualBathCount, bldg.BathSourceStndCode, bldg.TotalBathPlumbingFixtures, bldg.RoofCoverStndCode, bldg.RoofStructureTypeStndCode, bldg.HeatingTypeorSystemStndCode, bldg.AirConditioningTypeorSystemStndCode, bldg.FoundationTypeStndCode, bldg.ElevatorStndCode, bldg.FireplaceFlag, bldg.FirePlaceTypeStndCode, bldg.FireplaceNumber, bldg.WaterStndCode, bldg.SewerStndCode, bldg.MortgageLenderName, bldg.TimeshareStndCode, bldg.Comments, bldg.StoryTypeStndCode FROM main INNER JOIN bldg WHERE main.RowID = bldg.RowID2;\n"
     ]
    },
    {
     "data": {
      "text/plain": [
       "'CREATE TABLE main_bldg( RowID uniqueidentifier(16), ImportParcelID bigint(8), FIPS char(5), State char(2), County varchar(50), ValueCertDate date(3), ExtractDate varchar(6), Edition smallint(2), ZVendorStndCode char(3), AssessorParcelNumber varchar(50), DupAPN char(2), ParcelSequenceNumber int(4), ParcelNumberTypeStndCode char(1), RecordSourceStndCode char(1), RecordTypeStndCode char(2), ConfidentialRecordFlag char(1), PropertyAddressSourceStndCode char(1), PropertyHouseNumber varchar(13), PropertyHouseNumberExt varchar(10), PropertyStreetPreDirectional char(2), PropertyStreetName varchar(50), PropertyStreetSuffix varchar(6), PropertyStreetPostDirectional char(2), PropertyFullStreetAddress varchar(80), PropertyCity varchar(45), PropertyState char(2), PropertyZip varchar(5), OriginalPropertyFullStreetAddress varchar(100), OriginalPropertyAddressLastline varchar(100), PropertyBuildingNumber varchar(45), PropertyZoningDescription varchar(75), PropertyZoningSourceCode varchar(75), CensusTract varchar(10), TaxIDNumber varchar(50), TaxAmount money(8), TaxYear int(4), TaxDelinquencyFlag char(1), TaxDelinquencyAmount money(8), TaxDelinquencyYear int(4), TaxRateCodeArea varchar(45), LegalLot varchar(30), LegalLotStndCode char(2), LegalOtherLot varchar(30), LegalBlock varchar(15), LegalSubdivisionCode varchar(10), LegalSubdivisionName varchar(100), LegalCondoProjectPUDDevName varchar(50), LegalBuildingNumber varchar(45), LegalUnit varchar(15), LegalSection varchar(15), LegalPhase varchar(15), LegalTract varchar(15), LegalDistrict varchar(45), LegalMunicipality varchar(50), LegalCity varchar(50), LegalTownship varchar(50), LegalSTRSection varchar(35), LegalSTRTownship varchar(15), LegalSTRRange varchar(15), LegalSTRMeridian varchar(35), LegalSecTwnRngMer varchar(45), LegalRecordersMapReference varchar(45), LegalDescription varchar(-1), LegalNeighborhoodSourceCode varchar(25), NoOfBuildings int(4), LotSizeAcres decimal(11,3), LotSizeSquareFeet decimal(11,2), LotSizeFrontageFeet decimal(11,2), LotSizeDepthFeet decimal(11,2), LotSizeIRR varchar(25), LotSiteTopographyStndCode char(2), LoadID bigint(8), PropertyAddressMatchcode char(1), PropertyAddressUnitDesignator varchar(10), PropertyAddressUnitNumber varchar(11), PropertyAddressCarrierRoute char(4), PropertyAddressGeoCodeMatchCode char(1), PropertyAddressLatitude decimal(9,6), PropertyAddressLongitude decimal(9,6), PropertyAddressCensusTractAndBlock varchar(16), PropertyAddressConfidenceScore tinyint(1), PropertyAddressCBSACode int(4), PropertyAddressCBSADivisionCode int(4), PropertyAddressMatchType tinyint(1), PropertyAddressDPV char(1), PropertyGeocodeQualityCode varchar(10), PropertyAddressQualityCode varchar(10), SubEdition smallint(2), BatchID int(4), BKFSPID int(4), RowID2 uniqueidentifier(16), NoOfUnits int(4), OccupancyStatusStndCode char(1), PropertyCountyLandUseDescription varchar(45), PropertyCountyLandUseCode varchar(10), PropertyLandUseStndCode varchar(5), PropertyStateLandUseDescription varchar(45), PropertyStateLandUseCode varchar(10), BuildingOrImprovementNumber int(4), BuildingClassStndCode varchar(10), BuildingQualityStndCode char(2), BuildingQualityStndCodeOriginal varchar(10), BuildingConditionStndCode char(2), ArchitecturalStyleStndCode char(2), YearBuilt int(4), EffectiveYearBuilt int(4), YearRemodeled int(4), NoOfStories varchar(10), TotalRooms int(4), TotalBedrooms int(4), TotalKitchens int(4), FullBath int(4), ThreeQuarterBath decimal(5,2), HalfBath decimal(5,2), QuarterBath decimal(5,2), TotalActualBathCount decimal(5,2), BathSourceStndCode char(1), TotalBathPlumbingFixtures int(4), RoofCoverStndCode char(3), RoofStructureTypeStndCode char(3), HeatingTypeorSystemStndCode char(3), AirConditioningTypeorSystemStndCode char(3), FoundationTypeStndCode char(3), ElevatorStndCode char(1), FireplaceFlag char(1), FirePlaceTypeStndCode char(3), FireplaceNumber int(4), WaterStndCode char(2), SewerStndCode char(2), MortgageLenderName varchar(100), TimeshareStndCode char(1), Comments varchar(200), StoryTypeStndCode varchar(6));'"
      ]
     },
     "execution_count": 211,
     "metadata": {},
     "output_type": "execute_result"
    }
   ],
   "source": [
    "# Get JOIN SQL queries for datasets\n",
    "def get_sql_join_fields(table_name1, sql_name1, table_name2, sql_name2, layouts):\n",
    "\n",
    "    layout1 = layouts[layouts['TableName'] == table_name1]\n",
    "    layout2 = layouts[layouts['TableName'] == table_name2]\n",
    "    ayout1 = layout1['FieldName']\n",
    "    ayout2 = layout2['FieldName']\n",
    "    ayout1 = ayout1[ayout1 != 'PropertyZip4']\n",
    "    ayout1 = ayout1[ayout1 != 'SourceChkSum']\n",
    "    ayout2 = ayout2[ayout2 != 'BatchID']\n",
    "    ayout2 = ayout2[ayout2 != 'FIPS']\n",
    "    ayout2 = ayout2[ayout2 != 'LoadID']\n",
    "    ayout2 = ayout2[ayout2 != 'TotalCalculatedBathCount']\n",
    "    ayout1 = ayout1[ayout1 != 'UnformattedAssessorParcelNumber']\n",
    "    ayout1 = ayout1[ayout1 != 'AlternateParcelNumber']\n",
    "    ayout1 = ayout1[ayout1 != 'OldParcelNumber']\n",
    "    if table_name2 == 'utBuilding':\n",
    "        ayout2 = ayout2.str.replace(r'RowID', 'RowID2')\n",
    "    fields1 = layout1['FieldName'] + ' ' + layout1['DateType'] + '(' + (layout1['MaxLength']).astype(str) + ')'\n",
    "    fields2 = layout2['FieldName'] + ' ' + layout2['DateType'] + '(' + (layout2['MaxLength']).astype(str) + ')'\n",
    "    fields1 = fields1[fields1 != 'PropertyZip4 char(4)']\n",
    "    fields1 = fields1[fields1 != 'SourceChkSum int(4)']\n",
    "    fields2 = fields2[fields2 != 'BatchID int(4)']\n",
    "    fields2 = fields2[fields2 != 'FIPS char(5)']\n",
    "    fields2 = fields2[fields2 != 'LoadID bigint(8)']\n",
    "    fields2 = fields2[fields2 != 'TotalCalculatedBathCount decimal(5,2)']\n",
    "    fields1 = fields1[fields1 != 'UnformattedAssessorParcelNumber varchar(50)']\n",
    "    fields1 = fields1[fields1 != 'AlternateParcelNumber varchar(50)']\n",
    "    fields1 = fields1[fields1 != 'OldParcelNumber varchar(50)']\n",
    "    fields1_ = layout1['FieldName'] \n",
    "    fields2_ = layout2['FieldName']\n",
    "    fields1_ = fields1_[fields1_ != 'PropertyZip4']\n",
    "    fields1_ = fields1_[fields1_ != 'SourceChkSum']\n",
    "    fields2_ = fields2_[fields2_ != 'BatchID']\n",
    "    fields2_ = fields2_[fields2_ != 'FIPS']\n",
    "    fields2_ = fields2_[fields2_ != 'LoadID']\n",
    "    fields2_ = fields2_[fields2_ != 'TotalCalculatedBathCount']\n",
    "    fields1_ = fields1_[fields1_ != 'UnformattedAssessorParcelNumber']\n",
    "    fields1_ = fields1_[fields1_ != 'AlternateParcelNumber']\n",
    "    fields1_ = fields1_[fields1_ != 'OldParcelNumber']\n",
    "    print(len(ayout1)+len(ayout2))\n",
    "    print(len(fields1)+len(fields2))\n",
    "    if table_name2 == 'utBuilding':\n",
    "        fields2 = fields2.str.replace(r'RowID', 'RowID2')\n",
    "        fields2 = fields2.str.replace(r'BatchID', 'BatchID2')\n",
    "        fields2 = fields2.str.replace(r'FIPS', 'FIPS2')\n",
    "        fields2 = fields2.str.replace(r'LoadID', 'LoadID2')\n",
    "    print('\\'' +fields1_.str.cat(sep='\\' ,\\'') + ',\\'' + fields2_.str.cat(sep='\\' ,\\'') + '\\'')\n",
    "    print('\\n---')\n",
    "    print('INSERT INTO main_bldg'  + \" SELECT \" +(('main.'+ayout1)).str.cat(sep=', ') + ', ' +(('bldg.'+ayout2)).str.cat(sep=', ')+\" FROM main INNER JOIN bldg WHERE main.RowID = bldg.RowID2;\")\n",
    "    return ('CREATE TABLE ' + sql_name1 + '_' + sql_name2 + '( ' + fields1.str.cat(sep=', ') + ', ' + fields2.str.cat(sep=', ') + ');')\n",
    "get_sql_join_fields('utMain', 'main', 'utBuilding', 'bldg', layouts)"
   ]
  },
  {
   "cell_type": "code",
   "execution_count": 197,
   "metadata": {},
   "outputs": [
    {
     "data": {
      "text/plain": [
       "'CREATE TABLE bldg( RowID2 uniqueidentifier(16), NoOfUnits int(4), OccupancyStatusStndCode char(1), PropertyCountyLandUseDescription varchar(45), PropertyCountyLandUseCode varchar(10), PropertyLandUseStndCode varchar(5), PropertyStateLandUseDescription varchar(45), PropertyStateLandUseCode varchar(10), BuildingOrImprovementNumber int(4), BuildingClassStndCode varchar(10), BuildingQualityStndCode char(2), BuildingQualityStndCodeOriginal varchar(10), BuildingConditionStndCode char(2), ArchitecturalStyleStndCode char(2), YearBuilt int(4), EffectiveYearBuilt int(4), YearRemodeled int(4), NoOfStories varchar(10), TotalRooms int(4), TotalBedrooms int(4), TotalKitchens int(4), FullBath int(4), ThreeQuarterBath decimal(5,2), HalfBath decimal(5,2), QuarterBath decimal(5,2), TotalCalculatedBathCount decimal(5,2), TotalActualBathCount decimal(5,2), BathSourceStndCode char(1), TotalBathPlumbingFixtures int(4), RoofCoverStndCode char(3), RoofStructureTypeStndCode char(3), HeatingTypeorSystemStndCode char(3), AirConditioningTypeorSystemStndCode char(3), FoundationTypeStndCode char(3), ElevatorStndCode char(1), FireplaceFlag char(1), FirePlaceTypeStndCode char(3), FireplaceNumber int(4), WaterStndCode char(2), SewerStndCode char(2), MortgageLenderName varchar(100), TimeshareStndCode char(1), Comments varchar(200), LoadID2 bigint(8), StoryTypeStndCode varchar(6), FIPS2 char(5), BatchID2 int(4));'"
      ]
     },
     "execution_count": 197,
     "metadata": {},
     "output_type": "execute_result"
    }
   ],
   "source": [
    "bldg_sql = get_sql_fields('utBuilding', 'bldg', layouts)\n",
    "bldg_sql"
   ]
  },
  {
   "cell_type": "code",
   "execution_count": 198,
   "metadata": {
    "scrolled": true
   },
   "outputs": [
    {
     "name": "stdout",
     "output_type": "stream",
     "text": [
      "update bldg set RowID2 = REPLACE(RowID2,'\"', '%-&-%'); update bldg set NoOfUnits = REPLACE(NoOfUnits,'\"', '%-&-%'); update bldg set OccupancyStatusStndCode = REPLACE(OccupancyStatusStndCode,'\"', '%-&-%'); update bldg set PropertyCountyLandUseDescription = REPLACE(PropertyCountyLandUseDescription,'\"', '%-&-%'); update bldg set PropertyCountyLandUseCode = REPLACE(PropertyCountyLandUseCode,'\"', '%-&-%'); update bldg set PropertyLandUseStndCode = REPLACE(PropertyLandUseStndCode,'\"', '%-&-%'); update bldg set PropertyStateLandUseDescription = REPLACE(PropertyStateLandUseDescription,'\"', '%-&-%'); update bldg set PropertyStateLandUseCode = REPLACE(PropertyStateLandUseCode,'\"', '%-&-%'); update bldg set BuildingOrImprovementNumber = REPLACE(BuildingOrImprovementNumber,'\"', '%-&-%'); update bldg set BuildingClassStndCode = REPLACE(BuildingClassStndCode,'\"', '%-&-%'); update bldg set BuildingQualityStndCode = REPLACE(BuildingQualityStndCode,'\"', '%-&-%'); update bldg set BuildingQualityStndCodeOriginal = REPLACE(BuildingQualityStndCodeOriginal,'\"', '%-&-%'); update bldg set BuildingConditionStndCode = REPLACE(BuildingConditionStndCode,'\"', '%-&-%'); update bldg set ArchitecturalStyleStndCode = REPLACE(ArchitecturalStyleStndCode,'\"', '%-&-%'); update bldg set YearBuilt = REPLACE(YearBuilt,'\"', '%-&-%'); update bldg set EffectiveYearBuilt = REPLACE(EffectiveYearBuilt,'\"', '%-&-%'); update bldg set YearRemodeled = REPLACE(YearRemodeled,'\"', '%-&-%'); update bldg set NoOfStories = REPLACE(NoOfStories,'\"', '%-&-%'); update bldg set TotalRooms = REPLACE(TotalRooms,'\"', '%-&-%'); update bldg set TotalBedrooms = REPLACE(TotalBedrooms,'\"', '%-&-%'); update bldg set TotalKitchens = REPLACE(TotalKitchens,'\"', '%-&-%'); update bldg set FullBath = REPLACE(FullBath,'\"', '%-&-%'); update bldg set ThreeQuarterBath = REPLACE(ThreeQuarterBath,'\"', '%-&-%'); update bldg set HalfBath = REPLACE(HalfBath,'\"', '%-&-%'); update bldg set QuarterBath = REPLACE(QuarterBath,'\"', '%-&-%'); update bldg set TotalCalculatedBathCount = REPLACE(TotalCalculatedBathCount,'\"', '%-&-%'); update bldg set TotalActualBathCount = REPLACE(TotalActualBathCount,'\"', '%-&-%'); update bldg set BathSourceStndCode = REPLACE(BathSourceStndCode,'\"', '%-&-%'); update bldg set TotalBathPlumbingFixtures = REPLACE(TotalBathPlumbingFixtures,'\"', '%-&-%'); update bldg set RoofCoverStndCode = REPLACE(RoofCoverStndCode,'\"', '%-&-%'); update bldg set RoofStructureTypeStndCode = REPLACE(RoofStructureTypeStndCode,'\"', '%-&-%'); update bldg set HeatingTypeorSystemStndCode = REPLACE(HeatingTypeorSystemStndCode,'\"', '%-&-%'); update bldg set AirConditioningTypeorSystemStndCode = REPLACE(AirConditioningTypeorSystemStndCode,'\"', '%-&-%'); update bldg set FoundationTypeStndCode = REPLACE(FoundationTypeStndCode,'\"', '%-&-%'); update bldg set ElevatorStndCode = REPLACE(ElevatorStndCode,'\"', '%-&-%'); update bldg set FireplaceFlag = REPLACE(FireplaceFlag,'\"', '%-&-%'); update bldg set FirePlaceTypeStndCode = REPLACE(FirePlaceTypeStndCode,'\"', '%-&-%'); update bldg set FireplaceNumber = REPLACE(FireplaceNumber,'\"', '%-&-%'); update bldg set WaterStndCode = REPLACE(WaterStndCode,'\"', '%-&-%'); update bldg set SewerStndCode = REPLACE(SewerStndCode,'\"', '%-&-%'); update bldg set MortgageLenderName = REPLACE(MortgageLenderName,'\"', '%-&-%'); update bldg set TimeshareStndCode = REPLACE(TimeshareStndCode,'\"', '%-&-%'); update bldg set Comments = REPLACE(Comments,'\"', '%-&-%'); update bldg set LoadID2 = REPLACE(LoadID2,'\"', '%-&-%'); update bldg set StoryTypeStndCode = REPLACE(StoryTypeStndCode,'\"', '%-&-%'); update bldg set FIPS2 = REPLACE(FIPS2,'\"', '%-&-%'); update bldg set BatchID2 = REPLACE(BatchID2,'\"', '%-&-%')\n"
     ]
    }
   ],
   "source": [
    "get_esc('utBuilding', 'bldg', layouts)"
   ]
  },
  {
   "cell_type": "code",
   "execution_count": 55,
   "metadata": {},
   "outputs": [
    {
     "data": {
      "text/plain": [
       "'CREATE TABLE main( RowID uniqueidentifier(16), ImportParcelID bigint(8), FIPS char(5), State char(2), County varchar(50), ValueCertDate date(3), ExtractDate varchar(6), Edition smallint(2), ZVendorStndCode char(3), AssessorParcelNumber varchar(50), DupAPN char(2), UnformattedAssessorParcelNumber varchar(50), ParcelSequenceNumber int(4), AlternateParcelNumber varchar(50), OldParcelNumber varchar(50), ParcelNumberTypeStndCode char(1), RecordSourceStndCode char(1), RecordTypeStndCode char(2), ConfidentialRecordFlag char(1), PropertyAddressSourceStndCode char(1), PropertyHouseNumber varchar(13), PropertyHouseNumberExt varchar(10), PropertyStreetPreDirectional char(2), PropertyStreetName varchar(50), PropertyStreetSuffix varchar(6), PropertyStreetPostDirectional char(2), PropertyFullStreetAddress varchar(80), PropertyCity varchar(45), PropertyState char(2), PropertyZip varchar(5), PropertyZip4 char(4), OriginalPropertyFullStreetAddress varchar(100), OriginalPropertyAddressLastline varchar(100), PropertyBuildingNumber varchar(45), PropertyZoningDescription varchar(75), PropertyZoningSourceCode varchar(75), CensusTract varchar(10), TaxIDNumber varchar(50), TaxAmount money(8), TaxYear int(4), TaxDelinquencyFlag char(1), TaxDelinquencyAmount money(8), TaxDelinquencyYear int(4), TaxRateCodeArea varchar(45), LegalLot varchar(30), LegalLotStndCode char(2), LegalOtherLot varchar(30), LegalBlock varchar(15), LegalSubdivisionCode varchar(10), LegalSubdivisionName varchar(100), LegalCondoProjectPUDDevName varchar(50), LegalBuildingNumber varchar(45), LegalUnit varchar(15), LegalSection varchar(15), LegalPhase varchar(15), LegalTract varchar(15), LegalDistrict varchar(45), LegalMunicipality varchar(50), LegalCity varchar(50), LegalTownship varchar(50), LegalSTRSection varchar(35), LegalSTRTownship varchar(15), LegalSTRRange varchar(15), LegalSTRMeridian varchar(35), LegalSecTwnRngMer varchar(45), LegalRecordersMapReference varchar(45), LegalDescription varchar(-1), LegalNeighborhoodSourceCode varchar(25), NoOfBuildings int(4), LotSizeAcres decimal(11,3), LotSizeSquareFeet decimal(11,2), LotSizeFrontageFeet decimal(11,2), LotSizeDepthFeet decimal(11,2), LotSizeIRR varchar(25), LotSiteTopographyStndCode char(2), LoadID bigint(8), PropertyAddressMatchcode char(1), PropertyAddressUnitDesignator varchar(10), PropertyAddressUnitNumber varchar(11), PropertyAddressCarrierRoute char(4), PropertyAddressGeoCodeMatchCode char(1), PropertyAddressLatitude decimal(9,6), PropertyAddressLongitude decimal(9,6), PropertyAddressCensusTractAndBlock varchar(16), PropertyAddressConfidenceScore tinyint(1), PropertyAddressCBSACode int(4), PropertyAddressCBSADivisionCode int(4), PropertyAddressMatchType tinyint(1), PropertyAddressDPV char(1), PropertyGeocodeQualityCode varchar(10), PropertyAddressQualityCode varchar(10), SubEdition smallint(2), BatchID int(4), BKFSPID int(4), SourceChkSum int(4));'"
      ]
     },
     "execution_count": 55,
     "metadata": {},
     "output_type": "execute_result"
    }
   ],
   "source": [
    "main_sql"
   ]
  },
  {
   "cell_type": "code",
   "execution_count": 78,
   "metadata": {},
   "outputs": [],
   "source": [
    "result = sqlite_engine.execute(main_sql)"
   ]
  },
  {
   "cell_type": "code",
   "execution_count": null,
   "metadata": {},
   "outputs": [],
   "source": [
    "# Create County Extracts from ZCountyExtracts.sqlite\n",
    "\"\"\"\n",
    "sqlite> ATTACH 'ZMainBldg.sqlite' AS zmb;\n",
    "sqlite> CREATE TABLE los_angeles AS SELECT * FROM zmb.main_bldg WHERE County = 'Los Angeles';\n",
    "\"\"\""
   ]
  },
  {
   "cell_type": "code",
   "execution_count": 79,
   "metadata": {},
   "outputs": [
    {
     "data": {
      "text/plain": [
       "['main', 'tips']"
      ]
     },
     "execution_count": 79,
     "metadata": {},
     "output_type": "execute_result"
    }
   ],
   "source": [
    "# Check tables\n",
    "sqlite_engine.table_names()"
   ]
  },
  {
   "cell_type": "code",
   "execution_count": 83,
   "metadata": {},
   "outputs": [
    {
     "name": "stderr",
     "output_type": "stream",
     "text": [
      "/usr/local/linux/anaconda3/lib/python3.5/site-packages/IPython/core/interactiveshell.py:2856: DtypeWarning: Columns (5,11,13,15,17,19,20,22,25,44,47,49,52,55,66,74,77,78,83) have mixed types. Specify dtype option on import or set low_memory=False.\n",
      "  if self.run_code(code, result):\n"
     ]
    },
    {
     "name": "stdout",
     "output_type": "stream",
     "text": [
      "0\n"
     ]
    },
    {
     "name": "stderr",
     "output_type": "stream",
     "text": [
      "/usr/local/linux/anaconda3/lib/python3.5/site-packages/IPython/core/interactiveshell.py:2856: DtypeWarning: Columns (5,11,13,15,17,20,22,25,44,47,49,52,55,66,74,77,78) have mixed types. Specify dtype option on import or set low_memory=False.\n",
      "  if self.run_code(code, result):\n"
     ]
    },
    {
     "name": "stdout",
     "output_type": "stream",
     "text": [
      "2135265\n"
     ]
    },
    {
     "ename": "KeyboardInterrupt",
     "evalue": "",
     "output_type": "error",
     "traceback": [
      "\u001b[0;31m---------------------------------------------------------------------------\u001b[0m",
      "\u001b[0;31mKeyboardInterrupt\u001b[0m                         Traceback (most recent call last)",
      "\u001b[0;32m<ipython-input-83-685c749c60b0>\u001b[0m in \u001b[0;36m<module>\u001b[0;34m()\u001b[0m\n\u001b[1;32m     17\u001b[0m     \u001b[0mdf\u001b[0m\u001b[0;34m.\u001b[0m\u001b[0mto_sql\u001b[0m\u001b[0;34m(\u001b[0m\u001b[0;34m\"main\"\u001b[0m\u001b[0;34m,\u001b[0m \u001b[0msqlite_engine\u001b[0m\u001b[0;34m,\u001b[0m \u001b[0mif_exists\u001b[0m\u001b[0;34m=\u001b[0m\u001b[0;34m'append'\u001b[0m\u001b[0;34m,\u001b[0m \u001b[0mindex\u001b[0m\u001b[0;34m=\u001b[0m\u001b[0;32mFalse\u001b[0m\u001b[0;34m)\u001b[0m\u001b[0;34m\u001b[0m\u001b[0m\n\u001b[1;32m     18\u001b[0m \u001b[0;34m\u001b[0m\u001b[0m\n\u001b[0;32m---> 19\u001b[0;31m \u001b[0mwork\u001b[0m\u001b[0;34m(\u001b[0m\u001b[0mpath\u001b[0m\u001b[0;34m/\u001b[0m\u001b[0;34m'Main.txt'\u001b[0m\u001b[0;34m,\u001b[0m \u001b[0mmain_fields\u001b[0m\u001b[0;34m,\u001b[0m \u001b[0;36m69\u001b[0m\u001b[0;34m,\u001b[0m \u001b[0mlength\u001b[0m\u001b[0;34m,\u001b[0m \u001b[0mto_sql\u001b[0m\u001b[0;34m)\u001b[0m\u001b[0;34m\u001b[0m\u001b[0m\n\u001b[0m",
      "\u001b[0;32m<ipython-input-83-685c749c60b0>\u001b[0m in \u001b[0;36mwork\u001b[0;34m(path, fields, partitions, rows, fn)\u001b[0m\n\u001b[1;32m     10\u001b[0m         \u001b[0mdf\u001b[0m \u001b[0;34m=\u001b[0m \u001b[0mpd\u001b[0m\u001b[0;34m.\u001b[0m\u001b[0mread_csv\u001b[0m\u001b[0;34m(\u001b[0m\u001b[0mpath\u001b[0m\u001b[0;34m,\u001b[0m \u001b[0msep\u001b[0m\u001b[0;34m=\u001b[0m\u001b[0;34m'|'\u001b[0m\u001b[0;34m,\u001b[0m \u001b[0mnames\u001b[0m\u001b[0;34m=\u001b[0m\u001b[0mfields\u001b[0m\u001b[0;34m,\u001b[0m \u001b[0mskiprows\u001b[0m\u001b[0;34m=\u001b[0m\u001b[0mi\u001b[0m\u001b[0;34m,\u001b[0m \u001b[0mnrows\u001b[0m\u001b[0;34m=\u001b[0m\u001b[0mdiv\u001b[0m\u001b[0;34m,\u001b[0m \u001b[0mencoding\u001b[0m\u001b[0;34m=\u001b[0m\u001b[0;34m'latin-1'\u001b[0m\u001b[0;34m)\u001b[0m\u001b[0;34m\u001b[0m\u001b[0m\n\u001b[1;32m     11\u001b[0m         \u001b[0mprint\u001b[0m\u001b[0;34m(\u001b[0m\u001b[0mi\u001b[0m\u001b[0;34m)\u001b[0m\u001b[0;34m\u001b[0m\u001b[0m\n\u001b[0;32m---> 12\u001b[0;31m         \u001b[0mfn\u001b[0m\u001b[0;34m(\u001b[0m\u001b[0mdf\u001b[0m\u001b[0;34m)\u001b[0m\u001b[0;34m\u001b[0m\u001b[0m\n\u001b[0m\u001b[1;32m     13\u001b[0m         \u001b[0;32mdel\u001b[0m \u001b[0mdf\u001b[0m\u001b[0;34m\u001b[0m\u001b[0m\n\u001b[1;32m     14\u001b[0m \u001b[0;34m\u001b[0m\u001b[0m\n",
      "\u001b[0;32m<ipython-input-83-685c749c60b0>\u001b[0m in \u001b[0;36mto_sql\u001b[0;34m(df)\u001b[0m\n\u001b[1;32m     15\u001b[0m \u001b[0;32mdef\u001b[0m \u001b[0mto_sql\u001b[0m\u001b[0;34m(\u001b[0m\u001b[0mdf\u001b[0m\u001b[0;34m)\u001b[0m\u001b[0;34m:\u001b[0m\u001b[0;34m\u001b[0m\u001b[0m\n\u001b[1;32m     16\u001b[0m     \u001b[0;31m# We can use the pandas.to_sql command to put the data in our SQLlite database:\u001b[0m\u001b[0;34m\u001b[0m\u001b[0;34m\u001b[0m\u001b[0m\n\u001b[0;32m---> 17\u001b[0;31m     \u001b[0mdf\u001b[0m\u001b[0;34m.\u001b[0m\u001b[0mto_sql\u001b[0m\u001b[0;34m(\u001b[0m\u001b[0;34m\"main\"\u001b[0m\u001b[0;34m,\u001b[0m \u001b[0msqlite_engine\u001b[0m\u001b[0;34m,\u001b[0m \u001b[0mif_exists\u001b[0m\u001b[0;34m=\u001b[0m\u001b[0;34m'append'\u001b[0m\u001b[0;34m,\u001b[0m \u001b[0mindex\u001b[0m\u001b[0;34m=\u001b[0m\u001b[0;32mFalse\u001b[0m\u001b[0;34m)\u001b[0m\u001b[0;34m\u001b[0m\u001b[0m\n\u001b[0m\u001b[1;32m     18\u001b[0m \u001b[0;34m\u001b[0m\u001b[0m\n\u001b[1;32m     19\u001b[0m \u001b[0mwork\u001b[0m\u001b[0;34m(\u001b[0m\u001b[0mpath\u001b[0m\u001b[0;34m/\u001b[0m\u001b[0;34m'Main.txt'\u001b[0m\u001b[0;34m,\u001b[0m \u001b[0mmain_fields\u001b[0m\u001b[0;34m,\u001b[0m \u001b[0;36m69\u001b[0m\u001b[0;34m,\u001b[0m \u001b[0mlength\u001b[0m\u001b[0;34m,\u001b[0m \u001b[0mto_sql\u001b[0m\u001b[0;34m)\u001b[0m\u001b[0;34m\u001b[0m\u001b[0m\n",
      "\u001b[0;32m/usr/local/linux/anaconda3/lib/python3.5/site-packages/pandas/core/generic.py\u001b[0m in \u001b[0;36mto_sql\u001b[0;34m(self, name, con, flavor, schema, if_exists, index, index_label, chunksize, dtype)\u001b[0m\n\u001b[1;32m   1532\u001b[0m         sql.to_sql(self, name, con, flavor=flavor, schema=schema,\n\u001b[1;32m   1533\u001b[0m                    \u001b[0mif_exists\u001b[0m\u001b[0;34m=\u001b[0m\u001b[0mif_exists\u001b[0m\u001b[0;34m,\u001b[0m \u001b[0mindex\u001b[0m\u001b[0;34m=\u001b[0m\u001b[0mindex\u001b[0m\u001b[0;34m,\u001b[0m \u001b[0mindex_label\u001b[0m\u001b[0;34m=\u001b[0m\u001b[0mindex_label\u001b[0m\u001b[0;34m,\u001b[0m\u001b[0;34m\u001b[0m\u001b[0m\n\u001b[0;32m-> 1534\u001b[0;31m                    chunksize=chunksize, dtype=dtype)\n\u001b[0m\u001b[1;32m   1535\u001b[0m \u001b[0;34m\u001b[0m\u001b[0m\n\u001b[1;32m   1536\u001b[0m     def to_pickle(self, path, compression='infer',\n",
      "\u001b[0;32m/usr/local/linux/anaconda3/lib/python3.5/site-packages/pandas/io/sql.py\u001b[0m in \u001b[0;36mto_sql\u001b[0;34m(frame, name, con, flavor, schema, if_exists, index, index_label, chunksize, dtype)\u001b[0m\n\u001b[1;32m    471\u001b[0m     pandas_sql.to_sql(frame, name, if_exists=if_exists, index=index,\n\u001b[1;32m    472\u001b[0m                       \u001b[0mindex_label\u001b[0m\u001b[0;34m=\u001b[0m\u001b[0mindex_label\u001b[0m\u001b[0;34m,\u001b[0m \u001b[0mschema\u001b[0m\u001b[0;34m=\u001b[0m\u001b[0mschema\u001b[0m\u001b[0;34m,\u001b[0m\u001b[0;34m\u001b[0m\u001b[0m\n\u001b[0;32m--> 473\u001b[0;31m                       chunksize=chunksize, dtype=dtype)\n\u001b[0m\u001b[1;32m    474\u001b[0m \u001b[0;34m\u001b[0m\u001b[0m\n\u001b[1;32m    475\u001b[0m \u001b[0;34m\u001b[0m\u001b[0m\n",
      "\u001b[0;32m/usr/local/linux/anaconda3/lib/python3.5/site-packages/pandas/io/sql.py\u001b[0m in \u001b[0;36mto_sql\u001b[0;34m(self, frame, name, if_exists, index, index_label, schema, chunksize, dtype)\u001b[0m\n\u001b[1;32m   1154\u001b[0m                          schema=schema, dtype=dtype)\n\u001b[1;32m   1155\u001b[0m         \u001b[0mtable\u001b[0m\u001b[0;34m.\u001b[0m\u001b[0mcreate\u001b[0m\u001b[0;34m(\u001b[0m\u001b[0;34m)\u001b[0m\u001b[0;34m\u001b[0m\u001b[0m\n\u001b[0;32m-> 1156\u001b[0;31m         \u001b[0mtable\u001b[0m\u001b[0;34m.\u001b[0m\u001b[0minsert\u001b[0m\u001b[0;34m(\u001b[0m\u001b[0mchunksize\u001b[0m\u001b[0;34m)\u001b[0m\u001b[0;34m\u001b[0m\u001b[0m\n\u001b[0m\u001b[1;32m   1157\u001b[0m         \u001b[0;32mif\u001b[0m \u001b[0;34m(\u001b[0m\u001b[0;32mnot\u001b[0m \u001b[0mname\u001b[0m\u001b[0;34m.\u001b[0m\u001b[0misdigit\u001b[0m\u001b[0;34m(\u001b[0m\u001b[0;34m)\u001b[0m \u001b[0;32mand\u001b[0m \u001b[0;32mnot\u001b[0m \u001b[0mname\u001b[0m\u001b[0;34m.\u001b[0m\u001b[0mislower\u001b[0m\u001b[0;34m(\u001b[0m\u001b[0;34m)\u001b[0m\u001b[0;34m)\u001b[0m\u001b[0;34m:\u001b[0m\u001b[0;34m\u001b[0m\u001b[0m\n\u001b[1;32m   1158\u001b[0m             \u001b[0;31m# check for potentially case sensitivity issues (GH7815)\u001b[0m\u001b[0;34m\u001b[0m\u001b[0;34m\u001b[0m\u001b[0m\n",
      "\u001b[0;32m/usr/local/linux/anaconda3/lib/python3.5/site-packages/pandas/io/sql.py\u001b[0m in \u001b[0;36minsert\u001b[0;34m(self, chunksize)\u001b[0m\n\u001b[1;32m    668\u001b[0m \u001b[0;34m\u001b[0m\u001b[0m\n\u001b[1;32m    669\u001b[0m                 \u001b[0mchunk_iter\u001b[0m \u001b[0;34m=\u001b[0m \u001b[0mzip\u001b[0m\u001b[0;34m(\u001b[0m\u001b[0;34m*\u001b[0m\u001b[0;34m[\u001b[0m\u001b[0marr\u001b[0m\u001b[0;34m[\u001b[0m\u001b[0mstart_i\u001b[0m\u001b[0;34m:\u001b[0m\u001b[0mend_i\u001b[0m\u001b[0;34m]\u001b[0m \u001b[0;32mfor\u001b[0m \u001b[0marr\u001b[0m \u001b[0;32min\u001b[0m \u001b[0mdata_list\u001b[0m\u001b[0;34m]\u001b[0m\u001b[0;34m)\u001b[0m\u001b[0;34m\u001b[0m\u001b[0m\n\u001b[0;32m--> 670\u001b[0;31m                 \u001b[0mself\u001b[0m\u001b[0;34m.\u001b[0m\u001b[0m_execute_insert\u001b[0m\u001b[0;34m(\u001b[0m\u001b[0mconn\u001b[0m\u001b[0;34m,\u001b[0m \u001b[0mkeys\u001b[0m\u001b[0;34m,\u001b[0m \u001b[0mchunk_iter\u001b[0m\u001b[0;34m)\u001b[0m\u001b[0;34m\u001b[0m\u001b[0m\n\u001b[0m\u001b[1;32m    671\u001b[0m \u001b[0;34m\u001b[0m\u001b[0m\n\u001b[1;32m    672\u001b[0m     def _query_iterator(self, result, chunksize, columns, coerce_float=True,\n",
      "\u001b[0;32m/usr/local/linux/anaconda3/lib/python3.5/site-packages/pandas/io/sql.py\u001b[0m in \u001b[0;36m_execute_insert\u001b[0;34m(self, conn, keys, data_iter)\u001b[0m\n\u001b[1;32m    643\u001b[0m     \u001b[0;32mdef\u001b[0m \u001b[0m_execute_insert\u001b[0m\u001b[0;34m(\u001b[0m\u001b[0mself\u001b[0m\u001b[0;34m,\u001b[0m \u001b[0mconn\u001b[0m\u001b[0;34m,\u001b[0m \u001b[0mkeys\u001b[0m\u001b[0;34m,\u001b[0m \u001b[0mdata_iter\u001b[0m\u001b[0;34m)\u001b[0m\u001b[0;34m:\u001b[0m\u001b[0;34m\u001b[0m\u001b[0m\n\u001b[1;32m    644\u001b[0m         \u001b[0mdata\u001b[0m \u001b[0;34m=\u001b[0m \u001b[0;34m[\u001b[0m\u001b[0mdict\u001b[0m\u001b[0;34m(\u001b[0m\u001b[0;34m(\u001b[0m\u001b[0mk\u001b[0m\u001b[0;34m,\u001b[0m \u001b[0mv\u001b[0m\u001b[0;34m)\u001b[0m \u001b[0;32mfor\u001b[0m \u001b[0mk\u001b[0m\u001b[0;34m,\u001b[0m \u001b[0mv\u001b[0m \u001b[0;32min\u001b[0m \u001b[0mzip\u001b[0m\u001b[0;34m(\u001b[0m\u001b[0mkeys\u001b[0m\u001b[0;34m,\u001b[0m \u001b[0mrow\u001b[0m\u001b[0;34m)\u001b[0m\u001b[0;34m)\u001b[0m \u001b[0;32mfor\u001b[0m \u001b[0mrow\u001b[0m \u001b[0;32min\u001b[0m \u001b[0mdata_iter\u001b[0m\u001b[0;34m]\u001b[0m\u001b[0;34m\u001b[0m\u001b[0m\n\u001b[0;32m--> 645\u001b[0;31m         \u001b[0mconn\u001b[0m\u001b[0;34m.\u001b[0m\u001b[0mexecute\u001b[0m\u001b[0;34m(\u001b[0m\u001b[0mself\u001b[0m\u001b[0;34m.\u001b[0m\u001b[0minsert_statement\u001b[0m\u001b[0;34m(\u001b[0m\u001b[0;34m)\u001b[0m\u001b[0;34m,\u001b[0m \u001b[0mdata\u001b[0m\u001b[0;34m)\u001b[0m\u001b[0;34m\u001b[0m\u001b[0m\n\u001b[0m\u001b[1;32m    646\u001b[0m \u001b[0;34m\u001b[0m\u001b[0m\n\u001b[1;32m    647\u001b[0m     \u001b[0;32mdef\u001b[0m \u001b[0minsert\u001b[0m\u001b[0;34m(\u001b[0m\u001b[0mself\u001b[0m\u001b[0;34m,\u001b[0m \u001b[0mchunksize\u001b[0m\u001b[0;34m=\u001b[0m\u001b[0;32mNone\u001b[0m\u001b[0;34m)\u001b[0m\u001b[0;34m:\u001b[0m\u001b[0;34m\u001b[0m\u001b[0m\n",
      "\u001b[0;32m/usr/local/linux/anaconda3/lib/python3.5/site-packages/sqlalchemy/engine/base.py\u001b[0m in \u001b[0;36mexecute\u001b[0;34m(self, object, *multiparams, **params)\u001b[0m\n\u001b[1;32m    943\u001b[0m             \u001b[0;32mraise\u001b[0m \u001b[0mexc\u001b[0m\u001b[0;34m.\u001b[0m\u001b[0mObjectNotExecutableError\u001b[0m\u001b[0;34m(\u001b[0m\u001b[0mobject\u001b[0m\u001b[0;34m)\u001b[0m\u001b[0;34m\u001b[0m\u001b[0m\n\u001b[1;32m    944\u001b[0m         \u001b[0;32melse\u001b[0m\u001b[0;34m:\u001b[0m\u001b[0;34m\u001b[0m\u001b[0m\n\u001b[0;32m--> 945\u001b[0;31m             \u001b[0;32mreturn\u001b[0m \u001b[0mmeth\u001b[0m\u001b[0;34m(\u001b[0m\u001b[0mself\u001b[0m\u001b[0;34m,\u001b[0m \u001b[0mmultiparams\u001b[0m\u001b[0;34m,\u001b[0m \u001b[0mparams\u001b[0m\u001b[0;34m)\u001b[0m\u001b[0;34m\u001b[0m\u001b[0m\n\u001b[0m\u001b[1;32m    946\u001b[0m \u001b[0;34m\u001b[0m\u001b[0m\n\u001b[1;32m    947\u001b[0m     \u001b[0;32mdef\u001b[0m \u001b[0m_execute_function\u001b[0m\u001b[0;34m(\u001b[0m\u001b[0mself\u001b[0m\u001b[0;34m,\u001b[0m \u001b[0mfunc\u001b[0m\u001b[0;34m,\u001b[0m \u001b[0mmultiparams\u001b[0m\u001b[0;34m,\u001b[0m \u001b[0mparams\u001b[0m\u001b[0;34m)\u001b[0m\u001b[0;34m:\u001b[0m\u001b[0;34m\u001b[0m\u001b[0m\n",
      "\u001b[0;32m/usr/local/linux/anaconda3/lib/python3.5/site-packages/sqlalchemy/sql/elements.py\u001b[0m in \u001b[0;36m_execute_on_connection\u001b[0;34m(self, connection, multiparams, params)\u001b[0m\n\u001b[1;32m    261\u001b[0m     \u001b[0;32mdef\u001b[0m \u001b[0m_execute_on_connection\u001b[0m\u001b[0;34m(\u001b[0m\u001b[0mself\u001b[0m\u001b[0;34m,\u001b[0m \u001b[0mconnection\u001b[0m\u001b[0;34m,\u001b[0m \u001b[0mmultiparams\u001b[0m\u001b[0;34m,\u001b[0m \u001b[0mparams\u001b[0m\u001b[0;34m)\u001b[0m\u001b[0;34m:\u001b[0m\u001b[0;34m\u001b[0m\u001b[0m\n\u001b[1;32m    262\u001b[0m         \u001b[0;32mif\u001b[0m \u001b[0mself\u001b[0m\u001b[0;34m.\u001b[0m\u001b[0msupports_execution\u001b[0m\u001b[0;34m:\u001b[0m\u001b[0;34m\u001b[0m\u001b[0m\n\u001b[0;32m--> 263\u001b[0;31m             \u001b[0;32mreturn\u001b[0m \u001b[0mconnection\u001b[0m\u001b[0;34m.\u001b[0m\u001b[0m_execute_clauseelement\u001b[0m\u001b[0;34m(\u001b[0m\u001b[0mself\u001b[0m\u001b[0;34m,\u001b[0m \u001b[0mmultiparams\u001b[0m\u001b[0;34m,\u001b[0m \u001b[0mparams\u001b[0m\u001b[0;34m)\u001b[0m\u001b[0;34m\u001b[0m\u001b[0m\n\u001b[0m\u001b[1;32m    264\u001b[0m         \u001b[0;32melse\u001b[0m\u001b[0;34m:\u001b[0m\u001b[0;34m\u001b[0m\u001b[0m\n\u001b[1;32m    265\u001b[0m             \u001b[0;32mraise\u001b[0m \u001b[0mexc\u001b[0m\u001b[0;34m.\u001b[0m\u001b[0mObjectNotExecutableError\u001b[0m\u001b[0;34m(\u001b[0m\u001b[0mself\u001b[0m\u001b[0;34m)\u001b[0m\u001b[0;34m\u001b[0m\u001b[0m\n",
      "\u001b[0;32m/usr/local/linux/anaconda3/lib/python3.5/site-packages/sqlalchemy/engine/base.py\u001b[0m in \u001b[0;36m_execute_clauseelement\u001b[0;34m(self, elem, multiparams, params)\u001b[0m\n\u001b[1;32m   1051\u001b[0m             \u001b[0mcompiled_sql\u001b[0m\u001b[0;34m,\u001b[0m\u001b[0;34m\u001b[0m\u001b[0m\n\u001b[1;32m   1052\u001b[0m             \u001b[0mdistilled_params\u001b[0m\u001b[0;34m,\u001b[0m\u001b[0;34m\u001b[0m\u001b[0m\n\u001b[0;32m-> 1053\u001b[0;31m             \u001b[0mcompiled_sql\u001b[0m\u001b[0;34m,\u001b[0m \u001b[0mdistilled_params\u001b[0m\u001b[0;34m\u001b[0m\u001b[0m\n\u001b[0m\u001b[1;32m   1054\u001b[0m         )\n\u001b[1;32m   1055\u001b[0m         \u001b[0;32mif\u001b[0m \u001b[0mself\u001b[0m\u001b[0;34m.\u001b[0m\u001b[0m_has_events\u001b[0m \u001b[0;32mor\u001b[0m \u001b[0mself\u001b[0m\u001b[0;34m.\u001b[0m\u001b[0mengine\u001b[0m\u001b[0;34m.\u001b[0m\u001b[0m_has_events\u001b[0m\u001b[0;34m:\u001b[0m\u001b[0;34m\u001b[0m\u001b[0m\n",
      "\u001b[0;32m/usr/local/linux/anaconda3/lib/python3.5/site-packages/sqlalchemy/engine/base.py\u001b[0m in \u001b[0;36m_execute_context\u001b[0;34m(self, dialect, constructor, statement, parameters, *args)\u001b[0m\n\u001b[1;32m   1119\u001b[0m                 \u001b[0me\u001b[0m\u001b[0;34m,\u001b[0m\u001b[0;34m\u001b[0m\u001b[0m\n\u001b[1;32m   1120\u001b[0m                 \u001b[0mutil\u001b[0m\u001b[0;34m.\u001b[0m\u001b[0mtext_type\u001b[0m\u001b[0;34m(\u001b[0m\u001b[0mstatement\u001b[0m\u001b[0;34m)\u001b[0m\u001b[0;34m,\u001b[0m \u001b[0mparameters\u001b[0m\u001b[0;34m,\u001b[0m\u001b[0;34m\u001b[0m\u001b[0m\n\u001b[0;32m-> 1121\u001b[0;31m                 None, None)\n\u001b[0m\u001b[1;32m   1122\u001b[0m \u001b[0;34m\u001b[0m\u001b[0m\n\u001b[1;32m   1123\u001b[0m         \u001b[0;32mif\u001b[0m \u001b[0mcontext\u001b[0m\u001b[0;34m.\u001b[0m\u001b[0mcompiled\u001b[0m\u001b[0;34m:\u001b[0m\u001b[0;34m\u001b[0m\u001b[0m\n",
      "\u001b[0;32m/usr/local/linux/anaconda3/lib/python3.5/site-packages/sqlalchemy/engine/base.py\u001b[0m in \u001b[0;36m_handle_dbapi_exception\u001b[0;34m(self, e, statement, parameters, cursor, context)\u001b[0m\n\u001b[1;32m   1403\u001b[0m                 )\n\u001b[1;32m   1404\u001b[0m             \u001b[0;32melse\u001b[0m\u001b[0;34m:\u001b[0m\u001b[0;34m\u001b[0m\u001b[0m\n\u001b[0;32m-> 1405\u001b[0;31m                 \u001b[0mutil\u001b[0m\u001b[0;34m.\u001b[0m\u001b[0mreraise\u001b[0m\u001b[0;34m(\u001b[0m\u001b[0;34m*\u001b[0m\u001b[0mexc_info\u001b[0m\u001b[0;34m)\u001b[0m\u001b[0;34m\u001b[0m\u001b[0m\n\u001b[0m\u001b[1;32m   1406\u001b[0m \u001b[0;34m\u001b[0m\u001b[0m\n\u001b[1;32m   1407\u001b[0m         \u001b[0;32mfinally\u001b[0m\u001b[0;34m:\u001b[0m\u001b[0;34m\u001b[0m\u001b[0m\n",
      "\u001b[0;32m/usr/local/linux/anaconda3/lib/python3.5/site-packages/sqlalchemy/util/compat.py\u001b[0m in \u001b[0;36mreraise\u001b[0;34m(tp, value, tb, cause)\u001b[0m\n\u001b[1;32m    185\u001b[0m         \u001b[0;32mif\u001b[0m \u001b[0mvalue\u001b[0m\u001b[0;34m.\u001b[0m\u001b[0m__traceback__\u001b[0m \u001b[0;32mis\u001b[0m \u001b[0;32mnot\u001b[0m \u001b[0mtb\u001b[0m\u001b[0;34m:\u001b[0m\u001b[0;34m\u001b[0m\u001b[0m\n\u001b[1;32m    186\u001b[0m             \u001b[0;32mraise\u001b[0m \u001b[0mvalue\u001b[0m\u001b[0;34m.\u001b[0m\u001b[0mwith_traceback\u001b[0m\u001b[0;34m(\u001b[0m\u001b[0mtb\u001b[0m\u001b[0;34m)\u001b[0m\u001b[0;34m\u001b[0m\u001b[0m\n\u001b[0;32m--> 187\u001b[0;31m         \u001b[0;32mraise\u001b[0m \u001b[0mvalue\u001b[0m\u001b[0;34m\u001b[0m\u001b[0m\n\u001b[0m\u001b[1;32m    188\u001b[0m \u001b[0;34m\u001b[0m\u001b[0m\n\u001b[1;32m    189\u001b[0m \u001b[0;32melse\u001b[0m\u001b[0;34m:\u001b[0m\u001b[0;34m\u001b[0m\u001b[0m\n",
      "\u001b[0;32m/usr/local/linux/anaconda3/lib/python3.5/site-packages/sqlalchemy/engine/base.py\u001b[0m in \u001b[0;36m_execute_context\u001b[0;34m(self, dialect, constructor, statement, parameters, *args)\u001b[0m\n\u001b[1;32m   1114\u001b[0m                 \u001b[0mconn\u001b[0m \u001b[0;34m=\u001b[0m \u001b[0mself\u001b[0m\u001b[0;34m.\u001b[0m\u001b[0m_revalidate_connection\u001b[0m\u001b[0;34m(\u001b[0m\u001b[0;34m)\u001b[0m\u001b[0;34m\u001b[0m\u001b[0m\n\u001b[1;32m   1115\u001b[0m \u001b[0;34m\u001b[0m\u001b[0m\n\u001b[0;32m-> 1116\u001b[0;31m             \u001b[0mcontext\u001b[0m \u001b[0;34m=\u001b[0m \u001b[0mconstructor\u001b[0m\u001b[0;34m(\u001b[0m\u001b[0mdialect\u001b[0m\u001b[0;34m,\u001b[0m \u001b[0mself\u001b[0m\u001b[0;34m,\u001b[0m \u001b[0mconn\u001b[0m\u001b[0;34m,\u001b[0m \u001b[0;34m*\u001b[0m\u001b[0margs\u001b[0m\u001b[0;34m)\u001b[0m\u001b[0;34m\u001b[0m\u001b[0m\n\u001b[0m\u001b[1;32m   1117\u001b[0m         \u001b[0;32mexcept\u001b[0m \u001b[0mBaseException\u001b[0m \u001b[0;32mas\u001b[0m \u001b[0me\u001b[0m\u001b[0;34m:\u001b[0m\u001b[0;34m\u001b[0m\u001b[0m\n\u001b[1;32m   1118\u001b[0m             self._handle_dbapi_exception(\n",
      "\u001b[0;32m/usr/local/linux/anaconda3/lib/python3.5/site-packages/sqlalchemy/engine/default.py\u001b[0m in \u001b[0;36m_init_compiled\u001b[0;34m(cls, dialect, connection, dbapi_connection, compiled, parameters)\u001b[0m\n\u001b[1;32m    592\u001b[0m             \u001b[0mself\u001b[0m\u001b[0;34m.\u001b[0m\u001b[0mcompiled_parameters\u001b[0m \u001b[0;34m=\u001b[0m\u001b[0;31m \u001b[0m\u001b[0;31m\\\u001b[0m\u001b[0;34m\u001b[0m\u001b[0m\n\u001b[1;32m    593\u001b[0m                 [compiled.construct_params(m, _group_number=grp) for\n\u001b[0;32m--> 594\u001b[0;31m                  grp, m in enumerate(parameters)]\n\u001b[0m\u001b[1;32m    595\u001b[0m \u001b[0;34m\u001b[0m\u001b[0m\n\u001b[1;32m    596\u001b[0m             \u001b[0mself\u001b[0m\u001b[0;34m.\u001b[0m\u001b[0mexecutemany\u001b[0m \u001b[0;34m=\u001b[0m \u001b[0mlen\u001b[0m\u001b[0;34m(\u001b[0m\u001b[0mparameters\u001b[0m\u001b[0;34m)\u001b[0m \u001b[0;34m>\u001b[0m \u001b[0;36m1\u001b[0m\u001b[0;34m\u001b[0m\u001b[0m\n",
      "\u001b[0;32m/usr/local/linux/anaconda3/lib/python3.5/site-packages/sqlalchemy/engine/default.py\u001b[0m in \u001b[0;36m<listcomp>\u001b[0;34m(.0)\u001b[0m\n\u001b[1;32m    592\u001b[0m             \u001b[0mself\u001b[0m\u001b[0;34m.\u001b[0m\u001b[0mcompiled_parameters\u001b[0m \u001b[0;34m=\u001b[0m\u001b[0;31m \u001b[0m\u001b[0;31m\\\u001b[0m\u001b[0;34m\u001b[0m\u001b[0m\n\u001b[1;32m    593\u001b[0m                 [compiled.construct_params(m, _group_number=grp) for\n\u001b[0;32m--> 594\u001b[0;31m                  grp, m in enumerate(parameters)]\n\u001b[0m\u001b[1;32m    595\u001b[0m \u001b[0;34m\u001b[0m\u001b[0m\n\u001b[1;32m    596\u001b[0m             \u001b[0mself\u001b[0m\u001b[0;34m.\u001b[0m\u001b[0mexecutemany\u001b[0m \u001b[0;34m=\u001b[0m \u001b[0mlen\u001b[0m\u001b[0;34m(\u001b[0m\u001b[0mparameters\u001b[0m\u001b[0;34m)\u001b[0m \u001b[0;34m>\u001b[0m \u001b[0;36m1\u001b[0m\u001b[0;34m\u001b[0m\u001b[0m\n",
      "\u001b[0;32m/usr/local/linux/anaconda3/lib/python3.5/site-packages/sqlalchemy/sql/compiler.py\u001b[0m in \u001b[0;36mconstruct_params\u001b[0;34m(self, params, _group_number, _check)\u001b[0m\n\u001b[1;32m    512\u001b[0m             \u001b[0;32mfor\u001b[0m \u001b[0mbindparam\u001b[0m \u001b[0;32min\u001b[0m \u001b[0mself\u001b[0m\u001b[0;34m.\u001b[0m\u001b[0mbind_names\u001b[0m\u001b[0;34m:\u001b[0m\u001b[0;34m\u001b[0m\u001b[0m\n\u001b[1;32m    513\u001b[0m                 \u001b[0mname\u001b[0m \u001b[0;34m=\u001b[0m \u001b[0mself\u001b[0m\u001b[0;34m.\u001b[0m\u001b[0mbind_names\u001b[0m\u001b[0;34m[\u001b[0m\u001b[0mbindparam\u001b[0m\u001b[0;34m]\u001b[0m\u001b[0;34m\u001b[0m\u001b[0m\n\u001b[0;32m--> 514\u001b[0;31m                 \u001b[0;32mif\u001b[0m \u001b[0mbindparam\u001b[0m\u001b[0;34m.\u001b[0m\u001b[0mkey\u001b[0m \u001b[0;32min\u001b[0m \u001b[0mparams\u001b[0m\u001b[0;34m:\u001b[0m\u001b[0;34m\u001b[0m\u001b[0m\n\u001b[0m\u001b[1;32m    515\u001b[0m                     \u001b[0mpd\u001b[0m\u001b[0;34m[\u001b[0m\u001b[0mname\u001b[0m\u001b[0;34m]\u001b[0m \u001b[0;34m=\u001b[0m \u001b[0mparams\u001b[0m\u001b[0;34m[\u001b[0m\u001b[0mbindparam\u001b[0m\u001b[0;34m.\u001b[0m\u001b[0mkey\u001b[0m\u001b[0;34m]\u001b[0m\u001b[0;34m\u001b[0m\u001b[0m\n\u001b[1;32m    516\u001b[0m                 \u001b[0;32melif\u001b[0m \u001b[0mname\u001b[0m \u001b[0;32min\u001b[0m \u001b[0mparams\u001b[0m\u001b[0;34m:\u001b[0m\u001b[0;34m\u001b[0m\u001b[0m\n",
      "\u001b[0;31mKeyboardInterrupt\u001b[0m: "
     ]
    }
   ],
   "source": [
    "# length of datasets\n",
    "length = 147333302\n",
    "# Works on partitions of the dataset\n",
    "def work(path, fields, partitions, rows, fn):\n",
    "    import numpy as np\n",
    "    div = rows // partitions\n",
    "\n",
    "    parts = np.arange(0, rows, div)\n",
    "    for i in parts:\n",
    "        df = pd.read_csv(path, sep='|', names=fields, skiprows=i, nrows=div, encoding='latin-1')\n",
    "        print(i)\n",
    "        fn(df)\n",
    "        del df\n",
    "        \n",
    "def to_sql(df):\n",
    "    # We can use the pandas.to_sql command to put the data in our SQLlite database:\n",
    "    df.to_sql(\"main\", sqlite_engine, if_exists='append', index=False)\n",
    "\n",
    "work(path/'Main.txt', main_fields, 69, length, to_sql)"
   ]
  },
  {
   "cell_type": "code",
   "execution_count": 75,
   "metadata": {},
   "outputs": [
    {
     "data": {
      "text/html": [
       "<div>\n",
       "<style scoped>\n",
       "    .dataframe tbody tr th:only-of-type {\n",
       "        vertical-align: middle;\n",
       "    }\n",
       "\n",
       "    .dataframe tbody tr th {\n",
       "        vertical-align: top;\n",
       "    }\n",
       "\n",
       "    .dataframe thead th {\n",
       "        text-align: right;\n",
       "    }\n",
       "</style>\n",
       "<table border=\"1\" class=\"dataframe\">\n",
       "  <thead>\n",
       "    <tr style=\"text-align: right;\">\n",
       "      <th></th>\n",
       "      <th>RowID</th>\n",
       "      <th>ImportParcelID</th>\n",
       "      <th>FIPS</th>\n",
       "      <th>State</th>\n",
       "      <th>County</th>\n",
       "      <th>ValueCertDate</th>\n",
       "      <th>ExtractDate</th>\n",
       "      <th>Edition</th>\n",
       "      <th>ZVendorStndCode</th>\n",
       "      <th>AssessorParcelNumber</th>\n",
       "      <th>...</th>\n",
       "      <th>PropertyAddressCBSACode</th>\n",
       "      <th>PropertyAddressCBSADivisionCode</th>\n",
       "      <th>PropertyAddressMatchType</th>\n",
       "      <th>PropertyAddressDPV</th>\n",
       "      <th>PropertyGeocodeQualityCode</th>\n",
       "      <th>PropertyAddressQualityCode</th>\n",
       "      <th>SubEdition</th>\n",
       "      <th>BatchID</th>\n",
       "      <th>BKFSPID</th>\n",
       "      <th>SourceChkSum</th>\n",
       "    </tr>\n",
       "  </thead>\n",
       "  <tbody>\n",
       "    <tr>\n",
       "      <th>0</th>\n",
       "      <td>083BFB02-2AD5-E511-80C1-3863BB43AC67</td>\n",
       "      <td>8904539</td>\n",
       "      <td>6001</td>\n",
       "      <td>CA</td>\n",
       "      <td>ALAMEDA</td>\n",
       "      <td>None</td>\n",
       "      <td>82010</td>\n",
       "      <td>18</td>\n",
       "      <td>BKF</td>\n",
       "      <td>1-1111-10</td>\n",
       "      <td>...</td>\n",
       "      <td>None</td>\n",
       "      <td>None</td>\n",
       "      <td>None</td>\n",
       "      <td>None</td>\n",
       "      <td>None</td>\n",
       "      <td>None</td>\n",
       "      <td>0</td>\n",
       "      <td>330739</td>\n",
       "      <td>-1</td>\n",
       "      <td>None</td>\n",
       "    </tr>\n",
       "    <tr>\n",
       "      <th>1</th>\n",
       "      <td>093BFB02-2AD5-E511-80C1-3863BB43AC67</td>\n",
       "      <td>8904540</td>\n",
       "      <td>6001</td>\n",
       "      <td>CA</td>\n",
       "      <td>ALAMEDA</td>\n",
       "      <td>None</td>\n",
       "      <td>82010</td>\n",
       "      <td>18</td>\n",
       "      <td>BKF</td>\n",
       "      <td>1-1111-11</td>\n",
       "      <td>...</td>\n",
       "      <td>None</td>\n",
       "      <td>None</td>\n",
       "      <td>None</td>\n",
       "      <td>None</td>\n",
       "      <td>None</td>\n",
       "      <td>None</td>\n",
       "      <td>0</td>\n",
       "      <td>330739</td>\n",
       "      <td>-1</td>\n",
       "      <td>None</td>\n",
       "    </tr>\n",
       "    <tr>\n",
       "      <th>2</th>\n",
       "      <td>0A3BFB02-2AD5-E511-80C1-3863BB43AC67</td>\n",
       "      <td>8904541</td>\n",
       "      <td>6001</td>\n",
       "      <td>CA</td>\n",
       "      <td>ALAMEDA</td>\n",
       "      <td>None</td>\n",
       "      <td>82010</td>\n",
       "      <td>18</td>\n",
       "      <td>BKF</td>\n",
       "      <td>1-1111-12</td>\n",
       "      <td>...</td>\n",
       "      <td>None</td>\n",
       "      <td>None</td>\n",
       "      <td>None</td>\n",
       "      <td>None</td>\n",
       "      <td>None</td>\n",
       "      <td>None</td>\n",
       "      <td>0</td>\n",
       "      <td>330739</td>\n",
       "      <td>-1</td>\n",
       "      <td>None</td>\n",
       "    </tr>\n",
       "  </tbody>\n",
       "</table>\n",
       "<p>3 rows × 95 columns</p>\n",
       "</div>"
      ],
      "text/plain": [
       "                                  RowID  ImportParcelID  FIPS State   County  \\\n",
       "0  083BFB02-2AD5-E511-80C1-3863BB43AC67         8904539  6001    CA  ALAMEDA   \n",
       "1  093BFB02-2AD5-E511-80C1-3863BB43AC67         8904540  6001    CA  ALAMEDA   \n",
       "2  0A3BFB02-2AD5-E511-80C1-3863BB43AC67         8904541  6001    CA  ALAMEDA   \n",
       "\n",
       "  ValueCertDate ExtractDate  Edition ZVendorStndCode AssessorParcelNumber  \\\n",
       "0          None       82010       18             BKF            1-1111-10   \n",
       "1          None       82010       18             BKF            1-1111-11   \n",
       "2          None       82010       18             BKF            1-1111-12   \n",
       "\n",
       "      ...      PropertyAddressCBSACode PropertyAddressCBSADivisionCode  \\\n",
       "0     ...                         None                            None   \n",
       "1     ...                         None                            None   \n",
       "2     ...                         None                            None   \n",
       "\n",
       "   PropertyAddressMatchType PropertyAddressDPV PropertyGeocodeQualityCode  \\\n",
       "0                      None               None                       None   \n",
       "1                      None               None                       None   \n",
       "2                      None               None                       None   \n",
       "\n",
       "  PropertyAddressQualityCode SubEdition BatchID BKFSPID SourceChkSum  \n",
       "0                       None          0  330739      -1         None  \n",
       "1                       None          0  330739      -1         None  \n",
       "2                       None          0  330739      -1         None  \n",
       "\n",
       "[3 rows x 95 columns]"
      ]
     },
     "execution_count": 75,
     "metadata": {},
     "output_type": "execute_result"
    }
   ],
   "source": [
    "sql_expr = \"\"\"\n",
    "SELECT * FROM main\n",
    "\"\"\"\n",
    "pd.read_sql(sql_expr, sqlite_engine)"
   ]
  },
  {
   "cell_type": "code",
   "execution_count": 76,
   "metadata": {},
   "outputs": [
    {
     "data": {
      "text/plain": [
       "<sqlalchemy.engine.result.ResultProxy at 0x7fb23b809240>"
      ]
     },
     "execution_count": 76,
     "metadata": {},
     "output_type": "execute_result"
    }
   ],
   "source": [
    "sql_expr = \"\"\"\n",
    "DROP TABLE main;\n",
    "\"\"\"\n",
    "sqlite_engine.execute(sql_expr)"
   ]
  },
  {
   "cell_type": "code",
   "execution_count": 45,
   "metadata": {},
   "outputs": [],
   "source": [
    "# Testing\n",
    "# defining a toy relation (a.k.a. table), populating it with some toy data, and working through some basic SQL\n",
    "\n",
    "sql_expr = \"\"\"\n",
    "CREATE TABLE students(\n",
    "    name TEXT uniqueidentifier, \n",
    "    gpa FLOAT CHECK (gpa >= 0.0 and gpa <= 4.0), \n",
    "    age smallint(2), \n",
    "    dept TEXT, \n",
    "    gender CHAR(2));\n",
    "\"\"\"\n",
    "result = sqlite_engine.execute(sql_expr)"
   ]
  },
  {
   "cell_type": "code",
   "execution_count": 43,
   "metadata": {},
   "outputs": [],
   "source": [
    "# The query returns a sqlalchemy ResultProxy object:\n",
    "result?"
   ]
  },
  {
   "cell_type": "code",
   "execution_count": null,
   "metadata": {},
   "outputs": [],
   "source": [
    "# We can check to see if the result object contains any data:\n",
    "result.returns_rows"
   ]
  },
  {
   "cell_type": "code",
   "execution_count": null,
   "metadata": {},
   "outputs": [],
   "source": [
    "sql_expr = \"\"\"\n",
    "INSERT INTO students VALUES \n",
    "  ('Sergey Brin', 2.8, 40, 'CS', 'M'),\n",
    "  ('Danah Boyd', 3.9, 35, 'CS', 'F'),\n",
    "  ('Bill Gates', 1.0, 60, 'CS', 'M'),\n",
    "  ('Hillary Mason', 4.0, 35, 'DATASCI', 'F'),\n",
    "  ('Mike Olson', 3.7, 50, 'CS', 'M'),\n",
    "  ('Mark Zuckerberg', 4.0, 30, 'CS', 'M'),\n",
    "  ('Sheryl Sandberg', 4.0, 47, 'BUSINESS', 'F'),\n",
    "  ('Susan Wojcicki', 4.0, 46, 'BUSINESS', 'F'),\n",
    "  ('Marissa Meyer', 4.0, 45, 'BUSINESS', 'F');\n",
    "\n",
    "\"\"\"\n",
    "result = sqlite_engine.execute(sql_expr)"
   ]
  },
  {
   "cell_type": "code",
   "execution_count": 24,
   "metadata": {},
   "outputs": [],
   "source": [
    "sql_expr = \"\"\"\n",
    "SELECT * FROM students;\n",
    "\"\"\"\n",
    "result = sqlite_engine.execute(sql_expr)"
   ]
  },
  {
   "cell_type": "code",
   "execution_count": 25,
   "metadata": {},
   "outputs": [
    {
     "data": {
      "text/plain": [
       "[('Sergey Brin', 2.8, 40, 'CS', 'M'),\n",
       " ('Danah Boyd', 3.9, 35, 'CS', 'F'),\n",
       " ('Bill Gates', 1.0, 60, 'CS', 'M'),\n",
       " ('Hillary Mason', 4.0, 35, 'DATASCI', 'F'),\n",
       " ('Mike Olson', 3.7, 50, 'CS', 'M'),\n",
       " ('Mark Zuckerberg', 4.0, 30, 'CS', 'M'),\n",
       " ('Sheryl Sandberg', 4.0, 47, 'BUSINESS', 'F'),\n",
       " ('Susan Wojcicki', 4.0, 46, 'BUSINESS', 'F'),\n",
       " ('Marissa Meyer', 4.0, 45, 'BUSINESS', 'F')]"
      ]
     },
     "execution_count": 25,
     "metadata": {},
     "output_type": "execute_result"
    }
   ],
   "source": [
    "# The query returns a persistent connection in the form of a cursor which can be used to read data from the database.\n",
    "[r for r in result.cursor]"
   ]
  },
  {
   "cell_type": "code",
   "execution_count": 26,
   "metadata": {},
   "outputs": [
    {
     "data": {
      "text/plain": [
       "[]"
      ]
     },
     "execution_count": 26,
     "metadata": {},
     "output_type": "execute_result"
    }
   ],
   "source": [
    "# However, as we read the cursor we advance it and so it can only be used once:\n",
    "[r for r in result.cursor]"
   ]
  },
  {
   "cell_type": "code",
   "execution_count": 27,
   "metadata": {},
   "outputs": [
    {
     "data": {
      "text/html": [
       "<div>\n",
       "<style scoped>\n",
       "    .dataframe tbody tr th:only-of-type {\n",
       "        vertical-align: middle;\n",
       "    }\n",
       "\n",
       "    .dataframe tbody tr th {\n",
       "        vertical-align: top;\n",
       "    }\n",
       "\n",
       "    .dataframe thead th {\n",
       "        text-align: right;\n",
       "    }\n",
       "</style>\n",
       "<table border=\"1\" class=\"dataframe\">\n",
       "  <thead>\n",
       "    <tr style=\"text-align: right;\">\n",
       "      <th></th>\n",
       "      <th>name</th>\n",
       "      <th>gpa</th>\n",
       "      <th>age</th>\n",
       "      <th>dept</th>\n",
       "      <th>gender</th>\n",
       "    </tr>\n",
       "  </thead>\n",
       "  <tbody>\n",
       "    <tr>\n",
       "      <th>0</th>\n",
       "      <td>Sergey Brin</td>\n",
       "      <td>2.8</td>\n",
       "      <td>40</td>\n",
       "      <td>CS</td>\n",
       "      <td>M</td>\n",
       "    </tr>\n",
       "    <tr>\n",
       "      <th>1</th>\n",
       "      <td>Danah Boyd</td>\n",
       "      <td>3.9</td>\n",
       "      <td>35</td>\n",
       "      <td>CS</td>\n",
       "      <td>F</td>\n",
       "    </tr>\n",
       "    <tr>\n",
       "      <th>2</th>\n",
       "      <td>Bill Gates</td>\n",
       "      <td>1.0</td>\n",
       "      <td>60</td>\n",
       "      <td>CS</td>\n",
       "      <td>M</td>\n",
       "    </tr>\n",
       "    <tr>\n",
       "      <th>3</th>\n",
       "      <td>Hillary Mason</td>\n",
       "      <td>4.0</td>\n",
       "      <td>35</td>\n",
       "      <td>DATASCI</td>\n",
       "      <td>F</td>\n",
       "    </tr>\n",
       "    <tr>\n",
       "      <th>4</th>\n",
       "      <td>Mike Olson</td>\n",
       "      <td>3.7</td>\n",
       "      <td>50</td>\n",
       "      <td>CS</td>\n",
       "      <td>M</td>\n",
       "    </tr>\n",
       "    <tr>\n",
       "      <th>5</th>\n",
       "      <td>Mark Zuckerberg</td>\n",
       "      <td>4.0</td>\n",
       "      <td>30</td>\n",
       "      <td>CS</td>\n",
       "      <td>M</td>\n",
       "    </tr>\n",
       "    <tr>\n",
       "      <th>6</th>\n",
       "      <td>Sheryl Sandberg</td>\n",
       "      <td>4.0</td>\n",
       "      <td>47</td>\n",
       "      <td>BUSINESS</td>\n",
       "      <td>F</td>\n",
       "    </tr>\n",
       "    <tr>\n",
       "      <th>7</th>\n",
       "      <td>Susan Wojcicki</td>\n",
       "      <td>4.0</td>\n",
       "      <td>46</td>\n",
       "      <td>BUSINESS</td>\n",
       "      <td>F</td>\n",
       "    </tr>\n",
       "    <tr>\n",
       "      <th>8</th>\n",
       "      <td>Marissa Meyer</td>\n",
       "      <td>4.0</td>\n",
       "      <td>45</td>\n",
       "      <td>BUSINESS</td>\n",
       "      <td>F</td>\n",
       "    </tr>\n",
       "  </tbody>\n",
       "</table>\n",
       "</div>"
      ],
      "text/plain": [
       "              name  gpa  age      dept gender\n",
       "0      Sergey Brin  2.8   40        CS      M\n",
       "1       Danah Boyd  3.9   35        CS      F\n",
       "2       Bill Gates  1.0   60        CS      M\n",
       "3    Hillary Mason  4.0   35   DATASCI      F\n",
       "4       Mike Olson  3.7   50        CS      M\n",
       "5  Mark Zuckerberg  4.0   30        CS      M\n",
       "6  Sheryl Sandberg  4.0   47  BUSINESS      F\n",
       "7   Susan Wojcicki  4.0   46  BUSINESS      F\n",
       "8    Marissa Meyer  4.0   45  BUSINESS      F"
      ]
     },
     "execution_count": 27,
     "metadata": {},
     "output_type": "execute_result"
    }
   ],
   "source": [
    "# Use Pandas to query the database. Here we pass the engine (or a connection) into the pandas.read_sql function:\n",
    "import pandas as pd\n",
    "\n",
    "sql_expr = \"\"\"\n",
    "SELECT * FROM students;\n",
    "\"\"\"\n",
    "pd.read_sql(sql_expr, sqlite_engine)"
   ]
  },
  {
   "cell_type": "code",
   "execution_count": 28,
   "metadata": {},
   "outputs": [
    {
     "data": {
      "text/html": [
       "<div>\n",
       "<style scoped>\n",
       "    .dataframe tbody tr th:only-of-type {\n",
       "        vertical-align: middle;\n",
       "    }\n",
       "\n",
       "    .dataframe tbody tr th {\n",
       "        vertical-align: top;\n",
       "    }\n",
       "\n",
       "    .dataframe thead th {\n",
       "        text-align: right;\n",
       "    }\n",
       "</style>\n",
       "<table border=\"1\" class=\"dataframe\">\n",
       "  <thead>\n",
       "    <tr style=\"text-align: right;\">\n",
       "      <th></th>\n",
       "      <th>total_bill</th>\n",
       "      <th>tip</th>\n",
       "      <th>sex</th>\n",
       "      <th>smoker</th>\n",
       "      <th>day</th>\n",
       "      <th>time</th>\n",
       "      <th>size</th>\n",
       "    </tr>\n",
       "  </thead>\n",
       "  <tbody>\n",
       "    <tr>\n",
       "      <th>0</th>\n",
       "      <td>16.99</td>\n",
       "      <td>1.01</td>\n",
       "      <td>Female</td>\n",
       "      <td>No</td>\n",
       "      <td>Sun</td>\n",
       "      <td>Dinner</td>\n",
       "      <td>2</td>\n",
       "    </tr>\n",
       "    <tr>\n",
       "      <th>1</th>\n",
       "      <td>10.34</td>\n",
       "      <td>1.66</td>\n",
       "      <td>Male</td>\n",
       "      <td>No</td>\n",
       "      <td>Sun</td>\n",
       "      <td>Dinner</td>\n",
       "      <td>3</td>\n",
       "    </tr>\n",
       "    <tr>\n",
       "      <th>2</th>\n",
       "      <td>21.01</td>\n",
       "      <td>3.50</td>\n",
       "      <td>Male</td>\n",
       "      <td>No</td>\n",
       "      <td>Sun</td>\n",
       "      <td>Dinner</td>\n",
       "      <td>3</td>\n",
       "    </tr>\n",
       "    <tr>\n",
       "      <th>3</th>\n",
       "      <td>23.68</td>\n",
       "      <td>3.31</td>\n",
       "      <td>Male</td>\n",
       "      <td>No</td>\n",
       "      <td>Sun</td>\n",
       "      <td>Dinner</td>\n",
       "      <td>2</td>\n",
       "    </tr>\n",
       "    <tr>\n",
       "      <th>4</th>\n",
       "      <td>24.59</td>\n",
       "      <td>3.61</td>\n",
       "      <td>Female</td>\n",
       "      <td>No</td>\n",
       "      <td>Sun</td>\n",
       "      <td>Dinner</td>\n",
       "      <td>4</td>\n",
       "    </tr>\n",
       "  </tbody>\n",
       "</table>\n",
       "</div>"
      ],
      "text/plain": [
       "   total_bill   tip     sex smoker  day    time  size\n",
       "0       16.99  1.01  Female     No  Sun  Dinner     2\n",
       "1       10.34  1.66    Male     No  Sun  Dinner     3\n",
       "2       21.01  3.50    Male     No  Sun  Dinner     3\n",
       "3       23.68  3.31    Male     No  Sun  Dinner     2\n",
       "4       24.59  3.61  Female     No  Sun  Dinner     4"
      ]
     },
     "execution_count": 28,
     "metadata": {},
     "output_type": "execute_result"
    }
   ],
   "source": [
    "# We can also populate the database using Pandas. In the following we first obtain the Tips dataset from the seaborn visualization library as a dataframe:\n",
    "import seaborn as sns\n",
    "\n",
    "tips_df = sns.load_dataset(\"tips\")\n",
    "tips_df.head()"
   ]
  },
  {
   "cell_type": "code",
   "execution_count": 31,
   "metadata": {},
   "outputs": [
    {
     "data": {
      "text/plain": [
       "['students', 'tips']"
      ]
     },
     "execution_count": 31,
     "metadata": {},
     "output_type": "execute_result"
    }
   ],
   "source": [
    "# We can then use the pandas.to_sql command to put the data in our SQLlite database:\n",
    "#tips_df.to_sql(\"tips\", sqlite_engine)\n",
    "#We can see that a new table has been added:\n",
    "sqlite_engine.table_names()"
   ]
  },
  {
   "cell_type": "code",
   "execution_count": 32,
   "metadata": {},
   "outputs": [
    {
     "data": {
      "text/html": [
       "<div>\n",
       "<style scoped>\n",
       "    .dataframe tbody tr th:only-of-type {\n",
       "        vertical-align: middle;\n",
       "    }\n",
       "\n",
       "    .dataframe tbody tr th {\n",
       "        vertical-align: top;\n",
       "    }\n",
       "\n",
       "    .dataframe thead th {\n",
       "        text-align: right;\n",
       "    }\n",
       "</style>\n",
       "<table border=\"1\" class=\"dataframe\">\n",
       "  <thead>\n",
       "    <tr style=\"text-align: right;\">\n",
       "      <th></th>\n",
       "      <th>index</th>\n",
       "      <th>total_bill</th>\n",
       "      <th>tip</th>\n",
       "      <th>sex</th>\n",
       "      <th>smoker</th>\n",
       "      <th>day</th>\n",
       "      <th>time</th>\n",
       "      <th>size</th>\n",
       "    </tr>\n",
       "  </thead>\n",
       "  <tbody>\n",
       "    <tr>\n",
       "      <th>0</th>\n",
       "      <td>125</td>\n",
       "      <td>29.80</td>\n",
       "      <td>4.20</td>\n",
       "      <td>Female</td>\n",
       "      <td>No</td>\n",
       "      <td>Thur</td>\n",
       "      <td>Lunch</td>\n",
       "      <td>6</td>\n",
       "    </tr>\n",
       "    <tr>\n",
       "      <th>1</th>\n",
       "      <td>141</td>\n",
       "      <td>34.30</td>\n",
       "      <td>6.70</td>\n",
       "      <td>Male</td>\n",
       "      <td>No</td>\n",
       "      <td>Thur</td>\n",
       "      <td>Lunch</td>\n",
       "      <td>6</td>\n",
       "    </tr>\n",
       "    <tr>\n",
       "      <th>2</th>\n",
       "      <td>142</td>\n",
       "      <td>41.19</td>\n",
       "      <td>5.00</td>\n",
       "      <td>Male</td>\n",
       "      <td>No</td>\n",
       "      <td>Thur</td>\n",
       "      <td>Lunch</td>\n",
       "      <td>5</td>\n",
       "    </tr>\n",
       "    <tr>\n",
       "      <th>3</th>\n",
       "      <td>143</td>\n",
       "      <td>27.05</td>\n",
       "      <td>5.00</td>\n",
       "      <td>Female</td>\n",
       "      <td>No</td>\n",
       "      <td>Thur</td>\n",
       "      <td>Lunch</td>\n",
       "      <td>6</td>\n",
       "    </tr>\n",
       "    <tr>\n",
       "      <th>4</th>\n",
       "      <td>155</td>\n",
       "      <td>29.85</td>\n",
       "      <td>5.14</td>\n",
       "      <td>Female</td>\n",
       "      <td>No</td>\n",
       "      <td>Sun</td>\n",
       "      <td>Dinner</td>\n",
       "      <td>5</td>\n",
       "    </tr>\n",
       "    <tr>\n",
       "      <th>5</th>\n",
       "      <td>156</td>\n",
       "      <td>48.17</td>\n",
       "      <td>5.00</td>\n",
       "      <td>Male</td>\n",
       "      <td>No</td>\n",
       "      <td>Sun</td>\n",
       "      <td>Dinner</td>\n",
       "      <td>6</td>\n",
       "    </tr>\n",
       "    <tr>\n",
       "      <th>6</th>\n",
       "      <td>185</td>\n",
       "      <td>20.69</td>\n",
       "      <td>5.00</td>\n",
       "      <td>Male</td>\n",
       "      <td>No</td>\n",
       "      <td>Sun</td>\n",
       "      <td>Dinner</td>\n",
       "      <td>5</td>\n",
       "    </tr>\n",
       "    <tr>\n",
       "      <th>7</th>\n",
       "      <td>187</td>\n",
       "      <td>30.46</td>\n",
       "      <td>2.00</td>\n",
       "      <td>Male</td>\n",
       "      <td>Yes</td>\n",
       "      <td>Sun</td>\n",
       "      <td>Dinner</td>\n",
       "      <td>5</td>\n",
       "    </tr>\n",
       "    <tr>\n",
       "      <th>8</th>\n",
       "      <td>216</td>\n",
       "      <td>28.15</td>\n",
       "      <td>3.00</td>\n",
       "      <td>Male</td>\n",
       "      <td>Yes</td>\n",
       "      <td>Sat</td>\n",
       "      <td>Dinner</td>\n",
       "      <td>5</td>\n",
       "    </tr>\n",
       "  </tbody>\n",
       "</table>\n",
       "</div>"
      ],
      "text/plain": [
       "   index  total_bill   tip     sex smoker   day    time  size\n",
       "0    125       29.80  4.20  Female     No  Thur   Lunch     6\n",
       "1    141       34.30  6.70    Male     No  Thur   Lunch     6\n",
       "2    142       41.19  5.00    Male     No  Thur   Lunch     5\n",
       "3    143       27.05  5.00  Female     No  Thur   Lunch     6\n",
       "4    155       29.85  5.14  Female     No   Sun  Dinner     5\n",
       "5    156       48.17  5.00    Male     No   Sun  Dinner     6\n",
       "6    185       20.69  5.00    Male     No   Sun  Dinner     5\n",
       "7    187       30.46  2.00    Male    Yes   Sun  Dinner     5\n",
       "8    216       28.15  3.00    Male    Yes   Sat  Dinner     5"
      ]
     },
     "execution_count": 32,
     "metadata": {},
     "output_type": "execute_result"
    }
   ],
   "source": [
    "sql_expr = \"\"\"\n",
    "SELECT * FROM tips\n",
    "WHERE size > 4;\n",
    "\"\"\"\n",
    "pd.read_sql(sql_expr, sqlite_engine)"
   ]
  },
  {
   "cell_type": "code",
   "execution_count": null,
   "metadata": {},
   "outputs": [],
   "source": []
  }
 ],
 "metadata": {
  "anaconda-cloud": {},
  "kernelspec": {
   "display_name": "Python 3",
   "language": "python",
   "name": "python3"
  },
  "language_info": {
   "codemirror_mode": {
    "name": "ipython",
    "version": 3
   },
   "file_extension": ".py",
   "mimetype": "text/x-python",
   "name": "python",
   "nbconvert_exporter": "python",
   "pygments_lexer": "ipython3",
   "version": "3.5.4"
  }
 },
 "nbformat": 4,
 "nbformat_minor": 2
}
