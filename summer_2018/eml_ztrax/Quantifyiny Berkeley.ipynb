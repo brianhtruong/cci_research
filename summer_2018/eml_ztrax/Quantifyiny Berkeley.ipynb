{
 "cells": [
  {
   "cell_type": "code",
   "execution_count": 11,
   "metadata": {},
   "outputs": [],
   "source": [
    "import numpy as np\n",
    "import matplotlib.pyplot as plt\n",
    "import pandas as pd\n",
    "\n",
    "import seaborn as sns\n",
    "import zipfile\n",
    "%matplotlib inline\n",
    "plt.style.use('fivethirtyeight')\n",
    "sns.set()\n",
    "\n",
    "sns.set_context(\"talk\")\n",
    "import re\n",
    "\n",
    "# Ensure that Pandas shows at least 100 characters in columns\n",
    "pd.set_option('max_colwidth', 100)\n",
    "pd.set_option('display.max_columns', None)\n",
    "\n",
    "from pathlib import Path\n",
    "\n",
    "# SQL\n",
    "import sqlalchemy"
   ]
  },
  {
   "cell_type": "code",
   "execution_count": 20,
   "metadata": {},
   "outputs": [
    {
     "name": "stderr",
     "output_type": "stream",
     "text": [
      "/usr/local/linux/anaconda3/lib/python3.5/site-packages/IPython/core/interactiveshell.py:2728: DtypeWarning: Columns (5,14,17,19,22,40,43,48,51,62,70,73,74,79,102,123) have mixed types. Specify dtype option on import or set low_memory=False.\n",
      "  interactivity=interactivity, compiler=compiler, result=result)\n"
     ]
    }
   ],
   "source": [
    "alameda = pd.read_csv('alameda_v2.csv', sep='|')"
   ]
  },
  {
   "cell_type": "code",
   "execution_count": 73,
   "metadata": {},
   "outputs": [
    {
     "name": "stdout",
     "output_type": "stream",
     "text": [
      "Current number: 26994\n"
     ]
    }
   ],
   "source": [
    "#Filter for Berkeley JCE only\n",
    "berk_jc = alameda[alameda.PropertyCity == 'BERKELEY']\n",
    "print('Current number:', len(berk_jc))"
   ]
  },
  {
   "cell_type": "code",
   "execution_count": 74,
   "metadata": {},
   "outputs": [],
   "source": [
    "# Filter for not subsidized\n",
    "berk_jc = berk_jc[berk_jc['Subsidized'] == 'N']"
   ]
  },
  {
   "cell_type": "code",
   "execution_count": 75,
   "metadata": {},
   "outputs": [
    {
     "data": {
      "text/plain": [
       "(26993, 135)"
      ]
     },
     "execution_count": 75,
     "metadata": {},
     "output_type": "execute_result"
    }
   ],
   "source": [
    "# Check structure \n",
    "# (number of records, number of columns)\n",
    "berk_jc.shape"
   ]
  },
  {
   "cell_type": "code",
   "execution_count": 76,
   "metadata": {},
   "outputs": [
    {
     "data": {
      "text/html": [
       "<div>\n",
       "<style scoped>\n",
       "    .dataframe tbody tr th:only-of-type {\n",
       "        vertical-align: middle;\n",
       "    }\n",
       "\n",
       "    .dataframe tbody tr th {\n",
       "        vertical-align: top;\n",
       "    }\n",
       "\n",
       "    .dataframe thead th {\n",
       "        text-align: right;\n",
       "    }\n",
       "</style>\n",
       "<table border=\"1\" class=\"dataframe\">\n",
       "  <thead>\n",
       "    <tr style=\"text-align: right;\">\n",
       "      <th></th>\n",
       "      <th>StndCode</th>\n",
       "      <th>PropertyLandUse Description</th>\n",
       "      <th>Prefix Code Classification</th>\n",
       "      <th>Classification</th>\n",
       "    </tr>\n",
       "  </thead>\n",
       "  <tbody>\n",
       "    <tr>\n",
       "      <th>0</th>\n",
       "      <td>AG000</td>\n",
       "      <td>AGRICULTURAL GENERAL</td>\n",
       "      <td>AG</td>\n",
       "      <td>Agricultural</td>\n",
       "    </tr>\n",
       "    <tr>\n",
       "      <th>1</th>\n",
       "      <td>AG101</td>\n",
       "      <td>FARM (IRRIGATED OR DRY)</td>\n",
       "      <td>AG</td>\n",
       "      <td>Agricultural</td>\n",
       "    </tr>\n",
       "  </tbody>\n",
       "</table>\n",
       "</div>"
      ],
      "text/plain": [
       "  StndCode PropertyLandUse Description Prefix Code Classification  \\\n",
       "0    AG000        AGRICULTURAL GENERAL                         AG   \n",
       "1    AG101     FARM (IRRIGATED OR DRY)                         AG   \n",
       "\n",
       "  Classification  \n",
       "0   Agricultural  \n",
       "1   Agricultural  "
      ]
     },
     "execution_count": 76,
     "metadata": {},
     "output_type": "execute_result"
    }
   ],
   "source": [
    "data_dict = pd.read_excel('ZAsmt_DataDictionary_2016-01.xlsx', sheet_name='LandUse', header=5, usecols=np.arange(4))\n",
    "data_dict.head(2)"
   ]
  },
  {
   "cell_type": "code",
   "execution_count": 77,
   "metadata": {},
   "outputs": [],
   "source": [
    "residential = data_dict[data_dict['Prefix Code Classification'].isin(['RI', 'RR'])]\n",
    "R = residential['StndCode']"
   ]
  },
  {
   "cell_type": "code",
   "execution_count": 78,
   "metadata": {},
   "outputs": [
    {
     "name": "stdout",
     "output_type": "stream",
     "text": [
      "Current number: 26383\n"
     ]
    }
   ],
   "source": [
    "# Quoted comments refer to the lines in the JC and RC inventory. Specifically each coverage/exemption.\n",
    "\n",
    "# \"Units owned by a government agency\"\n",
    "# \"Nursing or hospital units or home for the aged and the like\"\n",
    "# Filter rows to only include residential buildings\n",
    "berk_jc = berk_jc[berk_jc['PropertyLandUseStndCode'].isin(R)]\n",
    "print('Current number:', len(berk_jc))"
   ]
  },
  {
   "cell_type": "code",
   "execution_count": 79,
   "metadata": {},
   "outputs": [
    {
     "name": "stdout",
     "output_type": "stream",
     "text": [
      "Current number: 23046\n"
     ]
    }
   ],
   "source": [
    "# \"Two unit properties where one unit is owner-occupied\"\n",
    "# Filter out properties with 2 or more units and owner occupied\n",
    "berk_jc = berk_jc[~(berk_jc['OccupancyStatusStndCode'].isin(['O', 'I']) & (berk_jc.NoOfUnits >= 2))]\n",
    "print('Current number:', len(berk_jc))"
   ]
  },
  {
   "cell_type": "code",
   "execution_count": 65,
   "metadata": {},
   "outputs": [
    {
     "name": "stdout",
     "output_type": "stream",
     "text": [
      "Current number: 26994\n"
     ]
    }
   ],
   "source": [
    "berk_rc = alameda[alameda.PropertyCity == 'BERKELEY']\n",
    "print('Current number:', len(berk_rc))"
   ]
  },
  {
   "cell_type": "code",
   "execution_count": 66,
   "metadata": {},
   "outputs": [
    {
     "name": "stdout",
     "output_type": "stream",
     "text": [
      "Current number: 26993\n"
     ]
    }
   ],
   "source": [
    "# Filter for not subsidized\n",
    "berk_rc = berk_rc[berk_rc['Subsidized'] == 'N']\n",
    "print('Current number:', len(berk_rc))"
   ]
  },
  {
   "cell_type": "code",
   "execution_count": 67,
   "metadata": {},
   "outputs": [
    {
     "name": "stdout",
     "output_type": "stream",
     "text": [
      "Current number: 26383\n"
     ]
    }
   ],
   "source": [
    "# Quoted comments refer to the lines in the JC and RC inventory. Specifically each coverage/exemption.\n",
    "\n",
    "# Filter rows to only include residential buildings\n",
    "berk_rc = berk_rc[berk_rc['PropertyLandUseStndCode'].isin(R)]\n",
    "print('Current number:', len(berk_rc))"
   ]
  },
  {
   "cell_type": "code",
   "execution_count": 68,
   "metadata": {},
   "outputs": [
    {
     "name": "stdout",
     "output_type": "stream",
     "text": [
      "Current number: 23900\n"
     ]
    }
   ],
   "source": [
    "# \"Units eligible for RC:\"\n",
    "# \"Most multi-unit properties that were built before June 1980\"\n",
    "# \"Units eligible for RC: Single family homes with tenants who moved in prior to 1996\"\n",
    "\n",
    "# \"Units NOT eligible for RC: \"\n",
    "# \"Single-family homes first re-rented on or after 1/1/1996\"\n",
    "# APPROXIMATING THOSE ABOVE^^^^^^^^\n",
    "# Select buildings before 1996, this automatically include all buildings built before 1980. \n",
    "# It will also approximate buildings where people rented or moved in before 1996\n",
    "berk_rc = berk_rc[berk_rc.YearBuilt < 1996]\n",
    "print('Current number:', len(berk_rc))"
   ]
  },
  {
   "cell_type": "code",
   "execution_count": 72,
   "metadata": {},
   "outputs": [
    {
     "name": "stdout",
     "output_type": "stream",
     "text": [
      "Current number: 6247\n"
     ]
    }
   ],
   "source": [
    "berk_rc = berk_rc[(berk_rc.PropertyLandUseStndCode.str.contains('RI') & (berk_rc.YearBuilt < 1981)) | (berk_rc.PropertyLandUseStndCode.isin(['RR101', 'RR999']) & berk_rc.OccupancyStatusStndCode.isnull())]\n",
    "print('Current number:', len(berk_rc))"
   ]
  },
  {
   "cell_type": "code",
   "execution_count": 80,
   "metadata": {},
   "outputs": [
    {
     "name": "stdout",
     "output_type": "stream",
     "text": [
      "Current number: 6247\n"
     ]
    }
   ],
   "source": [
    "# Costa Hawkins exclude Condos\n",
    "berk_rc = berk_rc[berk_rc.PropertyLandUseStndCode != 'RR106']\n",
    "print('Current number:', len(berk_rc))"
   ]
  },
  {
   "cell_type": "code",
   "execution_count": 81,
   "metadata": {},
   "outputs": [
    {
     "data": {
      "text/plain": [
       "(6247, 135)"
      ]
     },
     "execution_count": 81,
     "metadata": {},
     "output_type": "execute_result"
    }
   ],
   "source": [
    "berk_rc[berk_rc.PropertyLandUseStndCode != 'RR107'].shape"
   ]
  },
  {
   "cell_type": "code",
   "execution_count": null,
   "metadata": {},
   "outputs": [],
   "source": [
    "berk_rc.OccupancyStatusStndCode.isnull().sum()"
   ]
  },
  {
   "cell_type": "code",
   "execution_count": null,
   "metadata": {},
   "outputs": [],
   "source": []
  },
  {
   "cell_type": "code",
   "execution_count": null,
   "metadata": {},
   "outputs": [],
   "source": []
  }
 ],
 "metadata": {
  "anaconda-cloud": {},
  "kernelspec": {
   "display_name": "Python 3",
   "language": "python",
   "name": "python3"
  },
  "language_info": {
   "codemirror_mode": {
    "name": "ipython",
    "version": 3
   },
   "file_extension": ".py",
   "mimetype": "text/x-python",
   "name": "python",
   "nbconvert_exporter": "python",
   "pygments_lexer": "ipython3",
   "version": "3.5.4"
  }
 },
 "nbformat": 4,
 "nbformat_minor": 2
}
