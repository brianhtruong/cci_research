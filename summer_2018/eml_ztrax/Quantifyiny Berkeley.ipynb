{
 "cells": [
  {
   "cell_type": "code",
   "execution_count": 215,
   "metadata": {},
   "outputs": [],
   "source": [
    "import numpy as np\n",
    "import matplotlib.pyplot as plt\n",
    "import pandas as pd\n",
    "\n",
    "import seaborn as sns\n",
    "import zipfile\n",
    "%matplotlib inline\n",
    "plt.style.use('fivethirtyeight')\n",
    "sns.set()\n",
    "\n",
    "sns.set_context(\"talk\")\n",
    "import re\n",
    "\n",
    "# Ensure that Pandas shows at least 100 characters in columns\n",
    "pd.set_option('max_colwidth', 100)\n",
    "pd.set_option('display.max_columns', None)\n",
    "\n",
    "from pathlib import Path\n",
    "\n",
    "# SQL\n",
    "import sqlalchemy"
   ]
  },
  {
   "cell_type": "code",
   "execution_count": 216,
   "metadata": {},
   "outputs": [
    {
     "name": "stderr",
     "output_type": "stream",
     "text": [
      "/usr/local/linux/anaconda3/lib/python3.5/site-packages/IPython/core/interactiveshell.py:2728: DtypeWarning: Columns (5,12,14,17,19,22,40,43,45,48,51,62,70,73,74,79,100,102,123) have mixed types. Specify dtype option on import or set low_memory=False.\n",
      "  interactivity=interactivity, compiler=compiler, result=result)\n"
     ]
    }
   ],
   "source": [
    "alameda = pd.read_csv('alameda_v2.csv', sep='|')"
   ]
  },
  {
   "cell_type": "code",
   "execution_count": 217,
   "metadata": {},
   "outputs": [
    {
     "name": "stdout",
     "output_type": "stream",
     "text": [
      "Current number: 26993\n"
     ]
    }
   ],
   "source": [
    "#Filter for Berkeley JCE only\n",
    "berk_jc = alameda[alameda.PropertyCity == 'BERKELEY']\n",
    "print('Current number:', len(berk_jc))"
   ]
  },
  {
   "cell_type": "code",
   "execution_count": 218,
   "metadata": {},
   "outputs": [],
   "source": [
    "# Filter for not subsidized\n",
    "berk_jc = berk_jc[berk_jc['Subsidized'] == 'N']"
   ]
  },
  {
   "cell_type": "code",
   "execution_count": 219,
   "metadata": {},
   "outputs": [
    {
     "data": {
      "text/plain": [
       "(26987, 135)"
      ]
     },
     "execution_count": 219,
     "metadata": {},
     "output_type": "execute_result"
    }
   ],
   "source": [
    "# Check structure \n",
    "# (number of records, number of columns)\n",
    "berk_jc.shape"
   ]
  },
  {
   "cell_type": "code",
   "execution_count": 220,
   "metadata": {},
   "outputs": [
    {
     "data": {
      "text/html": [
       "<div>\n",
       "<style scoped>\n",
       "    .dataframe tbody tr th:only-of-type {\n",
       "        vertical-align: middle;\n",
       "    }\n",
       "\n",
       "    .dataframe tbody tr th {\n",
       "        vertical-align: top;\n",
       "    }\n",
       "\n",
       "    .dataframe thead th {\n",
       "        text-align: right;\n",
       "    }\n",
       "</style>\n",
       "<table border=\"1\" class=\"dataframe\">\n",
       "  <thead>\n",
       "    <tr style=\"text-align: right;\">\n",
       "      <th></th>\n",
       "      <th>StndCode</th>\n",
       "      <th>PropertyLandUse Description</th>\n",
       "      <th>Prefix Code Classification</th>\n",
       "      <th>Classification</th>\n",
       "    </tr>\n",
       "  </thead>\n",
       "  <tbody>\n",
       "    <tr>\n",
       "      <th>0</th>\n",
       "      <td>AG000</td>\n",
       "      <td>AGRICULTURAL GENERAL</td>\n",
       "      <td>AG</td>\n",
       "      <td>Agricultural</td>\n",
       "    </tr>\n",
       "    <tr>\n",
       "      <th>1</th>\n",
       "      <td>AG101</td>\n",
       "      <td>FARM (IRRIGATED OR DRY)</td>\n",
       "      <td>AG</td>\n",
       "      <td>Agricultural</td>\n",
       "    </tr>\n",
       "  </tbody>\n",
       "</table>\n",
       "</div>"
      ],
      "text/plain": [
       "  StndCode PropertyLandUse Description Prefix Code Classification  \\\n",
       "0    AG000        AGRICULTURAL GENERAL                         AG   \n",
       "1    AG101     FARM (IRRIGATED OR DRY)                         AG   \n",
       "\n",
       "  Classification  \n",
       "0   Agricultural  \n",
       "1   Agricultural  "
      ]
     },
     "execution_count": 220,
     "metadata": {},
     "output_type": "execute_result"
    }
   ],
   "source": [
    "data_dict = pd.read_excel('ZAsmt_DataDictionary_2016-01.xlsx', sheet_name='LandUse', header=5, usecols=np.arange(4))\n",
    "data_dict.head(2)"
   ]
  },
  {
   "cell_type": "code",
   "execution_count": 221,
   "metadata": {},
   "outputs": [],
   "source": [
    "residential = data_dict[data_dict['Prefix Code Classification'].isin(['RI', 'RR'])]\n",
    "R = residential['StndCode']"
   ]
  },
  {
   "cell_type": "code",
   "execution_count": 222,
   "metadata": {},
   "outputs": [
    {
     "name": "stdout",
     "output_type": "stream",
     "text": [
      "Current number: 26423\n"
     ]
    }
   ],
   "source": [
    "# Quoted comments refer to the lines in the JC and RC inventory. Specifically each coverage/exemption.\n",
    "\n",
    "# \"Units owned by a government agency\"\n",
    "# \"Nursing or hospital units or home for the aged and the like\"\n",
    "# Filter rows to only include residential buildings\n",
    "berk_jc = berk_jc[berk_jc['PropertyLandUseStndCode'].isin(R)]\n",
    "print('Current number:', len(berk_jc))"
   ]
  },
  {
   "cell_type": "code",
   "execution_count": 223,
   "metadata": {},
   "outputs": [
    {
     "name": "stdout",
     "output_type": "stream",
     "text": [
      "Current number: 24680\n"
     ]
    },
    {
     "name": "stderr",
     "output_type": "stream",
     "text": [
      "/usr/local/linux/anaconda3/lib/python3.5/site-packages/ipykernel_launcher.py:3: UserWarning: Boolean Series key will be reindexed to match DataFrame index.\n",
      "  This is separate from the ipykernel package so we can avoid doing imports until\n"
     ]
    }
   ],
   "source": [
    "# \"Two unit properties where one unit is owner-occupied\"\n",
    "# Filter out properties with 2 or more units and owner occupied\n",
    "berk_jc = berk_jc[~(berk_jc['OccupancyStatusStndCode'].isin(['O', 'I']) & ((berk_jc.NoOfUnits == 2) | (berk_rc.PropertyLandUseStndCode == 'RI101')))]\n",
    "print('Current number:', len(berk_jc))"
   ]
  },
  {
   "cell_type": "code",
   "execution_count": 224,
   "metadata": {},
   "outputs": [
    {
     "name": "stdout",
     "output_type": "stream",
     "text": [
      "Current number: 24680\n"
     ]
    }
   ],
   "source": [
    "# \"Units rented by certain institutions of higher learning to staff, students or faculty\n",
    "berk_jc = berk_jc[~(berk_jc.PropertyLandUseStndCode == 'RI113')]\n",
    "print('Last Current number:', len(berk_jc))"
   ]
  },
  {
   "cell_type": "code",
   "execution_count": 225,
   "metadata": {},
   "outputs": [
    {
     "name": "stdout",
     "output_type": "stream",
     "text": [
      "Current number: 26993\n"
     ]
    }
   ],
   "source": [
    "berk_rc = alameda[alameda.PropertyCity == 'BERKELEY']\n",
    "print('Current number:', len(berk_rc))"
   ]
  },
  {
   "cell_type": "code",
   "execution_count": 226,
   "metadata": {},
   "outputs": [
    {
     "name": "stdout",
     "output_type": "stream",
     "text": [
      "Current number: 26987\n"
     ]
    }
   ],
   "source": [
    "# Filter for not subsidized\n",
    "berk_rc = berk_rc[berk_rc['Subsidized'] == 'N']\n",
    "print('Current number:', len(berk_rc))"
   ]
  },
  {
   "cell_type": "code",
   "execution_count": 227,
   "metadata": {},
   "outputs": [
    {
     "name": "stdout",
     "output_type": "stream",
     "text": [
      "Current number: 26423\n"
     ]
    }
   ],
   "source": [
    "# Quoted comments refer to the lines in the JC and RC inventory. Specifically each coverage/exemption.\n",
    "\n",
    "# Filter rows to only include residential buildings\n",
    "berk_rc = berk_rc[berk_rc['PropertyLandUseStndCode'].isin(R)]\n",
    "print('Current number:', len(berk_rc))"
   ]
  },
  {
   "cell_type": "code",
   "execution_count": 228,
   "metadata": {},
   "outputs": [
    {
     "name": "stdout",
     "output_type": "stream",
     "text": [
      "Current number: 22436\n"
     ]
    }
   ],
   "source": [
    "# \"Units eligible for RC:\"\n",
    "# \"Most multi-unit properties that were built before June 1980\"\n",
    "# \"Units eligible for RC: Single family homes with tenants who moved in prior to 1996\"\n",
    "\n",
    "# \"Units partially eligible for RC: \"\n",
    "# \"Single-family homes first re-rented on or after 1/1/1996\"\n",
    "# \"Most condonomiums\n",
    "# APPROXIMATING THOSE ABOVE^^^^^^^^\n",
    "# Select buildings before 1996, this automatically include all buildings built before 1980. \n",
    "# It will also approximate buildings where people rented, re-rented, or moved in before 1996\n",
    "berk_rc = berk_rc[berk_rc.YearBuilt < 1996]\n",
    "print('Current number:', len(berk_rc))"
   ]
  },
  {
   "cell_type": "code",
   "execution_count": 229,
   "metadata": {},
   "outputs": [
    {
     "name": "stdout",
     "output_type": "stream",
     "text": [
      "Current number: 21963\n"
     ]
    }
   ],
   "source": [
    "berk_rc = berk_rc[(berk_rc.PropertyLandUseStndCode.str.contains('RI') & (berk_rc.YearBuilt < 1981)) | (berk_rc.PropertyLandUseStndCode.isin(['RR101', 'RR999', 'RR106']))]\n",
    "print('Current number:', len(berk_rc))"
   ]
  },
  {
   "cell_type": "code",
   "execution_count": 230,
   "metadata": {},
   "outputs": [],
   "source": [
    "# \"Units fully exempt from RC:\"\n",
    "\"\"\"\n",
    "Any duplex that was owner-occupied\n",
    "on December 31, 1979, and currently\n",
    "has an owner living in one of the\n",
    "units (\"Golden Duplexes\")\n",
    "\n",
    "Rental units rented by a non-profit,\n",
    "accredited institution of a higher\n",
    "learning (i.e., dorms)\n",
    "\n",
    "Non-profit cooperatives\n",
    "\"\"\"\n",
    "berk_rc = berk_rc[~(berk_rc.PropertyLandUseStndCode.isin(['RI113', 'RR107']))]\n",
    "berk_rc = berk_rc[~((berk_rc['OccupancyStatusStndCode'].isin(['O', 'I'])) & (berk_rc.PropertyLandUseStndCode == 'RI101') & (berk_rc.YearBuilt < 1980))]"
   ]
  },
  {
   "cell_type": "code",
   "execution_count": 231,
   "metadata": {},
   "outputs": [
    {
     "data": {
      "text/plain": [
       "20726"
      ]
     },
     "execution_count": 231,
     "metadata": {},
     "output_type": "execute_result"
    }
   ],
   "source": [
    "# sum up multi-units and single family homes and condos\n",
    "#value = {'NoOfUnits': 1}\n",
    "#berk_rc.fillna(value=value, inplace=True)\n",
    "len(berk_rc)"
   ]
  },
  {
   "cell_type": "code",
   "execution_count": 232,
   "metadata": {},
   "outputs": [
    {
     "name": "stdout",
     "output_type": "stream",
     "text": [
      "Last JC Current number: 24680\n",
      "Last RC Current number: 20726\n"
     ]
    }
   ],
   "source": [
    "print('Last JC Current number:', len(berk_jc))\n",
    "# includes full and partially coverage\n",
    "print('Last RC Current number:', len(berk_rc))"
   ]
  },
  {
   "cell_type": "code",
   "execution_count": null,
   "metadata": {},
   "outputs": [],
   "source": []
  }
 ],
 "metadata": {
  "anaconda-cloud": {},
  "kernelspec": {
   "display_name": "Python 3",
   "language": "python",
   "name": "python3"
  },
  "language_info": {
   "codemirror_mode": {
    "name": "ipython",
    "version": 3
   },
   "file_extension": ".py",
   "mimetype": "text/x-python",
   "name": "python",
   "nbconvert_exporter": "python",
   "pygments_lexer": "ipython3",
   "version": "3.5.4"
  }
 },
 "nbformat": 4,
 "nbformat_minor": 2
}
