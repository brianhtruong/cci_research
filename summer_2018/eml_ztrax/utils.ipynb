{
 "cells": [
  {
   "cell_type": "code",
   "execution_count": 18,
   "metadata": {},
   "outputs": [],
   "source": [
    "import numpy as np\n",
    "import matplotlib.pyplot as plt\n",
    "import pandas as pd\n",
    "\n",
    "import seaborn as sns\n",
    "import zipfile\n",
    "%matplotlib inline\n",
    "plt.style.use('fivethirtyeight')\n",
    "sns.set()\n",
    "\n",
    "sns.set_context(\"talk\")\n",
    "import re\n",
    "\n",
    "# Ensure that Pandas shows at least 100 characters in columns\n",
    "pd.set_option('max_colwidth', 100)\n",
    "pd.set_option('display.max_columns', None)\n",
    "\n",
    "from pathlib import Path\n",
    "\n",
    "# SQL\n",
    "import sqlalchemy"
   ]
  },
  {
   "cell_type": "code",
   "execution_count": 19,
   "metadata": {},
   "outputs": [],
   "source": [
    "# function  to add subsidized or not\n",
    "def add_subsidized(county, grouped=False, sql=False):\n",
    "    if sql:\n",
    "        sqlite_uri = \"sqlite:///ZCountyExtracts.sqlite\"\n",
    "        zce_engine = sqlalchemy.create_engine(sqlite_uri)\n",
    "        print(zce_engine.table_names())\n",
    "        sql_expr = \"SELECT * FROM \" + county + \";\" \n",
    "        df = pd.read_sql(sql_expr, zce_engine)\n",
    "        display(df.head())\n",
    "    else:\n",
    "        fields = ['RowID' ,'ImportParcelID' ,'FIPS' ,'State' ,'County' ,'ValueCertDate' ,'ExtractDate' ,'Edition' ,'ZVendorStndCode' ,'AssessorParcelNumber' ,'DupAPN' ,'ParcelSequenceNumber' ,'ParcelNumberTypeStndCode' ,'RecordSourceStndCode' ,'RecordTypeStndCode' ,'ConfidentialRecordFlag' ,'PropertyAddressSourceStndCode' ,'PropertyHouseNumber' ,'PropertyHouseNumberExt' ,'PropertyStreetPreDirectional' ,'PropertyStreetName' ,'PropertyStreetSuffix' ,'PropertyStreetPostDirectional' ,'PropertyFullStreetAddress' ,'PropertyCity' ,'PropertyState' ,'PropertyZip' ,'OriginalPropertyFullStreetAddress' ,'OriginalPropertyAddressLastline' ,'PropertyBuildingNumber' ,'PropertyZoningDescription' ,'PropertyZoningSourceCode' ,'CensusTract' ,'TaxIDNumber' ,'TaxAmount' ,'TaxYear' ,'TaxDelinquencyFlag' ,'TaxDelinquencyAmount' ,'TaxDelinquencyYear' ,'TaxRateCodeArea' ,'LegalLot' ,'LegalLotStndCode' ,'LegalOtherLot' ,'LegalBlock' ,'LegalSubdivisionCode' ,'LegalSubdivisionName' ,'LegalCondoProjectPUDDevName' ,'LegalBuildingNumber' ,'LegalUnit' ,'LegalSection' ,'LegalPhase' ,'LegalTract' ,'LegalDistrict' ,'LegalMunicipality' ,'LegalCity' ,'LegalTownship' ,'LegalSTRSection' ,'LegalSTRTownship' ,'LegalSTRRange' ,'LegalSTRMeridian' ,'LegalSecTwnRngMer' ,'LegalRecordersMapReference' ,'LegalDescription' ,'LegalNeighborhoodSourceCode' ,'NoOfBuildings' ,'LotSizeAcres' ,'LotSizeSquareFeet' ,'LotSizeFrontageFeet' ,'LotSizeDepthFeet' ,'LotSizeIRR' ,'LotSiteTopographyStndCode' ,'LoadID' ,'PropertyAddressMatchcode' ,'PropertyAddressUnitDesignator' ,'PropertyAddressUnitNumber' ,'PropertyAddressCarrierRoute' ,'PropertyAddressGeoCodeMatchCode' ,'PropertyAddressLatitude' ,'PropertyAddressLongitude' ,'PropertyAddressCensusTractAndBlock' ,'PropertyAddressConfidenceScore' ,'PropertyAddressCBSACode' ,'PropertyAddressCBSADivisionCode' ,'PropertyAddressMatchType' ,'PropertyAddressDPV' ,'PropertyGeocodeQualityCode' ,'PropertyAddressQualityCode' ,'SubEdition' ,'BatchID' ,'BKFSPID', 'RowID2' ,'NoOfUnits' ,'OccupancyStatusStndCode' ,'PropertyCountyLandUseDescription' ,'PropertyCountyLandUseCode' ,'PropertyLandUseStndCode' ,'PropertyStateLandUseDescription' ,'PropertyStateLandUseCode' ,'BuildingOrImprovementNumber' ,'BuildingClassStndCode' ,'BuildingQualityStndCode' ,'BuildingQualityStndCodeOriginal' ,'BuildingConditionStndCode' ,'ArchitecturalStyleStndCode' ,'YearBuilt' ,'EffectiveYearBuilt' ,'YearRemodeled' ,'NoOfStories' ,'TotalRooms' ,'TotalBedrooms' ,'TotalKitchens' ,'FullBath' ,'ThreeQuarterBath' ,'HalfBath' ,'QuarterBath' ,'TotalActualBathCount' ,'BathSourceStndCode' ,'TotalBathPlumbingFixtures' ,'RoofCoverStndCode' ,'RoofStructureTypeStndCode' ,'HeatingTypeorSystemStndCode' ,'AirConditioningTypeorSystemStndCode' ,'FoundationTypeStndCode' ,'ElevatorStndCode' ,'FireplaceFlag' ,'FirePlaceTypeStndCode' ,'FireplaceNumber' ,'WaterStndCode' ,'SewerStndCode' ,'MortgageLenderName' ,'TimeshareStndCode' ,'Comments' ,'StoryTypeStndCode']\n",
    "        df = pd.read_csv(county+'.csv', sep=',', names=fields, header=None)\n",
    "    \n",
    "    # get most recent parcel\n",
    "    #if ~grouped:\n",
    "        #df = df.sort('LoadID', ascending=False).groupby('ImportParcelID', as_index=False).first()\n",
    "\n",
    "    # Load CHPC which will help determine if property is subsidized\n",
    "    chpc = pd.read_excel('chpc.xls', sheet_name='Cleaned')\n",
    "    # Compare Address numbers and name \n",
    "    chpc['Address_Num'] = chpc['Address_Cleaned'].str.extract(r'(\\d+)')\n",
    "    chpc['Address_Name'] = chpc['Address_Cleaned'].str.extract(r'([^\\d,-]\\w+)').str.upper()\n",
    "    # Merge based on euclidean distance\n",
    "    chpc = chpc.dropna(subset=['Longitude', 'Latitude'])\n",
    "    def merge_euclidean(table, eps=0.01):\n",
    "        chpc_list = []\n",
    "        table['merge_row'] = table.index.values\n",
    "        for i, row in table.iterrows():\n",
    "            chpc_subset = chpc.loc[((chpc.Longitude - row.PropertyAddressLongitude)**2 + (chpc.Latitude - row.PropertyAddressLatitude)**2 < eps) & (chpc.Address_Num == row.PropertyHouseNumber)]\n",
    "            chpc_subset['merge_row'] = i\n",
    "            chpc_list.append(chpc_subset)\n",
    "        chpc_found = pd.concat(chpc_list)\n",
    "\n",
    "        result = pd.merge(table, chpc_found, on='merge_row', how='left')\n",
    "        return result\n",
    "    df.to_csv(county+'.csv', sep='|', index=False)\n",
    "    df = pd.read_csv(county+'.csv', sep='|')\n",
    "    chpc_df = merge_euclidean(df, eps=0.0000001)\n",
    "    chpc_df = (chpc_df.dropna(subset=['Longitude', 'Latitude']))\n",
    "    # Going to add subsidez column now\n",
    "    chpc_df = chpc_df[['ImportParcelID']]\n",
    "    chpc_df['Subsidized'] = 'Y'\n",
    "    df = pd.merge(df, chpc_df, on=['ImportParcelID'], how='left')\n",
    "    value = {'Subsidized': 'N'}\n",
    "    df.fillna(value=value, inplace=True)\n",
    "    df.to_csv(county+'_v2.csv', sep='|', index=False)\n",
    "    display(df.head())"
   ]
  },
  {
   "cell_type": "code",
   "execution_count": null,
   "metadata": {},
   "outputs": [
    {
     "name": "stderr",
     "output_type": "stream",
     "text": [
      "/usr/local/linux/anaconda3/lib/python3.5/site-packages/IPython/core/interactiveshell.py:2856: DtypeWarning: Columns (5,14,17,19,22,43,48,51,62,70,73,74,79,102,123) have mixed types. Specify dtype option on import or set low_memory=False.\n",
      "  if self.run_code(code, result):\n",
      "/usr/local/linux/anaconda3/lib/python3.5/site-packages/ipykernel_launcher.py:21: FutureWarning: currently extract(expand=None) means expand=False (return Index/Series/DataFrame) but in a future version of pandas this will be changed to expand=True (return DataFrame)\n",
      "/usr/local/linux/anaconda3/lib/python3.5/site-packages/ipykernel_launcher.py:22: FutureWarning: currently extract(expand=None) means expand=False (return Index/Series/DataFrame) but in a future version of pandas this will be changed to expand=True (return DataFrame)\n",
      "/usr/local/linux/anaconda3/lib/python3.5/site-packages/ipykernel_launcher.py:30: SettingWithCopyWarning: \n",
      "A value is trying to be set on a copy of a slice from a DataFrame.\n",
      "Try using .loc[row_indexer,col_indexer] = value instead\n",
      "\n",
      "See the caveats in the documentation: http://pandas.pydata.org/pandas-docs/stable/indexing.html#indexing-view-versus-copy\n"
     ]
    }
   ],
   "source": [
    "add_subsidized('los_angeles_u', grouped=True, sql=False)"
   ]
  },
  {
   "cell_type": "code",
   "execution_count": 16,
   "metadata": {},
   "outputs": [],
   "source": [
    "def clean_city(county, city):\n",
    "    progress = np.linspace(0, 100, 7)[1:]\n",
    "    df = county[county.PropertyCity == city]\n",
    "    print(str(round(progress[0], 2))+'%', 'current number:', df.NoOfUnits.sum())\n",
    "    # Include only Residentials\n",
    "    df = df[df['PropertyLandUseStndCode'].isin(R)]\n",
    "    print(str(round(progress[1], 2))+'%', 'current number:', df.NoOfUnits.sum())\n",
    "    # Remove vacant\n",
    "    df = df[~df['PropertyCountyLandUseDescription'].str.contains('VAC')]\n",
    "    print(str(round(progress[2], 2))+'%', 'current number:', df.NoOfUnits.sum())\n",
    "    medians = df.groupby('PropertyLandUseStndCode')['NoOfUnits'].median()\n",
    "    import math\n",
    "    def fix_units(r):\n",
    "        code = r['PropertyLandUseStndCode']\n",
    "        units = r['NoOfUnits']\n",
    "        # return median if 0 or NaN\n",
    "        if units == 0.0 or math.isnan(units):\n",
    "            return medians[code]\n",
    "        elif code == 'RI101': # duplex\n",
    "            return 2.0\n",
    "        elif code == 'RI102': # triplex\n",
    "            return 3.0\n",
    "        elif code == 'RI103': # quad\n",
    "            return 4.0\n",
    "        elif code == 'RI104' and units < 5.0:\n",
    "            return medians[code]\n",
    "        elif code == 'RI105' and units < 100.0:\n",
    "            return medians[code]\n",
    "        elif code == 'RI106' and units < 5.0:\n",
    "            return medians[code]\n",
    "        \n",
    "        return r['NoOfUnits']\n",
    "    df['NoOfUnits'] = df.apply(fix_units, axis=1)\n",
    "    print(str(round(progress[3], 2))+'%', 'current number:', df.NoOfUnits.sum())\n",
    "    # Fill nans with 1 for now\n",
    "    value = {'NoOfUnits': 1}\n",
    "    df.fillna(value=value, inplace=True)\n",
    "    print(str(round(progress[4], 2))+'%', 'current number:', df.NoOfUnits.sum())\n",
    "    # Fill 0's with 1 for now\n",
    "    df = df.replace({'NoOfUnits': {0: 1}}) \n",
    "    print(str(round(progress[5], 2))+'%', 'current number:', df.NoOfUnits.sum())"
   ]
  },
  {
   "cell_type": "code",
   "execution_count": 15,
   "metadata": {},
   "outputs": [
    {
     "data": {
      "text/plain": [
       "(51, 135)"
      ]
     },
     "execution_count": 15,
     "metadata": {},
     "output_type": "execute_result"
    }
   ],
   "source": [
    "clean_city(alameda, 'BERKELEY')"
   ]
  },
  {
   "cell_type": "code",
   "execution_count": null,
   "metadata": {},
   "outputs": [],
   "source": []
  }
 ],
 "metadata": {
  "anaconda-cloud": {},
  "kernelspec": {
   "display_name": "Python 3",
   "language": "python",
   "name": "python3"
  },
  "language_info": {
   "codemirror_mode": {
    "name": "ipython",
    "version": 3
   },
   "file_extension": ".py",
   "mimetype": "text/x-python",
   "name": "python",
   "nbconvert_exporter": "python",
   "pygments_lexer": "ipython3",
   "version": "3.5.5"
  }
 },
 "nbformat": 4,
 "nbformat_minor": 2
}
