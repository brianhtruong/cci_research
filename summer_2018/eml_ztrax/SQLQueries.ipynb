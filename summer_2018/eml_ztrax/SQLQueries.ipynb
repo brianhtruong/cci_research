{
 "cells": [
  {
   "cell_type": "code",
   "execution_count": 1,
   "metadata": {},
   "outputs": [
    {
     "data": {
      "text/plain": [
       "\"\\ndf.sort('count', ascending=False).groupby('Mt', as_index=False).first()\\n\""
      ]
     },
     "execution_count": 1,
     "metadata": {},
     "output_type": "execute_result"
    }
   ],
   "source": [
    "# For grouping unique record among different years of a parcel for the newest record.\n",
    "\"\"\"\n",
    "sqlite>\n",
    "create table los_angeles_u as\n",
    "select x.RowID, x.ImportParcelID, x.FIPS, x.State, x.County, x.ValueCertDate, x.ExtractDate, x.Edition, x.ZVendorStndCode, x.AssessorParcelNumber, x.DupAPN, x.ParcelSequenceNumber, x.ParcelNumberTypeStndCode, x.RecordSourceStndCode, x.RecordTypeStndCode, x.ConfidentialRecordFlag, x.PropertyAddressSourceStndCode, x.PropertyHouseNumber, x.PropertyHouseNumberExt, x.PropertyStreetPreDirectional, x.PropertyStreetName, x.PropertyStreetSuffix, x.PropertyStreetPostDirectional, x.PropertyFullStreetAddress, x.PropertyCity, x.PropertyState, x.PropertyZip, x.OriginalPropertyFullStreetAddress, x.OriginalPropertyAddressLastline, x.PropertyBuildingNumber, x.PropertyZoningDescription, x.PropertyZoningSourceCode, x.CensusTract, x.TaxIDNumber, x.TaxAmount, x.TaxYear, x.TaxDelinquencyFlag, x.TaxDelinquencyAmount, x.TaxDelinquencyYear, x.TaxRateCodeArea, x.LegalLot, x.LegalLotStndCode, x.LegalOtherLot, x.LegalBlock, x.LegalSubdivisionCode, x.LegalSubdivisionName, x.LegalCondoProjectPUDDevName, x.LegalBuildingNumber, x.LegalUnit, x.LegalSection, x.LegalPhase, x.LegalTract, x.LegalDistrict, x.LegalMunicipality, x.LegalCity, x.LegalTownship, x.LegalSTRSection, x.LegalSTRTownship, x.LegalSTRRange, x.LegalSTRMeridian, x.LegalSecTwnRngMer, x.LegalRecordersMapReference, x.LegalDescription, x.LegalNeighborhoodSourceCode, x.NoOfBuildings, x.LotSizeAcres, x.LotSizeSquareFeet, x.LotSizeFrontageFeet, x.LotSizeDepthFeet, x.LotSizeIRR, x.LotSiteTopographyStndCode, x.LoadID, x.PropertyAddressMatchcode, x.PropertyAddressUnitDesignator, x.PropertyAddressUnitNumber, x.PropertyAddressCarrierRoute, x.PropertyAddressGeoCodeMatchCode, x.PropertyAddressLatitude, x.PropertyAddressLongitude, x.PropertyAddressCensusTractAndBlock, x.PropertyAddressConfidenceScore, x.PropertyAddressCBSACode, x.PropertyAddressCBSADivisionCode, x.PropertyAddressMatchType, x.PropertyAddressDPV, x.PropertyGeocodeQualityCode, x.PropertyAddressQualityCode, x.SubEdition, x.BatchID, x.BKFSPID, x.RowID, x.NoOfUnits, x.OccupancyStatusStndCode, x.PropertyCountyLandUseDescription, x.PropertyCountyLandUseCode, x.PropertyLandUseStndCode, x.PropertyStateLandUseDescription, x.PropertyStateLandUseCode, x.BuildingOrImprovementNumber, x.BuildingClassStndCode, x.BuildingQualityStndCode, x.BuildingQualityStndCodeOriginal, x.BuildingConditionStndCode, x.ArchitecturalStyleStndCode, x.YearBuilt, x.EffectiveYearBuilt, x.YearRemodeled, x.NoOfStories, x.TotalRooms, x.TotalBedrooms, x.TotalKitchens, x.FullBath, x.ThreeQuarterBath, x.HalfBath, x.QuarterBath, x.TotalActualBathCount, x.BathSourceStndCode, x.TotalBathPlumbingFixtures, x.RoofCoverStndCode, x.RoofStructureTypeStndCode, x.HeatingTypeorSystemStndCode, x.AirConditioningTypeorSystemStndCode, x.FoundationTypeStndCode, x.ElevatorStndCode, x.FireplaceFlag, x.FirePlaceTypeStndCode, x.FireplaceNumber, x.WaterStndCode, x.SewerStndCode, x.MortgageLenderName, x.TimeshareStndCode, x.Comments, x.StoryTypeStndCode\n",
    "from (\n",
    "   select *, max(LoadID) as NewestLoadID\n",
    "   from los_angeles group by ImportParcelID\n",
    ") as x inner join los_angeles as a on a.ImportParcelID = x.ImportParcelID and a.LoadID = x.NewestLoadID;\n",
    "\"\"\""
   ]
  },
  {
   "cell_type": "code",
   "execution_count": null,
   "metadata": {},
   "outputs": [],
   "source": [
    "# for exporting table to csv\n",
    "\"\"\"\n",
    "sqlite> .mode csv\n",
    "sqlite> .output alameda_u.csv\n",
    "sqlite> select * from alameda_u;\n",
    "sqlite> .output stdout\n",
    "\"\"\""
   ]
  }
 ],
 "metadata": {
  "anaconda-cloud": {},
  "kernelspec": {
   "display_name": "Python 3",
   "language": "python",
   "name": "python3"
  },
  "language_info": {
   "codemirror_mode": {
    "name": "ipython",
    "version": 3
   },
   "file_extension": ".py",
   "mimetype": "text/x-python",
   "name": "python",
   "nbconvert_exporter": "python",
   "pygments_lexer": "ipython3",
   "version": "3.5.5"
  }
 },
 "nbformat": 4,
 "nbformat_minor": 2
}
