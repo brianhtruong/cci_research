{
 "cells": [
  {
   "cell_type": "code",
   "execution_count": 1,
   "metadata": {},
   "outputs": [],
   "source": [
    "import numpy as np\n",
    "import matplotlib.pyplot as plt\n",
    "import pandas as pd\n",
    "\n",
    "import seaborn as sns\n",
    "import zipfile\n",
    "%matplotlib inline\n",
    "plt.style.use('fivethirtyeight')\n",
    "sns.set()\n",
    "\n",
    "sns.set_context(\"talk\")\n",
    "import re\n",
    "\n",
    "# Ensure that Pandas shows at least 100 characters in columns\n",
    "pd.set_option('max_colwidth', 100)\n",
    "pd.set_option('display.max_columns', None)\n",
    "\n",
    "from pathlib import Path\n",
    "\n",
    "# SQL\n",
    "import sqlalchemy"
   ]
  },
  {
   "cell_type": "code",
   "execution_count": 3,
   "metadata": {},
   "outputs": [
    {
     "ename": "AttributeError",
     "evalue": "'function' object has no attribute 'text_factory'",
     "output_type": "error",
     "traceback": [
      "\u001b[0;31m---------------------------------------------------------------------------\u001b[0m",
      "\u001b[0;31mAttributeError\u001b[0m                            Traceback (most recent call last)",
      "\u001b[0;32m<ipython-input-3-7a8ba3fe8b0e>\u001b[0m in \u001b[0;36m<module>\u001b[0;34m()\u001b[0m\n\u001b[1;32m      7\u001b[0m \u001b[0msqlite_uri\u001b[0m \u001b[0;34m=\u001b[0m \u001b[0;34m\"sqlite:///ZMainBldg.sqlite\"\u001b[0m\u001b[0;34m\u001b[0m\u001b[0m\n\u001b[1;32m      8\u001b[0m \u001b[0msqlite_engine\u001b[0m \u001b[0;34m=\u001b[0m \u001b[0msqlalchemy\u001b[0m\u001b[0;34m.\u001b[0m\u001b[0mcreate_engine\u001b[0m\u001b[0;34m(\u001b[0m\u001b[0msqlite_uri\u001b[0m\u001b[0;34m)\u001b[0m\u001b[0;34m\u001b[0m\u001b[0m\n\u001b[0;32m----> 9\u001b[0;31m \u001b[0msqlite_engine\u001b[0m\u001b[0;34m.\u001b[0m\u001b[0mconnect\u001b[0m\u001b[0;34m.\u001b[0m\u001b[0mtext_factory\u001b[0m\u001b[0;34m\u001b[0m\u001b[0m\n\u001b[0m",
      "\u001b[0;31mAttributeError\u001b[0m: 'function' object has no attribute 'text_factory'"
     ]
    }
   ],
   "source": [
    "# Connect to a local SQLite database. SQLite is a simple file oriented database management \"library.\" \n",
    "# in the following we launch a SQLite database stored in the .sqlite file.\n",
    "dbfile = Path(\"ZMainBldg.sqlite\")\n",
    "#if dbfile.exists():\n",
    "    #dbfile.unlink()\n",
    "\n",
    "sqlite_uri = \"sqlite:///ZMainBldg.sqlite\"\n",
    "sqlite_engine = sqlalchemy.create_engine(sqlite_uri)\n",
    "sqlite_engine."
   ]
  },
  {
   "cell_type": "code",
   "execution_count": null,
   "metadata": {},
   "outputs": [],
   "source": [
    "# CREATE TABLE alameda AS SELECT * FROM main_bldg WHERE County='ALAMEDA';\n",
    "sqlite_uri = \"sqlite:///ZCountyExtracts.sqlite\"\n",
    "zce_engine = sqlalchemy.create_engine(sqlite_uri)"
   ]
  },
  {
   "cell_type": "code",
   "execution_count": null,
   "metadata": {},
   "outputs": [],
   "source": [
    "# Check tables\n",
    "sqlite_engine.table_names()"
   ]
  },
  {
   "cell_type": "code",
   "execution_count": null,
   "metadata": {},
   "outputs": [],
   "source": [
    "sql_expr = \"\"\"\n",
    "SELECT * FROM main_bldg WHERE County = 'Los Angeles' LIMIT 2;\n",
    "\"\"\"\n",
    "\n",
    "alameda = pd.read_sql(sql_expr, sqlite_engine)\n",
    "alameda.head()"
   ]
  },
  {
   "cell_type": "code",
   "execution_count": null,
   "metadata": {},
   "outputs": [],
   "source": [
    "# Work on sample table for now. sample contains a Simple Random Sample of main_bldg of size 100,000\n",
    "sql_expr = \"\"\"\n",
    "SELECT * FROM sample\n",
    "GROUP BY ImportParcelID;\n",
    "\"\"\"\n",
    "sample = pd.read_sql(sql_expr, sqlite_engine)\n",
    "sample.head()"
   ]
  },
  {
   "cell_type": "code",
   "execution_count": null,
   "metadata": {},
   "outputs": [],
   "source": [
    "# 100000\n",
    "len(sample)"
   ]
  },
  {
   "cell_type": "code",
   "execution_count": null,
   "metadata": {},
   "outputs": [],
   "source": [
    "# Number of sample Alameda records\n",
    "len(sample[sample['County'] == 'ALAMEDA'])"
   ]
  },
  {
   "cell_type": "code",
   "execution_count": null,
   "metadata": {},
   "outputs": [],
   "source": [
    "# Get cities from JC RC Inventory\n",
    "cities = list(pd.read_excel('jc_rc.xlsx')['Unnamed: 0'].values[1:-1])\n",
    "cities"
   ]
  },
  {
   "cell_type": "code",
   "execution_count": null,
   "metadata": {},
   "outputs": [],
   "source": [
    "zce_engine.table_names()"
   ]
  },
  {
   "cell_type": "code",
   "execution_count": null,
   "metadata": {},
   "outputs": [],
   "source": [
    "alameda = alameda.groupby('ImportParcelID', as_index=False).first()"
   ]
  },
  {
   "cell_type": "code",
   "execution_count": null,
   "metadata": {},
   "outputs": [],
   "source": [
    "# Number of Alameda records\n",
    "len(alameda)"
   ]
  },
  {
   "cell_type": "code",
   "execution_count": null,
   "metadata": {},
   "outputs": [],
   "source": [
    "# All the cities\n",
    "alameda['PropertyCity'].value_counts()"
   ]
  },
  {
   "cell_type": "code",
   "execution_count": null,
   "metadata": {},
   "outputs": [],
   "source": [
    "# New length\n",
    "len(alameda)"
   ]
  },
  {
   "cell_type": "code",
   "execution_count": null,
   "metadata": {},
   "outputs": [],
   "source": [
    "alameda['PropertyCity'].value_counts()"
   ]
  },
  {
   "cell_type": "code",
   "execution_count": null,
   "metadata": {},
   "outputs": [],
   "source": [
    "# Load CHPC which will help determine if property is subsidized\n",
    "chpc = pd.read_excel('chpc.xls', sheet_name='Cleaned')"
   ]
  },
  {
   "cell_type": "code",
   "execution_count": null,
   "metadata": {},
   "outputs": [],
   "source": [
    "chpc.head(1)"
   ]
  },
  {
   "cell_type": "code",
   "execution_count": null,
   "metadata": {},
   "outputs": [],
   "source": [
    "# Compare Address numbers and name \n",
    "chpc['Address_Num'] = chpc['Address_Cleaned'].str.extract(r'(\\d+)')\n",
    "chpc['Address_Name'] = chpc['Address_Cleaned'].str.extract(r'([^\\d,-]\\w+)').str.upper()\n",
    "chpc.head(1)"
   ]
  },
  {
   "cell_type": "code",
   "execution_count": null,
   "metadata": {},
   "outputs": [],
   "source": [
    "# Merge based on euclidean distance\n",
    "chpc = chpc.dropna(subset=['Longitude', 'Latitude'])\n",
    "def merge_euclidean(table, eps=0.01):\n",
    "    chpc_list = []\n",
    "    table['merge_row'] = table.index.values\n",
    "    for i, row in table.iterrows():\n",
    "        chpc_subset = chpc.loc[((chpc.Longitude - row.PropertyAddressLongitude)**2 + (chpc.Latitude - row.PropertyAddressLatitude)**2 < eps) & (chpc.Address_Num == row.PropertyHouseNumber)]\n",
    "        chpc_subset['merge_row'] = i\n",
    "        chpc_list.append(chpc_subset)\n",
    "    chpc_found = pd.concat(chpc_list)\n",
    "\n",
    "    result = pd.merge(table, chpc_found, on='merge_row', how='left')\n",
    "    return result"
   ]
  },
  {
   "cell_type": "code",
   "execution_count": null,
   "metadata": {},
   "outputs": [],
   "source": [
    "# Fix dtype for merging\n",
    "sample.to_csv('sample.csv', sep='|', index=False)\n",
    "sample = pd.read_csv('sample.csv', sep='|')\n",
    "alameda.to_csv('alameda.csv', sep='|', index=False)\n",
    "alameda = pd.read_csv('alameda.csv', sep='|')"
   ]
  },
  {
   "cell_type": "code",
   "execution_count": null,
   "metadata": {},
   "outputs": [],
   "source": [
    "alameda.head(1)"
   ]
  },
  {
   "cell_type": "code",
   "execution_count": null,
   "metadata": {
    "scrolled": false
   },
   "outputs": [],
   "source": [
    "chpc_alameda = merge_euclidean(alameda, eps=0.0000001)"
   ]
  },
  {
   "cell_type": "code",
   "execution_count": null,
   "metadata": {
    "scrolled": false
   },
   "outputs": [],
   "source": [
    "len(chpc_alameda)"
   ]
  },
  {
   "cell_type": "code",
   "execution_count": null,
   "metadata": {},
   "outputs": [],
   "source": [
    "chpc_alameda = (chpc_alameda.dropna(subset=['Longitude', 'Latitude']))"
   ]
  },
  {
   "cell_type": "code",
   "execution_count": null,
   "metadata": {},
   "outputs": [],
   "source": [
    "display(chpc_alameda.head())\n",
    "print(len(chpc_alameda))"
   ]
  },
  {
   "cell_type": "code",
   "execution_count": null,
   "metadata": {},
   "outputs": [],
   "source": [
    "# Going to add subsidez column now\n",
    "chpc_alameda = chpc_alameda[['ImportParcelID']]\n",
    "chpc_alameda['Subsidized'] = 'Y'"
   ]
  },
  {
   "cell_type": "code",
   "execution_count": null,
   "metadata": {},
   "outputs": [],
   "source": [
    "alameda = pd.merge(alameda, chpc_alameda, on=['ImportParcelID'], how='left')"
   ]
  },
  {
   "cell_type": "code",
   "execution_count": null,
   "metadata": {},
   "outputs": [],
   "source": [
    "value = {'Subsidized': 'N'}\n",
    "alameda.fillna(value=value, inplace=True)\n",
    "alameda.head()"
   ]
  },
  {
   "cell_type": "code",
   "execution_count": null,
   "metadata": {},
   "outputs": [],
   "source": [
    "alameda.to_csv('alameda_v2.csv', sep='|', index=False)"
   ]
  },
  {
   "cell_type": "code",
   "execution_count": null,
   "metadata": {
    "scrolled": false
   },
   "outputs": [],
   "source": [
    "len(alameda[alameda['Subsidized']=='Y'])"
   ]
  },
  {
   "cell_type": "code",
   "execution_count": null,
   "metadata": {},
   "outputs": [],
   "source": [
    "a"
   ]
  }
 ],
 "metadata": {
  "anaconda-cloud": {},
  "kernelspec": {
   "display_name": "Python 3",
   "language": "python",
   "name": "python3"
  },
  "language_info": {
   "codemirror_mode": {
    "name": "ipython",
    "version": 3
   },
   "file_extension": ".py",
   "mimetype": "text/x-python",
   "name": "python",
   "nbconvert_exporter": "python",
   "pygments_lexer": "ipython3",
   "version": "3.5.4"
  }
 },
 "nbformat": 4,
 "nbformat_minor": 2
}
